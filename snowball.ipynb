{
 "cells": [
  {
   "cell_type": "code",
   "execution_count": 1,
   "metadata": {},
   "outputs": [],
   "source": [
    "from collections import OrderedDict\n",
    "from datetime import datetime\n",
    "\n",
    "import pandas as pd\n",
    "import numpy as np\n",
    "\n",
    "from IPython.display import Markdown, display\n",
    "\n",
    "def printmd(string):\n",
    "    display(Markdown(string))"
   ]
  },
  {
   "cell_type": "markdown",
   "metadata": {},
   "source": [
    "### Force payments\n",
    "\n",
    "Pay all my bills except the soon expirements."
   ]
  },
  {
   "cell_type": "code",
   "execution_count": 2,
   "metadata": {},
   "outputs": [],
   "source": [
    "bills = {\"Synchrony Computer\": {\"due_day\": (23, 15), \"starting_balance\": 1275.57, \"minimum_payment\": 25, \"expire_promo\": datetime.strptime(\"04/30/2018\", '%m/%d/%Y'), \"showball\": True, \"paid_off\":False},\n",
    "         \"Chase Mary Kay\": {\"due_day\": (12, 30), \"starting_balance\": 1101.97, \"minimum_payment\": 25, \"expire_promo\": datetime.strptime(\"7/15/2018\", '%m/%d/%Y'), \"showball\": True, \"paid_off\":False},\n",
    "         \"Home depot Door/Fans\": {\"due_day\": (18, 15), \"starting_balance\": 1066.67, \"minimum_payment\": 25, \"expire_promo\":datetime.strptime(\"10/18/2018\", '%m/%d/%Y'), \"showball\": True, \"paid_off\":False},\n",
    "         \"Citi Card Hard Drives\": {\"due_day\": (17, 15), \"starting_balance\": 1307.33, \"minimum_payment\": 25, \"expire_promo\":datetime.strptime(\"12/14/2018\", '%m/%d/%Y'), \"showball\": True, \"paid_off\":False},\n",
    "         \"WellsFargo Computer\": {\"due_day\": (18, 15), \"starting_balance\": 1313.31, \"minimum_payment\": 63.65, \"expire_promo\":datetime.strptime(\"2/21/2019\", '%m/%d/%Y'), \"showball\": True, \"paid_off\":False},\n",
    "         \"WellsFargo A/C\": {\"due_day\":(8, 30), \"starting_balance\": 5884.56, \"minimum_payment\": 257, \"expire_promo\":datetime.strptime(\"1/30/2020\", '%m/%d/%Y'), \"showball\": True, \"paid_off\":False},\n",
    "         \"Synchrony Bank Home Zone\": {\"due_day\": (15, 15), \"starting_balance\": 3612.73, \"minimum_payment\": 85, \"expire_promo\":datetime.strptime( \"7/3/2021\", '%m/%d/%Y'), \"showball\": True, \"paid_off\":False},\n",
    "         \"House Payment\": {\"due_day\": (1, 30), \"starting_balance\": 84509.45, \"minimum_payment\": 1479.38, \"expire_promo\":datetime.strptime( \"2/1/2032\", '%m/%d/%Y'), \"showball\": True, \"paid_off\":False},\n",
    "         \"EF Tours Nina\": {\"due_day\": (15, 15), \"starting_balance\": 2450, \"minimum_payment\": 490, \"expire_promo\":datetime.strptime( \"6/15/2018\", '%m/%d/%Y'), \"showball\": False, \"paid_off\":False},\n",
    "         \"EF Tours Lena\": {\"due_day\": (15, 15), \"starting_balance\": 2450, \"minimum_payment\": 436, \"expire_promo\":datetime.strptime( \"6/15/2018\", '%m/%d/%Y'), \"showball\": False, \"paid_off\":False},\n",
    "         \"Self_pay\": {\"due_day\": (15, (15, 30)), \"starting_balance\": 5000, \"minimum_payment\": 10, \"expire_promo\":datetime.strptime( \"1/15/2099\", '%m/%d/%Y'), \"showball\": False, \"paid_off\":False},\n",
    "         \"Home depot Door/lights\": {\"due_day\": (18, 15), \"starting_balance\": 1066.67, \"minimum_payment\": 25, \"expire_promo\":datetime.strptime(\"10/18/2018\", '%m/%d/%Y'), \"showball\": True, \"paid_off\":False}\n",
    "        }\n",
    "\n",
    "savings = {\"balance\": 0}\n",
    "forced_payment = {}\n",
    "\n",
    "bills = OrderedDict(sorted(bills.items(), key=lambda x: x[1]['expire_promo'], reverse=False))\n",
    "\n",
    "for key in bills:\n",
    "    bills[key][\"balance\"] = [bills[key][\"starting_balance\"]]\n",
    "    \n",
    "\n",
    "start = datetime(2018, 1, 20)\n",
    "periods = 60\n",
    "\n",
    "paydays = pd.date_range(start, periods = periods, freq=\"SM-15\")\n",
    "dates = pd.date_range(start, periods = periods + 1, freq=\"SM-15\")\n"
   ]
  },
  {
   "cell_type": "code",
   "execution_count": 3,
   "metadata": {
    "scrolled": true
   },
   "outputs": [
    {
     "data": {
      "text/plain": [
       "OrderedDict([('Synchrony Computer',\n",
       "              {'balance': [1275.57],\n",
       "               'due_day': (23, 15),\n",
       "               'expire_promo': datetime.datetime(2018, 4, 30, 0, 0),\n",
       "               'minimum_payment': 25,\n",
       "               'paid_off': False,\n",
       "               'showball': True,\n",
       "               'starting_balance': 1275.57}),\n",
       "             ('EF Tours Nina',\n",
       "              {'balance': [2450],\n",
       "               'due_day': (15, 15),\n",
       "               'expire_promo': datetime.datetime(2018, 6, 15, 0, 0),\n",
       "               'minimum_payment': 490,\n",
       "               'paid_off': False,\n",
       "               'showball': False,\n",
       "               'starting_balance': 2450}),\n",
       "             ('EF Tours Lena',\n",
       "              {'balance': [2450],\n",
       "               'due_day': (15, 15),\n",
       "               'expire_promo': datetime.datetime(2018, 6, 15, 0, 0),\n",
       "               'minimum_payment': 436,\n",
       "               'paid_off': False,\n",
       "               'showball': False,\n",
       "               'starting_balance': 2450}),\n",
       "             ('Chase Mary Kay',\n",
       "              {'balance': [1101.97],\n",
       "               'due_day': (12, 30),\n",
       "               'expire_promo': datetime.datetime(2018, 7, 15, 0, 0),\n",
       "               'minimum_payment': 25,\n",
       "               'paid_off': False,\n",
       "               'showball': True,\n",
       "               'starting_balance': 1101.97}),\n",
       "             ('Home depot Door/Fans',\n",
       "              {'balance': [1066.67],\n",
       "               'due_day': (18, 15),\n",
       "               'expire_promo': datetime.datetime(2018, 10, 18, 0, 0),\n",
       "               'minimum_payment': 25,\n",
       "               'paid_off': False,\n",
       "               'showball': True,\n",
       "               'starting_balance': 1066.67}),\n",
       "             ('Home depot Door/lights',\n",
       "              {'balance': [1066.67],\n",
       "               'due_day': (18, 15),\n",
       "               'expire_promo': datetime.datetime(2018, 10, 18, 0, 0),\n",
       "               'minimum_payment': 25,\n",
       "               'paid_off': False,\n",
       "               'showball': True,\n",
       "               'starting_balance': 1066.67}),\n",
       "             ('Citi Card Hard Drives',\n",
       "              {'balance': [1307.33],\n",
       "               'due_day': (17, 15),\n",
       "               'expire_promo': datetime.datetime(2018, 12, 14, 0, 0),\n",
       "               'minimum_payment': 25,\n",
       "               'paid_off': False,\n",
       "               'showball': True,\n",
       "               'starting_balance': 1307.33}),\n",
       "             ('WellsFargo Computer',\n",
       "              {'balance': [1313.31],\n",
       "               'due_day': (18, 15),\n",
       "               'expire_promo': datetime.datetime(2019, 2, 21, 0, 0),\n",
       "               'minimum_payment': 63.65,\n",
       "               'paid_off': False,\n",
       "               'showball': True,\n",
       "               'starting_balance': 1313.31}),\n",
       "             ('WellsFargo A/C',\n",
       "              {'balance': [5884.56],\n",
       "               'due_day': (8, 30),\n",
       "               'expire_promo': datetime.datetime(2020, 1, 30, 0, 0),\n",
       "               'minimum_payment': 257,\n",
       "               'paid_off': False,\n",
       "               'showball': True,\n",
       "               'starting_balance': 5884.56}),\n",
       "             ('Synchrony Bank Home Zone',\n",
       "              {'balance': [3612.73],\n",
       "               'due_day': (15, 15),\n",
       "               'expire_promo': datetime.datetime(2021, 7, 3, 0, 0),\n",
       "               'minimum_payment': 85,\n",
       "               'paid_off': False,\n",
       "               'showball': True,\n",
       "               'starting_balance': 3612.73}),\n",
       "             ('House Payment',\n",
       "              {'balance': [84509.45],\n",
       "               'due_day': (1, 30),\n",
       "               'expire_promo': datetime.datetime(2032, 2, 1, 0, 0),\n",
       "               'minimum_payment': 1479.38,\n",
       "               'paid_off': False,\n",
       "               'showball': True,\n",
       "               'starting_balance': 84509.45}),\n",
       "             ('Self_pay',\n",
       "              {'balance': [5000],\n",
       "               'due_day': (15, (15, 30)),\n",
       "               'expire_promo': datetime.datetime(2099, 1, 15, 0, 0),\n",
       "               'minimum_payment': 10,\n",
       "               'paid_off': False,\n",
       "               'showball': False,\n",
       "               'starting_balance': 5000})])"
      ]
     },
     "execution_count": 3,
     "metadata": {},
     "output_type": "execute_result"
    }
   ],
   "source": [
    "bills"
   ]
  },
  {
   "cell_type": "code",
   "execution_count": 4,
   "metadata": {},
   "outputs": [
    {
     "data": {
      "text/plain": [
       "DatetimeIndex(['2018-01-31', '2018-02-15', '2018-02-28', '2018-03-15',\n",
       "               '2018-03-31', '2018-04-15', '2018-04-30', '2018-05-15',\n",
       "               '2018-05-31', '2018-06-15', '2018-06-30', '2018-07-15',\n",
       "               '2018-07-31', '2018-08-15', '2018-08-31', '2018-09-15',\n",
       "               '2018-09-30', '2018-10-15', '2018-10-31', '2018-11-15',\n",
       "               '2018-11-30', '2018-12-15', '2018-12-31', '2019-01-15',\n",
       "               '2019-01-31', '2019-02-15', '2019-02-28', '2019-03-15',\n",
       "               '2019-03-31', '2019-04-15', '2019-04-30', '2019-05-15',\n",
       "               '2019-05-31', '2019-06-15', '2019-06-30', '2019-07-15',\n",
       "               '2019-07-31', '2019-08-15', '2019-08-31', '2019-09-15',\n",
       "               '2019-09-30', '2019-10-15', '2019-10-31', '2019-11-15',\n",
       "               '2019-11-30', '2019-12-15', '2019-12-31', '2020-01-15',\n",
       "               '2020-01-31', '2020-02-15', '2020-02-29', '2020-03-15',\n",
       "               '2020-03-31', '2020-04-15', '2020-04-30', '2020-05-15',\n",
       "               '2020-05-31', '2020-06-15', '2020-06-30', '2020-07-15'],\n",
       "              dtype='datetime64[ns]', freq='SM-15')"
      ]
     },
     "execution_count": 4,
     "metadata": {},
     "output_type": "execute_result"
    }
   ],
   "source": [
    "paydays"
   ]
  },
  {
   "cell_type": "code",
   "execution_count": 5,
   "metadata": {
    "scrolled": false
   },
   "outputs": [
    {
     "name": "stdout",
     "output_type": "stream",
     "text": [
      "Pay period of 2018-01-31 00:00:00\n"
     ]
    },
    {
     "data": {
      "text/markdown": [
       "We paid Chase Mary Kay  **25** $. The new reamining balance is 1076.97 pay left 1875.0"
      ],
      "text/plain": [
       "<IPython.core.display.Markdown object>"
      ]
     },
     "metadata": {},
     "output_type": "display_data"
    },
    {
     "data": {
      "text/markdown": [
       "We paid WellsFargo A/C  **257** $. The new reamining balance is 5627.56 pay left 1618.0"
      ],
      "text/plain": [
       "<IPython.core.display.Markdown object>"
      ]
     },
     "metadata": {},
     "output_type": "display_data"
    },
    {
     "data": {
      "text/markdown": [
       "We paid House Payment  **939.69** $. The new reamining balance is 83569.76 pay left 678.31"
      ],
      "text/plain": [
       "<IPython.core.display.Markdown object>"
      ]
     },
     "metadata": {},
     "output_type": "display_data"
    },
    {
     "data": {
      "text/markdown": [
       "We paid Self_pay  **10** $. The new reamining balance is 4990 pay left 668.31"
      ],
      "text/plain": [
       "<IPython.core.display.Markdown object>"
      ]
     },
     "metadata": {},
     "output_type": "display_data"
    },
    {
     "data": {
      "text/markdown": [
       "the amount of remaining pay is 668.31 "
      ],
      "text/plain": [
       "<IPython.core.display.Markdown object>"
      ]
     },
     "metadata": {},
     "output_type": "display_data"
    },
    {
     "data": {
      "text/markdown": [
       "#### extra payment of 668.31 was applied to Synchrony Computer and the new balance is 607.26"
      ],
      "text/plain": [
       "<IPython.core.display.Markdown object>"
      ]
     },
     "metadata": {},
     "output_type": "display_data"
    },
    {
     "name": "stdout",
     "output_type": "stream",
     "text": [
      "Pay period of 2018-02-15 00:00:00\n"
     ]
    },
    {
     "data": {
      "text/markdown": [
       "We paid Synchrony Computer  **25** $. The new reamining balance is 582.26 pay left 1875.0"
      ],
      "text/plain": [
       "<IPython.core.display.Markdown object>"
      ]
     },
     "metadata": {},
     "output_type": "display_data"
    },
    {
     "data": {
      "text/markdown": [
       "We paid EF Tours Nina  **490** $. The new reamining balance is 1960 pay left 1385.0"
      ],
      "text/plain": [
       "<IPython.core.display.Markdown object>"
      ]
     },
     "metadata": {},
     "output_type": "display_data"
    },
    {
     "data": {
      "text/markdown": [
       "We paid EF Tours Lena  **436** $. The new reamining balance is 2014 pay left 949.0"
      ],
      "text/plain": [
       "<IPython.core.display.Markdown object>"
      ]
     },
     "metadata": {},
     "output_type": "display_data"
    },
    {
     "data": {
      "text/markdown": [
       "We paid Home depot Door/Fans  **350** $. The new reamining balance is 716.6700000000001 pay left 599.0"
      ],
      "text/plain": [
       "<IPython.core.display.Markdown object>"
      ]
     },
     "metadata": {},
     "output_type": "display_data"
    },
    {
     "data": {
      "text/markdown": [
       "We paid Home depot Door/lights  **25** $. The new reamining balance is 1041.67 pay left 574.0"
      ],
      "text/plain": [
       "<IPython.core.display.Markdown object>"
      ]
     },
     "metadata": {},
     "output_type": "display_data"
    },
    {
     "data": {
      "text/markdown": [
       "We paid Citi Card Hard Drives  **25** $. The new reamining balance is 1282.33 pay left 549.0"
      ],
      "text/plain": [
       "<IPython.core.display.Markdown object>"
      ]
     },
     "metadata": {},
     "output_type": "display_data"
    },
    {
     "data": {
      "text/markdown": [
       "We paid WellsFargo Computer  **63.65** $. The new reamining balance is 1249.6599999999999 pay left 485.35"
      ],
      "text/plain": [
       "<IPython.core.display.Markdown object>"
      ]
     },
     "metadata": {},
     "output_type": "display_data"
    },
    {
     "data": {
      "text/markdown": [
       "We paid Synchrony Bank Home Zone  **85** $. The new reamining balance is 3527.73 pay left 400.35"
      ],
      "text/plain": [
       "<IPython.core.display.Markdown object>"
      ]
     },
     "metadata": {},
     "output_type": "display_data"
    },
    {
     "data": {
      "text/markdown": [
       "We paid Self_pay  **10** $. The new reamining balance is 4980 pay left 390.35"
      ],
      "text/plain": [
       "<IPython.core.display.Markdown object>"
      ]
     },
     "metadata": {},
     "output_type": "display_data"
    },
    {
     "data": {
      "text/markdown": [
       "the amount of remaining pay is 390.35 "
      ],
      "text/plain": [
       "<IPython.core.display.Markdown object>"
      ]
     },
     "metadata": {},
     "output_type": "display_data"
    },
    {
     "data": {
      "text/markdown": [
       "#### extra payment of 390.35 was applied to Synchrony Computer and the new balance is 191.90999999999997"
      ],
      "text/plain": [
       "<IPython.core.display.Markdown object>"
      ]
     },
     "metadata": {},
     "output_type": "display_data"
    },
    {
     "name": "stdout",
     "output_type": "stream",
     "text": [
      "Pay period of 2018-02-28 00:00:00\n"
     ]
    },
    {
     "data": {
      "text/markdown": [
       "We paid Chase Mary Kay  **25** $. The new reamining balance is 1051.97 pay left 1875.0"
      ],
      "text/plain": [
       "<IPython.core.display.Markdown object>"
      ]
     },
     "metadata": {},
     "output_type": "display_data"
    },
    {
     "data": {
      "text/markdown": [
       "We paid WellsFargo A/C  **257** $. The new reamining balance is 5370.56 pay left 1618.0"
      ],
      "text/plain": [
       "<IPython.core.display.Markdown object>"
      ]
     },
     "metadata": {},
     "output_type": "display_data"
    },
    {
     "data": {
      "text/markdown": [
       "We paid House Payment  **1479.38** $. The new reamining balance is 82090.37999999999 pay left 138.6199999999999"
      ],
      "text/plain": [
       "<IPython.core.display.Markdown object>"
      ]
     },
     "metadata": {},
     "output_type": "display_data"
    },
    {
     "data": {
      "text/markdown": [
       "We paid Self_pay  **10** $. The new reamining balance is 4970 pay left 128.6199999999999"
      ],
      "text/plain": [
       "<IPython.core.display.Markdown object>"
      ]
     },
     "metadata": {},
     "output_type": "display_data"
    },
    {
     "data": {
      "text/markdown": [
       "the amount of remaining pay is 128.6199999999999 "
      ],
      "text/plain": [
       "<IPython.core.display.Markdown object>"
      ]
     },
     "metadata": {},
     "output_type": "display_data"
    },
    {
     "data": {
      "text/markdown": [
       "#### extra payment of 128.6199999999999 was applied to Synchrony Computer and the new balance is 63.29000000000008"
      ],
      "text/plain": [
       "<IPython.core.display.Markdown object>"
      ]
     },
     "metadata": {},
     "output_type": "display_data"
    },
    {
     "name": "stdout",
     "output_type": "stream",
     "text": [
      "Pay period of 2018-03-15 00:00:00\n"
     ]
    },
    {
     "data": {
      "text/markdown": [
       "We paid Synchrony Computer  **25** $. The new reamining balance is 38.29000000000008 pay left 1875.0"
      ],
      "text/plain": [
       "<IPython.core.display.Markdown object>"
      ]
     },
     "metadata": {},
     "output_type": "display_data"
    },
    {
     "data": {
      "text/markdown": [
       "We paid EF Tours Nina  **490** $. The new reamining balance is 1470 pay left 1385.0"
      ],
      "text/plain": [
       "<IPython.core.display.Markdown object>"
      ]
     },
     "metadata": {},
     "output_type": "display_data"
    },
    {
     "data": {
      "text/markdown": [
       "We paid EF Tours Lena  **436** $. The new reamining balance is 1578 pay left 949.0"
      ],
      "text/plain": [
       "<IPython.core.display.Markdown object>"
      ]
     },
     "metadata": {},
     "output_type": "display_data"
    },
    {
     "data": {
      "text/markdown": [
       "We paid Home depot Door/Fans  **25** $. The new reamining balance is 691.6700000000001 pay left 924.0"
      ],
      "text/plain": [
       "<IPython.core.display.Markdown object>"
      ]
     },
     "metadata": {},
     "output_type": "display_data"
    },
    {
     "data": {
      "text/markdown": [
       "We paid Home depot Door/lights  **25** $. The new reamining balance is 1016.6700000000001 pay left 899.0"
      ],
      "text/plain": [
       "<IPython.core.display.Markdown object>"
      ]
     },
     "metadata": {},
     "output_type": "display_data"
    },
    {
     "data": {
      "text/markdown": [
       "We paid Citi Card Hard Drives  **25** $. The new reamining balance is 1257.33 pay left 874.0"
      ],
      "text/plain": [
       "<IPython.core.display.Markdown object>"
      ]
     },
     "metadata": {},
     "output_type": "display_data"
    },
    {
     "data": {
      "text/markdown": [
       "We paid WellsFargo Computer  **63.65** $. The new reamining balance is 1186.0099999999998 pay left 810.35"
      ],
      "text/plain": [
       "<IPython.core.display.Markdown object>"
      ]
     },
     "metadata": {},
     "output_type": "display_data"
    },
    {
     "data": {
      "text/markdown": [
       "We paid Synchrony Bank Home Zone  **85** $. The new reamining balance is 3442.73 pay left 725.35"
      ],
      "text/plain": [
       "<IPython.core.display.Markdown object>"
      ]
     },
     "metadata": {},
     "output_type": "display_data"
    },
    {
     "data": {
      "text/markdown": [
       "We paid Self_pay  **10** $. The new reamining balance is 4960 pay left 715.35"
      ],
      "text/plain": [
       "<IPython.core.display.Markdown object>"
      ]
     },
     "metadata": {},
     "output_type": "display_data"
    },
    {
     "data": {
      "text/markdown": [
       "the amount of remaining pay is 715.35 "
      ],
      "text/plain": [
       "<IPython.core.display.Markdown object>"
      ]
     },
     "metadata": {},
     "output_type": "display_data"
    },
    {
     "data": {
      "text/markdown": [
       "#### extra payment of 38.29000000000008 was applied to Synchrony Computer and the new balance is 0.0"
      ],
      "text/plain": [
       "<IPython.core.display.Markdown object>"
      ]
     },
     "metadata": {},
     "output_type": "display_data"
    },
    {
     "data": {
      "text/markdown": [
       "## payoff bill Synchrony Computer"
      ],
      "text/plain": [
       "<IPython.core.display.Markdown object>"
      ]
     },
     "metadata": {},
     "output_type": "display_data"
    },
    {
     "data": {
      "text/markdown": [
       "#### extra payment of 677.06 was applied to Chase Mary Kay and the new balance is 374.9100000000001"
      ],
      "text/plain": [
       "<IPython.core.display.Markdown object>"
      ]
     },
     "metadata": {},
     "output_type": "display_data"
    },
    {
     "name": "stdout",
     "output_type": "stream",
     "text": [
      "Pay period of 2018-03-31 00:00:00\n"
     ]
    },
    {
     "data": {
      "text/markdown": [
       "We paid Chase Mary Kay  **25** $. The new reamining balance is 349.9100000000001 pay left 1875.0"
      ],
      "text/plain": [
       "<IPython.core.display.Markdown object>"
      ]
     },
     "metadata": {},
     "output_type": "display_data"
    },
    {
     "data": {
      "text/markdown": [
       "We paid WellsFargo A/C  **257** $. The new reamining balance is 5113.56 pay left 1618.0"
      ],
      "text/plain": [
       "<IPython.core.display.Markdown object>"
      ]
     },
     "metadata": {},
     "output_type": "display_data"
    },
    {
     "data": {
      "text/markdown": [
       "We paid House Payment  **1479.38** $. The new reamining balance is 80610.99999999999 pay left 138.6199999999999"
      ],
      "text/plain": [
       "<IPython.core.display.Markdown object>"
      ]
     },
     "metadata": {},
     "output_type": "display_data"
    },
    {
     "data": {
      "text/markdown": [
       "We paid Self_pay  **10** $. The new reamining balance is 4950 pay left 128.6199999999999"
      ],
      "text/plain": [
       "<IPython.core.display.Markdown object>"
      ]
     },
     "metadata": {},
     "output_type": "display_data"
    },
    {
     "data": {
      "text/markdown": [
       "the amount of remaining pay is 128.6199999999999 "
      ],
      "text/plain": [
       "<IPython.core.display.Markdown object>"
      ]
     },
     "metadata": {},
     "output_type": "display_data"
    },
    {
     "data": {
      "text/markdown": [
       "#### extra payment of 128.6199999999999 was applied to Chase Mary Kay and the new balance is 221.2900000000002"
      ],
      "text/plain": [
       "<IPython.core.display.Markdown object>"
      ]
     },
     "metadata": {},
     "output_type": "display_data"
    },
    {
     "name": "stdout",
     "output_type": "stream",
     "text": [
      "Pay period of 2018-04-15 00:00:00\n"
     ]
    },
    {
     "data": {
      "text/markdown": [
       "We paid EF Tours Nina  **490** $. The new reamining balance is 980 pay left 1410.0"
      ],
      "text/plain": [
       "<IPython.core.display.Markdown object>"
      ]
     },
     "metadata": {},
     "output_type": "display_data"
    },
    {
     "data": {
      "text/markdown": [
       "We paid EF Tours Lena  **436** $. The new reamining balance is 1142 pay left 974.0"
      ],
      "text/plain": [
       "<IPython.core.display.Markdown object>"
      ]
     },
     "metadata": {},
     "output_type": "display_data"
    },
    {
     "data": {
      "text/markdown": [
       "We paid Home depot Door/Fans  **25** $. The new reamining balance is 666.6700000000001 pay left 949.0"
      ],
      "text/plain": [
       "<IPython.core.display.Markdown object>"
      ]
     },
     "metadata": {},
     "output_type": "display_data"
    },
    {
     "data": {
      "text/markdown": [
       "We paid Home depot Door/lights  **25** $. The new reamining balance is 991.6700000000001 pay left 924.0"
      ],
      "text/plain": [
       "<IPython.core.display.Markdown object>"
      ]
     },
     "metadata": {},
     "output_type": "display_data"
    },
    {
     "data": {
      "text/markdown": [
       "We paid Citi Card Hard Drives  **25** $. The new reamining balance is 1232.33 pay left 899.0"
      ],
      "text/plain": [
       "<IPython.core.display.Markdown object>"
      ]
     },
     "metadata": {},
     "output_type": "display_data"
    },
    {
     "data": {
      "text/markdown": [
       "We paid WellsFargo Computer  **63.65** $. The new reamining balance is 1122.3599999999997 pay left 835.35"
      ],
      "text/plain": [
       "<IPython.core.display.Markdown object>"
      ]
     },
     "metadata": {},
     "output_type": "display_data"
    },
    {
     "data": {
      "text/markdown": [
       "We paid Synchrony Bank Home Zone  **85** $. The new reamining balance is 3357.73 pay left 750.35"
      ],
      "text/plain": [
       "<IPython.core.display.Markdown object>"
      ]
     },
     "metadata": {},
     "output_type": "display_data"
    },
    {
     "data": {
      "text/markdown": [
       "We paid Self_pay  **10** $. The new reamining balance is 4940 pay left 740.35"
      ],
      "text/plain": [
       "<IPython.core.display.Markdown object>"
      ]
     },
     "metadata": {},
     "output_type": "display_data"
    },
    {
     "data": {
      "text/markdown": [
       "the amount of remaining pay is 740.35 "
      ],
      "text/plain": [
       "<IPython.core.display.Markdown object>"
      ]
     },
     "metadata": {},
     "output_type": "display_data"
    },
    {
     "data": {
      "text/markdown": [
       "#### extra payment of 221.2900000000002 was applied to Chase Mary Kay and the new balance is 0.0"
      ],
      "text/plain": [
       "<IPython.core.display.Markdown object>"
      ]
     },
     "metadata": {},
     "output_type": "display_data"
    },
    {
     "data": {
      "text/markdown": [
       "## payoff bill Chase Mary Kay"
      ],
      "text/plain": [
       "<IPython.core.display.Markdown object>"
      ]
     },
     "metadata": {},
     "output_type": "display_data"
    },
    {
     "data": {
      "text/markdown": [
       "#### extra payment of 519.0599999999998 was applied to Home depot Door/Fans and the new balance is 147.61000000000024"
      ],
      "text/plain": [
       "<IPython.core.display.Markdown object>"
      ]
     },
     "metadata": {},
     "output_type": "display_data"
    },
    {
     "name": "stdout",
     "output_type": "stream",
     "text": [
      "Pay period of 2018-04-30 00:00:00\n"
     ]
    },
    {
     "data": {
      "text/markdown": [
       "We paid WellsFargo A/C  **257** $. The new reamining balance is 4856.56 pay left 1643.0"
      ],
      "text/plain": [
       "<IPython.core.display.Markdown object>"
      ]
     },
     "metadata": {},
     "output_type": "display_data"
    },
    {
     "data": {
      "text/markdown": [
       "We paid House Payment  **1479.38** $. The new reamining balance is 79131.61999999998 pay left 163.6199999999999"
      ],
      "text/plain": [
       "<IPython.core.display.Markdown object>"
      ]
     },
     "metadata": {},
     "output_type": "display_data"
    },
    {
     "data": {
      "text/markdown": [
       "We paid Self_pay  **10** $. The new reamining balance is 4930 pay left 153.6199999999999"
      ],
      "text/plain": [
       "<IPython.core.display.Markdown object>"
      ]
     },
     "metadata": {},
     "output_type": "display_data"
    },
    {
     "data": {
      "text/markdown": [
       "the amount of remaining pay is 153.6199999999999 "
      ],
      "text/plain": [
       "<IPython.core.display.Markdown object>"
      ]
     },
     "metadata": {},
     "output_type": "display_data"
    },
    {
     "data": {
      "text/markdown": [
       "#### extra payment of 147.61000000000024 was applied to Home depot Door/Fans and the new balance is 0.0"
      ],
      "text/plain": [
       "<IPython.core.display.Markdown object>"
      ]
     },
     "metadata": {},
     "output_type": "display_data"
    },
    {
     "data": {
      "text/markdown": [
       "## payoff bill Home depot Door/Fans"
      ],
      "text/plain": [
       "<IPython.core.display.Markdown object>"
      ]
     },
     "metadata": {},
     "output_type": "display_data"
    },
    {
     "data": {
      "text/markdown": [
       "#### extra payment of 6.00999999999965 was applied to Home depot Door/lights and the new balance is 985.6600000000004"
      ],
      "text/plain": [
       "<IPython.core.display.Markdown object>"
      ]
     },
     "metadata": {},
     "output_type": "display_data"
    },
    {
     "name": "stdout",
     "output_type": "stream",
     "text": [
      "Pay period of 2018-05-15 00:00:00\n"
     ]
    },
    {
     "data": {
      "text/markdown": [
       "We paid EF Tours Nina  **490** $. The new reamining balance is 490 pay left 1410.0"
      ],
      "text/plain": [
       "<IPython.core.display.Markdown object>"
      ]
     },
     "metadata": {},
     "output_type": "display_data"
    },
    {
     "data": {
      "text/markdown": [
       "We paid EF Tours Lena  **436** $. The new reamining balance is 706 pay left 974.0"
      ],
      "text/plain": [
       "<IPython.core.display.Markdown object>"
      ]
     },
     "metadata": {},
     "output_type": "display_data"
    },
    {
     "data": {
      "text/markdown": [
       "We paid Home depot Door/lights  **25** $. The new reamining balance is 960.6600000000004 pay left 949.0"
      ],
      "text/plain": [
       "<IPython.core.display.Markdown object>"
      ]
     },
     "metadata": {},
     "output_type": "display_data"
    },
    {
     "data": {
      "text/markdown": [
       "We paid Citi Card Hard Drives  **25** $. The new reamining balance is 1207.33 pay left 924.0"
      ],
      "text/plain": [
       "<IPython.core.display.Markdown object>"
      ]
     },
     "metadata": {},
     "output_type": "display_data"
    },
    {
     "data": {
      "text/markdown": [
       "We paid WellsFargo Computer  **63.65** $. The new reamining balance is 1058.7099999999996 pay left 860.35"
      ],
      "text/plain": [
       "<IPython.core.display.Markdown object>"
      ]
     },
     "metadata": {},
     "output_type": "display_data"
    },
    {
     "data": {
      "text/markdown": [
       "We paid Synchrony Bank Home Zone  **85** $. The new reamining balance is 3272.73 pay left 775.35"
      ],
      "text/plain": [
       "<IPython.core.display.Markdown object>"
      ]
     },
     "metadata": {},
     "output_type": "display_data"
    },
    {
     "data": {
      "text/markdown": [
       "We paid Self_pay  **10** $. The new reamining balance is 4920 pay left 765.35"
      ],
      "text/plain": [
       "<IPython.core.display.Markdown object>"
      ]
     },
     "metadata": {},
     "output_type": "display_data"
    },
    {
     "data": {
      "text/markdown": [
       "the amount of remaining pay is 765.35 "
      ],
      "text/plain": [
       "<IPython.core.display.Markdown object>"
      ]
     },
     "metadata": {},
     "output_type": "display_data"
    },
    {
     "data": {
      "text/markdown": [
       "#### extra payment of 765.35 was applied to Home depot Door/lights and the new balance is 195.3100000000004"
      ],
      "text/plain": [
       "<IPython.core.display.Markdown object>"
      ]
     },
     "metadata": {},
     "output_type": "display_data"
    },
    {
     "name": "stdout",
     "output_type": "stream",
     "text": [
      "Pay period of 2018-05-31 00:00:00\n"
     ]
    },
    {
     "data": {
      "text/markdown": [
       "We paid WellsFargo A/C  **257** $. The new reamining balance is 4599.56 pay left 1643.0"
      ],
      "text/plain": [
       "<IPython.core.display.Markdown object>"
      ]
     },
     "metadata": {},
     "output_type": "display_data"
    },
    {
     "data": {
      "text/markdown": [
       "We paid House Payment  **1479.38** $. The new reamining balance is 77652.23999999998 pay left 163.6199999999999"
      ],
      "text/plain": [
       "<IPython.core.display.Markdown object>"
      ]
     },
     "metadata": {},
     "output_type": "display_data"
    },
    {
     "data": {
      "text/markdown": [
       "We paid Self_pay  **10** $. The new reamining balance is 4910 pay left 153.6199999999999"
      ],
      "text/plain": [
       "<IPython.core.display.Markdown object>"
      ]
     },
     "metadata": {},
     "output_type": "display_data"
    },
    {
     "data": {
      "text/markdown": [
       "the amount of remaining pay is 153.6199999999999 "
      ],
      "text/plain": [
       "<IPython.core.display.Markdown object>"
      ]
     },
     "metadata": {},
     "output_type": "display_data"
    },
    {
     "data": {
      "text/markdown": [
       "#### extra payment of 153.6199999999999 was applied to Home depot Door/lights and the new balance is 41.69000000000051"
      ],
      "text/plain": [
       "<IPython.core.display.Markdown object>"
      ]
     },
     "metadata": {},
     "output_type": "display_data"
    },
    {
     "name": "stdout",
     "output_type": "stream",
     "text": [
      "Pay period of 2018-06-15 00:00:00\n"
     ]
    },
    {
     "data": {
      "text/markdown": [
       "## payoff bill EF Tours Nina"
      ],
      "text/plain": [
       "<IPython.core.display.Markdown object>"
      ]
     },
     "metadata": {},
     "output_type": "display_data"
    },
    {
     "data": {
      "text/markdown": [
       "We paid EF Tours Nina  **490** $. The new reamining balance is 0 pay left 1410.0"
      ],
      "text/plain": [
       "<IPython.core.display.Markdown object>"
      ]
     },
     "metadata": {},
     "output_type": "display_data"
    },
    {
     "data": {
      "text/markdown": [
       "We paid EF Tours Lena  **436** $. The new reamining balance is 270 pay left 974.0"
      ],
      "text/plain": [
       "<IPython.core.display.Markdown object>"
      ]
     },
     "metadata": {},
     "output_type": "display_data"
    },
    {
     "data": {
      "text/markdown": [
       "We paid Home depot Door/lights  **25** $. The new reamining balance is 16.69000000000051 pay left 949.0"
      ],
      "text/plain": [
       "<IPython.core.display.Markdown object>"
      ]
     },
     "metadata": {},
     "output_type": "display_data"
    },
    {
     "data": {
      "text/markdown": [
       "We paid Citi Card Hard Drives  **25** $. The new reamining balance is 1182.33 pay left 924.0"
      ],
      "text/plain": [
       "<IPython.core.display.Markdown object>"
      ]
     },
     "metadata": {},
     "output_type": "display_data"
    },
    {
     "data": {
      "text/markdown": [
       "We paid WellsFargo Computer  **63.65** $. The new reamining balance is 995.0599999999996 pay left 860.35"
      ],
      "text/plain": [
       "<IPython.core.display.Markdown object>"
      ]
     },
     "metadata": {},
     "output_type": "display_data"
    },
    {
     "data": {
      "text/markdown": [
       "We paid Synchrony Bank Home Zone  **85** $. The new reamining balance is 3187.73 pay left 775.35"
      ],
      "text/plain": [
       "<IPython.core.display.Markdown object>"
      ]
     },
     "metadata": {},
     "output_type": "display_data"
    },
    {
     "data": {
      "text/markdown": [
       "We paid Self_pay  **10** $. The new reamining balance is 4900 pay left 765.35"
      ],
      "text/plain": [
       "<IPython.core.display.Markdown object>"
      ]
     },
     "metadata": {},
     "output_type": "display_data"
    },
    {
     "data": {
      "text/markdown": [
       "the amount of remaining pay is 765.35 "
      ],
      "text/plain": [
       "<IPython.core.display.Markdown object>"
      ]
     },
     "metadata": {},
     "output_type": "display_data"
    },
    {
     "data": {
      "text/markdown": [
       "#### extra payment of 16.69000000000051 was applied to Home depot Door/lights and the new balance is 0.0"
      ],
      "text/plain": [
       "<IPython.core.display.Markdown object>"
      ]
     },
     "metadata": {},
     "output_type": "display_data"
    },
    {
     "data": {
      "text/markdown": [
       "## payoff bill Home depot Door/lights"
      ],
      "text/plain": [
       "<IPython.core.display.Markdown object>"
      ]
     },
     "metadata": {},
     "output_type": "display_data"
    },
    {
     "data": {
      "text/markdown": [
       "#### extra payment of 748.6599999999995 was applied to Citi Card Hard Drives and the new balance is 433.6700000000004"
      ],
      "text/plain": [
       "<IPython.core.display.Markdown object>"
      ]
     },
     "metadata": {},
     "output_type": "display_data"
    },
    {
     "name": "stdout",
     "output_type": "stream",
     "text": [
      "Pay period of 2018-06-30 00:00:00\n"
     ]
    },
    {
     "data": {
      "text/markdown": [
       "We paid WellsFargo A/C  **257** $. The new reamining balance is 4342.56 pay left 1643.0"
      ],
      "text/plain": [
       "<IPython.core.display.Markdown object>"
      ]
     },
     "metadata": {},
     "output_type": "display_data"
    },
    {
     "data": {
      "text/markdown": [
       "We paid House Payment  **1479.38** $. The new reamining balance is 76172.85999999997 pay left 163.6199999999999"
      ],
      "text/plain": [
       "<IPython.core.display.Markdown object>"
      ]
     },
     "metadata": {},
     "output_type": "display_data"
    },
    {
     "data": {
      "text/markdown": [
       "We paid Self_pay  **10** $. The new reamining balance is 4890 pay left 153.6199999999999"
      ],
      "text/plain": [
       "<IPython.core.display.Markdown object>"
      ]
     },
     "metadata": {},
     "output_type": "display_data"
    },
    {
     "data": {
      "text/markdown": [
       "the amount of remaining pay is 153.6199999999999 "
      ],
      "text/plain": [
       "<IPython.core.display.Markdown object>"
      ]
     },
     "metadata": {},
     "output_type": "display_data"
    },
    {
     "data": {
      "text/markdown": [
       "#### extra payment of 153.6199999999999 was applied to Citi Card Hard Drives and the new balance is 280.0500000000005"
      ],
      "text/plain": [
       "<IPython.core.display.Markdown object>"
      ]
     },
     "metadata": {},
     "output_type": "display_data"
    },
    {
     "name": "stdout",
     "output_type": "stream",
     "text": [
      "Pay period of 2018-07-15 00:00:00\n"
     ]
    },
    {
     "data": {
      "text/markdown": [
       "#### We are paying off EF Tours Lena has a balance of 270 is paid off and pay left over is 1630.0"
      ],
      "text/plain": [
       "<IPython.core.display.Markdown object>"
      ]
     },
     "metadata": {},
     "output_type": "display_data"
    },
    {
     "data": {
      "text/markdown": [
       "## payoff bill EF Tours Lena"
      ],
      "text/plain": [
       "<IPython.core.display.Markdown object>"
      ]
     },
     "metadata": {},
     "output_type": "display_data"
    },
    {
     "data": {
      "text/markdown": [
       "We paid EF Tours Lena  **270** $. The new reamining balance is 0 pay left 1630.0"
      ],
      "text/plain": [
       "<IPython.core.display.Markdown object>"
      ]
     },
     "metadata": {},
     "output_type": "display_data"
    },
    {
     "data": {
      "text/markdown": [
       "We paid Citi Card Hard Drives  **25** $. The new reamining balance is 255.05000000000052 pay left 1605.0"
      ],
      "text/plain": [
       "<IPython.core.display.Markdown object>"
      ]
     },
     "metadata": {},
     "output_type": "display_data"
    },
    {
     "data": {
      "text/markdown": [
       "We paid WellsFargo Computer  **63.65** $. The new reamining balance is 931.4099999999996 pay left 1541.35"
      ],
      "text/plain": [
       "<IPython.core.display.Markdown object>"
      ]
     },
     "metadata": {},
     "output_type": "display_data"
    },
    {
     "data": {
      "text/markdown": [
       "We paid Synchrony Bank Home Zone  **85** $. The new reamining balance is 3102.73 pay left 1456.35"
      ],
      "text/plain": [
       "<IPython.core.display.Markdown object>"
      ]
     },
     "metadata": {},
     "output_type": "display_data"
    },
    {
     "data": {
      "text/markdown": [
       "We paid Self_pay  **10** $. The new reamining balance is 4880 pay left 1446.35"
      ],
      "text/plain": [
       "<IPython.core.display.Markdown object>"
      ]
     },
     "metadata": {},
     "output_type": "display_data"
    },
    {
     "data": {
      "text/markdown": [
       "the amount of remaining pay is 1446.35 "
      ],
      "text/plain": [
       "<IPython.core.display.Markdown object>"
      ]
     },
     "metadata": {},
     "output_type": "display_data"
    },
    {
     "data": {
      "text/markdown": [
       "#### extra payment of 255.05000000000052 was applied to Citi Card Hard Drives and the new balance is 0.0"
      ],
      "text/plain": [
       "<IPython.core.display.Markdown object>"
      ]
     },
     "metadata": {},
     "output_type": "display_data"
    },
    {
     "data": {
      "text/markdown": [
       "## payoff bill Citi Card Hard Drives"
      ],
      "text/plain": [
       "<IPython.core.display.Markdown object>"
      ]
     },
     "metadata": {},
     "output_type": "display_data"
    },
    {
     "data": {
      "text/markdown": [
       "#### extra payment of 931.4099999999996 was applied to WellsFargo Computer and the new balance is 0.0"
      ],
      "text/plain": [
       "<IPython.core.display.Markdown object>"
      ]
     },
     "metadata": {},
     "output_type": "display_data"
    },
    {
     "data": {
      "text/markdown": [
       "## payoff bill WellsFargo Computer"
      ],
      "text/plain": [
       "<IPython.core.display.Markdown object>"
      ]
     },
     "metadata": {},
     "output_type": "display_data"
    },
    {
     "data": {
      "text/markdown": [
       "#### extra payment of 259.88999999999965 was applied to WellsFargo A/C and the new balance is 4082.670000000001"
      ],
      "text/plain": [
       "<IPython.core.display.Markdown object>"
      ]
     },
     "metadata": {},
     "output_type": "display_data"
    },
    {
     "name": "stdout",
     "output_type": "stream",
     "text": [
      "Pay period of 2018-07-31 00:00:00\n"
     ]
    },
    {
     "data": {
      "text/markdown": [
       "We paid WellsFargo A/C  **257** $. The new reamining balance is 3825.670000000001 pay left 1643.0"
      ],
      "text/plain": [
       "<IPython.core.display.Markdown object>"
      ]
     },
     "metadata": {},
     "output_type": "display_data"
    },
    {
     "data": {
      "text/markdown": [
       "We paid House Payment  **1479.38** $. The new reamining balance is 74693.47999999997 pay left 163.6199999999999"
      ],
      "text/plain": [
       "<IPython.core.display.Markdown object>"
      ]
     },
     "metadata": {},
     "output_type": "display_data"
    },
    {
     "data": {
      "text/markdown": [
       "We paid Self_pay  **10** $. The new reamining balance is 4870 pay left 153.6199999999999"
      ],
      "text/plain": [
       "<IPython.core.display.Markdown object>"
      ]
     },
     "metadata": {},
     "output_type": "display_data"
    },
    {
     "data": {
      "text/markdown": [
       "the amount of remaining pay is 153.6199999999999 "
      ],
      "text/plain": [
       "<IPython.core.display.Markdown object>"
      ]
     },
     "metadata": {},
     "output_type": "display_data"
    },
    {
     "data": {
      "text/markdown": [
       "#### extra payment of 153.6199999999999 was applied to WellsFargo A/C and the new balance is 3672.050000000001"
      ],
      "text/plain": [
       "<IPython.core.display.Markdown object>"
      ]
     },
     "metadata": {},
     "output_type": "display_data"
    },
    {
     "name": "stdout",
     "output_type": "stream",
     "text": [
      "Pay period of 2018-08-15 00:00:00\n"
     ]
    },
    {
     "data": {
      "text/markdown": [
       "We paid Synchrony Bank Home Zone  **85** $. The new reamining balance is 3017.73 pay left 1815.0"
      ],
      "text/plain": [
       "<IPython.core.display.Markdown object>"
      ]
     },
     "metadata": {},
     "output_type": "display_data"
    },
    {
     "data": {
      "text/markdown": [
       "We paid Self_pay  **10** $. The new reamining balance is 4860 pay left 1805.0"
      ],
      "text/plain": [
       "<IPython.core.display.Markdown object>"
      ]
     },
     "metadata": {},
     "output_type": "display_data"
    },
    {
     "data": {
      "text/markdown": [
       "the amount of remaining pay is 1805.0 "
      ],
      "text/plain": [
       "<IPython.core.display.Markdown object>"
      ]
     },
     "metadata": {},
     "output_type": "display_data"
    },
    {
     "data": {
      "text/markdown": [
       "#### extra payment of 1805.0 was applied to WellsFargo A/C and the new balance is 1867.050000000001"
      ],
      "text/plain": [
       "<IPython.core.display.Markdown object>"
      ]
     },
     "metadata": {},
     "output_type": "display_data"
    },
    {
     "name": "stdout",
     "output_type": "stream",
     "text": [
      "Pay period of 2018-08-31 00:00:00\n"
     ]
    },
    {
     "data": {
      "text/markdown": [
       "We paid WellsFargo A/C  **257** $. The new reamining balance is 1610.050000000001 pay left 1643.0"
      ],
      "text/plain": [
       "<IPython.core.display.Markdown object>"
      ]
     },
     "metadata": {},
     "output_type": "display_data"
    },
    {
     "data": {
      "text/markdown": [
       "We paid House Payment  **1479.38** $. The new reamining balance is 73214.09999999996 pay left 163.6199999999999"
      ],
      "text/plain": [
       "<IPython.core.display.Markdown object>"
      ]
     },
     "metadata": {},
     "output_type": "display_data"
    },
    {
     "data": {
      "text/markdown": [
       "We paid Self_pay  **10** $. The new reamining balance is 4850 pay left 153.6199999999999"
      ],
      "text/plain": [
       "<IPython.core.display.Markdown object>"
      ]
     },
     "metadata": {},
     "output_type": "display_data"
    },
    {
     "data": {
      "text/markdown": [
       "the amount of remaining pay is 153.6199999999999 "
      ],
      "text/plain": [
       "<IPython.core.display.Markdown object>"
      ]
     },
     "metadata": {},
     "output_type": "display_data"
    },
    {
     "data": {
      "text/markdown": [
       "#### extra payment of 153.6199999999999 was applied to WellsFargo A/C and the new balance is 1456.4300000000012"
      ],
      "text/plain": [
       "<IPython.core.display.Markdown object>"
      ]
     },
     "metadata": {},
     "output_type": "display_data"
    },
    {
     "name": "stdout",
     "output_type": "stream",
     "text": [
      "Pay period of 2018-09-15 00:00:00\n"
     ]
    },
    {
     "data": {
      "text/markdown": [
       "We paid Synchrony Bank Home Zone  **85** $. The new reamining balance is 2932.73 pay left 1815.0"
      ],
      "text/plain": [
       "<IPython.core.display.Markdown object>"
      ]
     },
     "metadata": {},
     "output_type": "display_data"
    },
    {
     "data": {
      "text/markdown": [
       "We paid Self_pay  **10** $. The new reamining balance is 4840 pay left 1805.0"
      ],
      "text/plain": [
       "<IPython.core.display.Markdown object>"
      ]
     },
     "metadata": {},
     "output_type": "display_data"
    },
    {
     "data": {
      "text/markdown": [
       "the amount of remaining pay is 1805.0 "
      ],
      "text/plain": [
       "<IPython.core.display.Markdown object>"
      ]
     },
     "metadata": {},
     "output_type": "display_data"
    },
    {
     "data": {
      "text/markdown": [
       "#### extra payment of 1456.4300000000012 was applied to WellsFargo A/C and the new balance is 0.0"
      ],
      "text/plain": [
       "<IPython.core.display.Markdown object>"
      ]
     },
     "metadata": {},
     "output_type": "display_data"
    },
    {
     "data": {
      "text/markdown": [
       "## payoff bill WellsFargo A/C"
      ],
      "text/plain": [
       "<IPython.core.display.Markdown object>"
      ]
     },
     "metadata": {},
     "output_type": "display_data"
    },
    {
     "data": {
      "text/markdown": [
       "#### extra payment of 348.5699999999988 was applied to Synchrony Bank Home Zone and the new balance is 2584.160000000001"
      ],
      "text/plain": [
       "<IPython.core.display.Markdown object>"
      ]
     },
     "metadata": {},
     "output_type": "display_data"
    },
    {
     "name": "stdout",
     "output_type": "stream",
     "text": [
      "Pay period of 2018-09-30 00:00:00\n"
     ]
    },
    {
     "data": {
      "text/markdown": [
       "We paid House Payment  **1479.38** $. The new reamining balance is 71734.71999999996 pay left 420.6199999999999"
      ],
      "text/plain": [
       "<IPython.core.display.Markdown object>"
      ]
     },
     "metadata": {},
     "output_type": "display_data"
    },
    {
     "data": {
      "text/markdown": [
       "We paid Self_pay  **10** $. The new reamining balance is 4830 pay left 410.6199999999999"
      ],
      "text/plain": [
       "<IPython.core.display.Markdown object>"
      ]
     },
     "metadata": {},
     "output_type": "display_data"
    },
    {
     "data": {
      "text/markdown": [
       "the amount of remaining pay is 410.6199999999999 "
      ],
      "text/plain": [
       "<IPython.core.display.Markdown object>"
      ]
     },
     "metadata": {},
     "output_type": "display_data"
    },
    {
     "data": {
      "text/markdown": [
       "#### extra payment of 410.6199999999999 was applied to Synchrony Bank Home Zone and the new balance is 2173.5400000000013"
      ],
      "text/plain": [
       "<IPython.core.display.Markdown object>"
      ]
     },
     "metadata": {},
     "output_type": "display_data"
    },
    {
     "name": "stdout",
     "output_type": "stream",
     "text": [
      "Pay period of 2018-10-15 00:00:00\n"
     ]
    },
    {
     "data": {
      "text/markdown": [
       "We paid Synchrony Bank Home Zone  **85** $. The new reamining balance is 2088.5400000000013 pay left 1815.0"
      ],
      "text/plain": [
       "<IPython.core.display.Markdown object>"
      ]
     },
     "metadata": {},
     "output_type": "display_data"
    },
    {
     "data": {
      "text/markdown": [
       "We paid Self_pay  **10** $. The new reamining balance is 4820 pay left 1805.0"
      ],
      "text/plain": [
       "<IPython.core.display.Markdown object>"
      ]
     },
     "metadata": {},
     "output_type": "display_data"
    },
    {
     "data": {
      "text/markdown": [
       "the amount of remaining pay is 1805.0 "
      ],
      "text/plain": [
       "<IPython.core.display.Markdown object>"
      ]
     },
     "metadata": {},
     "output_type": "display_data"
    },
    {
     "data": {
      "text/markdown": [
       "#### extra payment of 1805.0 was applied to Synchrony Bank Home Zone and the new balance is 283.5400000000013"
      ],
      "text/plain": [
       "<IPython.core.display.Markdown object>"
      ]
     },
     "metadata": {},
     "output_type": "display_data"
    },
    {
     "name": "stdout",
     "output_type": "stream",
     "text": [
      "Pay period of 2018-10-31 00:00:00\n"
     ]
    },
    {
     "data": {
      "text/markdown": [
       "We paid House Payment  **1479.38** $. The new reamining balance is 70255.33999999995 pay left 420.6199999999999"
      ],
      "text/plain": [
       "<IPython.core.display.Markdown object>"
      ]
     },
     "metadata": {},
     "output_type": "display_data"
    },
    {
     "data": {
      "text/markdown": [
       "We paid Self_pay  **10** $. The new reamining balance is 4810 pay left 410.6199999999999"
      ],
      "text/plain": [
       "<IPython.core.display.Markdown object>"
      ]
     },
     "metadata": {},
     "output_type": "display_data"
    },
    {
     "data": {
      "text/markdown": [
       "the amount of remaining pay is 410.6199999999999 "
      ],
      "text/plain": [
       "<IPython.core.display.Markdown object>"
      ]
     },
     "metadata": {},
     "output_type": "display_data"
    },
    {
     "data": {
      "text/markdown": [
       "#### extra payment of 283.5400000000013 was applied to Synchrony Bank Home Zone and the new balance is 0.0"
      ],
      "text/plain": [
       "<IPython.core.display.Markdown object>"
      ]
     },
     "metadata": {},
     "output_type": "display_data"
    },
    {
     "data": {
      "text/markdown": [
       "## payoff bill Synchrony Bank Home Zone"
      ],
      "text/plain": [
       "<IPython.core.display.Markdown object>"
      ]
     },
     "metadata": {},
     "output_type": "display_data"
    },
    {
     "data": {
      "text/markdown": [
       "#### extra payment of 127.07999999999856 was applied to House Payment and the new balance is 70128.25999999995"
      ],
      "text/plain": [
       "<IPython.core.display.Markdown object>"
      ]
     },
     "metadata": {},
     "output_type": "display_data"
    },
    {
     "name": "stdout",
     "output_type": "stream",
     "text": [
      "Pay period of 2018-11-15 00:00:00\n"
     ]
    },
    {
     "data": {
      "text/markdown": [
       "We paid Self_pay  **10** $. The new reamining balance is 4800 pay left 1890.0"
      ],
      "text/plain": [
       "<IPython.core.display.Markdown object>"
      ]
     },
     "metadata": {},
     "output_type": "display_data"
    },
    {
     "data": {
      "text/markdown": [
       "the amount of remaining pay is 1890.0 "
      ],
      "text/plain": [
       "<IPython.core.display.Markdown object>"
      ]
     },
     "metadata": {},
     "output_type": "display_data"
    },
    {
     "data": {
      "text/markdown": [
       "#### extra payment of 1890.0 was applied to House Payment and the new balance is 68238.25999999995"
      ],
      "text/plain": [
       "<IPython.core.display.Markdown object>"
      ]
     },
     "metadata": {},
     "output_type": "display_data"
    },
    {
     "name": "stdout",
     "output_type": "stream",
     "text": [
      "Pay period of 2018-11-30 00:00:00\n"
     ]
    },
    {
     "data": {
      "text/markdown": [
       "We paid House Payment  **1479.38** $. The new reamining balance is 66758.87999999995 pay left 420.6199999999999"
      ],
      "text/plain": [
       "<IPython.core.display.Markdown object>"
      ]
     },
     "metadata": {},
     "output_type": "display_data"
    },
    {
     "data": {
      "text/markdown": [
       "We paid Self_pay  **10** $. The new reamining balance is 4790 pay left 410.6199999999999"
      ],
      "text/plain": [
       "<IPython.core.display.Markdown object>"
      ]
     },
     "metadata": {},
     "output_type": "display_data"
    },
    {
     "data": {
      "text/markdown": [
       "the amount of remaining pay is 410.6199999999999 "
      ],
      "text/plain": [
       "<IPython.core.display.Markdown object>"
      ]
     },
     "metadata": {},
     "output_type": "display_data"
    },
    {
     "data": {
      "text/markdown": [
       "#### extra payment of 410.6199999999999 was applied to House Payment and the new balance is 66348.25999999995"
      ],
      "text/plain": [
       "<IPython.core.display.Markdown object>"
      ]
     },
     "metadata": {},
     "output_type": "display_data"
    },
    {
     "name": "stdout",
     "output_type": "stream",
     "text": [
      "Pay period of 2018-12-15 00:00:00\n"
     ]
    },
    {
     "data": {
      "text/markdown": [
       "We paid Self_pay  **10** $. The new reamining balance is 4780 pay left 1890.0"
      ],
      "text/plain": [
       "<IPython.core.display.Markdown object>"
      ]
     },
     "metadata": {},
     "output_type": "display_data"
    },
    {
     "data": {
      "text/markdown": [
       "the amount of remaining pay is 1890.0 "
      ],
      "text/plain": [
       "<IPython.core.display.Markdown object>"
      ]
     },
     "metadata": {},
     "output_type": "display_data"
    },
    {
     "data": {
      "text/markdown": [
       "#### extra payment of 1890.0 was applied to House Payment and the new balance is 64458.25999999995"
      ],
      "text/plain": [
       "<IPython.core.display.Markdown object>"
      ]
     },
     "metadata": {},
     "output_type": "display_data"
    },
    {
     "name": "stdout",
     "output_type": "stream",
     "text": [
      "Pay period of 2018-12-31 00:00:00\n"
     ]
    },
    {
     "data": {
      "text/markdown": [
       "We paid House Payment  **1479.38** $. The new reamining balance is 62978.879999999954 pay left 420.6199999999999"
      ],
      "text/plain": [
       "<IPython.core.display.Markdown object>"
      ]
     },
     "metadata": {},
     "output_type": "display_data"
    },
    {
     "data": {
      "text/markdown": [
       "We paid Self_pay  **10** $. The new reamining balance is 4770 pay left 410.6199999999999"
      ],
      "text/plain": [
       "<IPython.core.display.Markdown object>"
      ]
     },
     "metadata": {},
     "output_type": "display_data"
    },
    {
     "data": {
      "text/markdown": [
       "the amount of remaining pay is 410.6199999999999 "
      ],
      "text/plain": [
       "<IPython.core.display.Markdown object>"
      ]
     },
     "metadata": {},
     "output_type": "display_data"
    },
    {
     "data": {
      "text/markdown": [
       "#### extra payment of 410.6199999999999 was applied to House Payment and the new balance is 62568.25999999995"
      ],
      "text/plain": [
       "<IPython.core.display.Markdown object>"
      ]
     },
     "metadata": {},
     "output_type": "display_data"
    },
    {
     "name": "stdout",
     "output_type": "stream",
     "text": [
      "Pay period of 2019-01-15 00:00:00\n"
     ]
    },
    {
     "data": {
      "text/markdown": [
       "We paid Self_pay  **10** $. The new reamining balance is 4760 pay left 1890.0"
      ],
      "text/plain": [
       "<IPython.core.display.Markdown object>"
      ]
     },
     "metadata": {},
     "output_type": "display_data"
    },
    {
     "data": {
      "text/markdown": [
       "the amount of remaining pay is 1890.0 "
      ],
      "text/plain": [
       "<IPython.core.display.Markdown object>"
      ]
     },
     "metadata": {},
     "output_type": "display_data"
    },
    {
     "data": {
      "text/markdown": [
       "#### extra payment of 1890.0 was applied to House Payment and the new balance is 60678.25999999995"
      ],
      "text/plain": [
       "<IPython.core.display.Markdown object>"
      ]
     },
     "metadata": {},
     "output_type": "display_data"
    },
    {
     "name": "stdout",
     "output_type": "stream",
     "text": [
      "Pay period of 2019-01-31 00:00:00\n"
     ]
    },
    {
     "data": {
      "text/markdown": [
       "We paid House Payment  **1479.38** $. The new reamining balance is 59198.879999999954 pay left 420.6199999999999"
      ],
      "text/plain": [
       "<IPython.core.display.Markdown object>"
      ]
     },
     "metadata": {},
     "output_type": "display_data"
    },
    {
     "data": {
      "text/markdown": [
       "We paid Self_pay  **10** $. The new reamining balance is 4750 pay left 410.6199999999999"
      ],
      "text/plain": [
       "<IPython.core.display.Markdown object>"
      ]
     },
     "metadata": {},
     "output_type": "display_data"
    },
    {
     "data": {
      "text/markdown": [
       "the amount of remaining pay is 410.6199999999999 "
      ],
      "text/plain": [
       "<IPython.core.display.Markdown object>"
      ]
     },
     "metadata": {},
     "output_type": "display_data"
    },
    {
     "data": {
      "text/markdown": [
       "#### extra payment of 410.6199999999999 was applied to House Payment and the new balance is 58788.25999999995"
      ],
      "text/plain": [
       "<IPython.core.display.Markdown object>"
      ]
     },
     "metadata": {},
     "output_type": "display_data"
    },
    {
     "name": "stdout",
     "output_type": "stream",
     "text": [
      "Pay period of 2019-02-15 00:00:00\n"
     ]
    },
    {
     "data": {
      "text/markdown": [
       "We paid Self_pay  **10** $. The new reamining balance is 4740 pay left 1890.0"
      ],
      "text/plain": [
       "<IPython.core.display.Markdown object>"
      ]
     },
     "metadata": {},
     "output_type": "display_data"
    },
    {
     "data": {
      "text/markdown": [
       "the amount of remaining pay is 1890.0 "
      ],
      "text/plain": [
       "<IPython.core.display.Markdown object>"
      ]
     },
     "metadata": {},
     "output_type": "display_data"
    },
    {
     "data": {
      "text/markdown": [
       "#### extra payment of 1890.0 was applied to House Payment and the new balance is 56898.25999999995"
      ],
      "text/plain": [
       "<IPython.core.display.Markdown object>"
      ]
     },
     "metadata": {},
     "output_type": "display_data"
    },
    {
     "name": "stdout",
     "output_type": "stream",
     "text": [
      "Pay period of 2019-02-28 00:00:00\n"
     ]
    },
    {
     "data": {
      "text/markdown": [
       "We paid House Payment  **1479.38** $. The new reamining balance is 55418.879999999954 pay left 420.6199999999999"
      ],
      "text/plain": [
       "<IPython.core.display.Markdown object>"
      ]
     },
     "metadata": {},
     "output_type": "display_data"
    },
    {
     "data": {
      "text/markdown": [
       "We paid Self_pay  **10** $. The new reamining balance is 4730 pay left 410.6199999999999"
      ],
      "text/plain": [
       "<IPython.core.display.Markdown object>"
      ]
     },
     "metadata": {},
     "output_type": "display_data"
    },
    {
     "data": {
      "text/markdown": [
       "the amount of remaining pay is 410.6199999999999 "
      ],
      "text/plain": [
       "<IPython.core.display.Markdown object>"
      ]
     },
     "metadata": {},
     "output_type": "display_data"
    },
    {
     "data": {
      "text/markdown": [
       "#### extra payment of 410.6199999999999 was applied to House Payment and the new balance is 55008.25999999995"
      ],
      "text/plain": [
       "<IPython.core.display.Markdown object>"
      ]
     },
     "metadata": {},
     "output_type": "display_data"
    },
    {
     "name": "stdout",
     "output_type": "stream",
     "text": [
      "Pay period of 2019-03-15 00:00:00\n"
     ]
    },
    {
     "data": {
      "text/markdown": [
       "We paid Self_pay  **10** $. The new reamining balance is 4720 pay left 1890.0"
      ],
      "text/plain": [
       "<IPython.core.display.Markdown object>"
      ]
     },
     "metadata": {},
     "output_type": "display_data"
    },
    {
     "data": {
      "text/markdown": [
       "the amount of remaining pay is 1890.0 "
      ],
      "text/plain": [
       "<IPython.core.display.Markdown object>"
      ]
     },
     "metadata": {},
     "output_type": "display_data"
    },
    {
     "data": {
      "text/markdown": [
       "#### extra payment of 1890.0 was applied to House Payment and the new balance is 53118.25999999995"
      ],
      "text/plain": [
       "<IPython.core.display.Markdown object>"
      ]
     },
     "metadata": {},
     "output_type": "display_data"
    },
    {
     "name": "stdout",
     "output_type": "stream",
     "text": [
      "Pay period of 2019-03-31 00:00:00\n"
     ]
    },
    {
     "data": {
      "text/markdown": [
       "We paid House Payment  **1479.38** $. The new reamining balance is 51638.879999999954 pay left 420.6199999999999"
      ],
      "text/plain": [
       "<IPython.core.display.Markdown object>"
      ]
     },
     "metadata": {},
     "output_type": "display_data"
    },
    {
     "data": {
      "text/markdown": [
       "We paid Self_pay  **10** $. The new reamining balance is 4710 pay left 410.6199999999999"
      ],
      "text/plain": [
       "<IPython.core.display.Markdown object>"
      ]
     },
     "metadata": {},
     "output_type": "display_data"
    },
    {
     "data": {
      "text/markdown": [
       "the amount of remaining pay is 410.6199999999999 "
      ],
      "text/plain": [
       "<IPython.core.display.Markdown object>"
      ]
     },
     "metadata": {},
     "output_type": "display_data"
    },
    {
     "data": {
      "text/markdown": [
       "#### extra payment of 410.6199999999999 was applied to House Payment and the new balance is 51228.25999999995"
      ],
      "text/plain": [
       "<IPython.core.display.Markdown object>"
      ]
     },
     "metadata": {},
     "output_type": "display_data"
    },
    {
     "name": "stdout",
     "output_type": "stream",
     "text": [
      "Pay period of 2019-04-15 00:00:00\n"
     ]
    },
    {
     "data": {
      "text/markdown": [
       "We paid Self_pay  **10** $. The new reamining balance is 4700 pay left 1890.0"
      ],
      "text/plain": [
       "<IPython.core.display.Markdown object>"
      ]
     },
     "metadata": {},
     "output_type": "display_data"
    },
    {
     "data": {
      "text/markdown": [
       "the amount of remaining pay is 1890.0 "
      ],
      "text/plain": [
       "<IPython.core.display.Markdown object>"
      ]
     },
     "metadata": {},
     "output_type": "display_data"
    },
    {
     "data": {
      "text/markdown": [
       "#### extra payment of 1890.0 was applied to House Payment and the new balance is 49338.25999999995"
      ],
      "text/plain": [
       "<IPython.core.display.Markdown object>"
      ]
     },
     "metadata": {},
     "output_type": "display_data"
    },
    {
     "name": "stdout",
     "output_type": "stream",
     "text": [
      "Pay period of 2019-04-30 00:00:00\n"
     ]
    },
    {
     "data": {
      "text/markdown": [
       "We paid House Payment  **1479.38** $. The new reamining balance is 47858.879999999954 pay left 420.6199999999999"
      ],
      "text/plain": [
       "<IPython.core.display.Markdown object>"
      ]
     },
     "metadata": {},
     "output_type": "display_data"
    },
    {
     "data": {
      "text/markdown": [
       "We paid Self_pay  **10** $. The new reamining balance is 4690 pay left 410.6199999999999"
      ],
      "text/plain": [
       "<IPython.core.display.Markdown object>"
      ]
     },
     "metadata": {},
     "output_type": "display_data"
    },
    {
     "data": {
      "text/markdown": [
       "the amount of remaining pay is 410.6199999999999 "
      ],
      "text/plain": [
       "<IPython.core.display.Markdown object>"
      ]
     },
     "metadata": {},
     "output_type": "display_data"
    },
    {
     "data": {
      "text/markdown": [
       "#### extra payment of 410.6199999999999 was applied to House Payment and the new balance is 47448.25999999995"
      ],
      "text/plain": [
       "<IPython.core.display.Markdown object>"
      ]
     },
     "metadata": {},
     "output_type": "display_data"
    },
    {
     "name": "stdout",
     "output_type": "stream",
     "text": [
      "Pay period of 2019-05-15 00:00:00\n"
     ]
    },
    {
     "data": {
      "text/markdown": [
       "We paid Self_pay  **10** $. The new reamining balance is 4680 pay left 1890.0"
      ],
      "text/plain": [
       "<IPython.core.display.Markdown object>"
      ]
     },
     "metadata": {},
     "output_type": "display_data"
    },
    {
     "data": {
      "text/markdown": [
       "the amount of remaining pay is 1890.0 "
      ],
      "text/plain": [
       "<IPython.core.display.Markdown object>"
      ]
     },
     "metadata": {},
     "output_type": "display_data"
    },
    {
     "data": {
      "text/markdown": [
       "#### extra payment of 1890.0 was applied to House Payment and the new balance is 45558.25999999995"
      ],
      "text/plain": [
       "<IPython.core.display.Markdown object>"
      ]
     },
     "metadata": {},
     "output_type": "display_data"
    },
    {
     "name": "stdout",
     "output_type": "stream",
     "text": [
      "Pay period of 2019-05-31 00:00:00\n"
     ]
    },
    {
     "data": {
      "text/markdown": [
       "We paid House Payment  **1479.38** $. The new reamining balance is 44078.879999999954 pay left 420.6199999999999"
      ],
      "text/plain": [
       "<IPython.core.display.Markdown object>"
      ]
     },
     "metadata": {},
     "output_type": "display_data"
    },
    {
     "data": {
      "text/markdown": [
       "We paid Self_pay  **10** $. The new reamining balance is 4670 pay left 410.6199999999999"
      ],
      "text/plain": [
       "<IPython.core.display.Markdown object>"
      ]
     },
     "metadata": {},
     "output_type": "display_data"
    },
    {
     "data": {
      "text/markdown": [
       "the amount of remaining pay is 410.6199999999999 "
      ],
      "text/plain": [
       "<IPython.core.display.Markdown object>"
      ]
     },
     "metadata": {},
     "output_type": "display_data"
    },
    {
     "data": {
      "text/markdown": [
       "#### extra payment of 410.6199999999999 was applied to House Payment and the new balance is 43668.25999999995"
      ],
      "text/plain": [
       "<IPython.core.display.Markdown object>"
      ]
     },
     "metadata": {},
     "output_type": "display_data"
    },
    {
     "name": "stdout",
     "output_type": "stream",
     "text": [
      "Pay period of 2019-06-15 00:00:00\n"
     ]
    },
    {
     "data": {
      "text/markdown": [
       "We paid Self_pay  **10** $. The new reamining balance is 4660 pay left 1890.0"
      ],
      "text/plain": [
       "<IPython.core.display.Markdown object>"
      ]
     },
     "metadata": {},
     "output_type": "display_data"
    },
    {
     "data": {
      "text/markdown": [
       "the amount of remaining pay is 1890.0 "
      ],
      "text/plain": [
       "<IPython.core.display.Markdown object>"
      ]
     },
     "metadata": {},
     "output_type": "display_data"
    },
    {
     "data": {
      "text/markdown": [
       "#### extra payment of 1890.0 was applied to House Payment and the new balance is 41778.25999999995"
      ],
      "text/plain": [
       "<IPython.core.display.Markdown object>"
      ]
     },
     "metadata": {},
     "output_type": "display_data"
    },
    {
     "name": "stdout",
     "output_type": "stream",
     "text": [
      "Pay period of 2019-06-30 00:00:00\n"
     ]
    },
    {
     "data": {
      "text/markdown": [
       "We paid House Payment  **1479.38** $. The new reamining balance is 40298.879999999954 pay left 420.6199999999999"
      ],
      "text/plain": [
       "<IPython.core.display.Markdown object>"
      ]
     },
     "metadata": {},
     "output_type": "display_data"
    },
    {
     "data": {
      "text/markdown": [
       "We paid Self_pay  **10** $. The new reamining balance is 4650 pay left 410.6199999999999"
      ],
      "text/plain": [
       "<IPython.core.display.Markdown object>"
      ]
     },
     "metadata": {},
     "output_type": "display_data"
    },
    {
     "data": {
      "text/markdown": [
       "the amount of remaining pay is 410.6199999999999 "
      ],
      "text/plain": [
       "<IPython.core.display.Markdown object>"
      ]
     },
     "metadata": {},
     "output_type": "display_data"
    },
    {
     "data": {
      "text/markdown": [
       "#### extra payment of 410.6199999999999 was applied to House Payment and the new balance is 39888.25999999995"
      ],
      "text/plain": [
       "<IPython.core.display.Markdown object>"
      ]
     },
     "metadata": {},
     "output_type": "display_data"
    },
    {
     "name": "stdout",
     "output_type": "stream",
     "text": [
      "Pay period of 2019-07-15 00:00:00\n"
     ]
    },
    {
     "data": {
      "text/markdown": [
       "We paid Self_pay  **10** $. The new reamining balance is 4640 pay left 1890.0"
      ],
      "text/plain": [
       "<IPython.core.display.Markdown object>"
      ]
     },
     "metadata": {},
     "output_type": "display_data"
    },
    {
     "data": {
      "text/markdown": [
       "the amount of remaining pay is 1890.0 "
      ],
      "text/plain": [
       "<IPython.core.display.Markdown object>"
      ]
     },
     "metadata": {},
     "output_type": "display_data"
    },
    {
     "data": {
      "text/markdown": [
       "#### extra payment of 1890.0 was applied to House Payment and the new balance is 37998.25999999995"
      ],
      "text/plain": [
       "<IPython.core.display.Markdown object>"
      ]
     },
     "metadata": {},
     "output_type": "display_data"
    },
    {
     "name": "stdout",
     "output_type": "stream",
     "text": [
      "Pay period of 2019-07-31 00:00:00\n"
     ]
    },
    {
     "data": {
      "text/markdown": [
       "We paid House Payment  **1479.38** $. The new reamining balance is 36518.879999999954 pay left 420.6199999999999"
      ],
      "text/plain": [
       "<IPython.core.display.Markdown object>"
      ]
     },
     "metadata": {},
     "output_type": "display_data"
    },
    {
     "data": {
      "text/markdown": [
       "We paid Self_pay  **10** $. The new reamining balance is 4630 pay left 410.6199999999999"
      ],
      "text/plain": [
       "<IPython.core.display.Markdown object>"
      ]
     },
     "metadata": {},
     "output_type": "display_data"
    },
    {
     "data": {
      "text/markdown": [
       "the amount of remaining pay is 410.6199999999999 "
      ],
      "text/plain": [
       "<IPython.core.display.Markdown object>"
      ]
     },
     "metadata": {},
     "output_type": "display_data"
    },
    {
     "data": {
      "text/markdown": [
       "#### extra payment of 410.6199999999999 was applied to House Payment and the new balance is 36108.25999999995"
      ],
      "text/plain": [
       "<IPython.core.display.Markdown object>"
      ]
     },
     "metadata": {},
     "output_type": "display_data"
    },
    {
     "name": "stdout",
     "output_type": "stream",
     "text": [
      "Pay period of 2019-08-15 00:00:00\n"
     ]
    },
    {
     "data": {
      "text/markdown": [
       "We paid Self_pay  **10** $. The new reamining balance is 4620 pay left 1890.0"
      ],
      "text/plain": [
       "<IPython.core.display.Markdown object>"
      ]
     },
     "metadata": {},
     "output_type": "display_data"
    },
    {
     "data": {
      "text/markdown": [
       "the amount of remaining pay is 1890.0 "
      ],
      "text/plain": [
       "<IPython.core.display.Markdown object>"
      ]
     },
     "metadata": {},
     "output_type": "display_data"
    },
    {
     "data": {
      "text/markdown": [
       "#### extra payment of 1890.0 was applied to House Payment and the new balance is 34218.25999999995"
      ],
      "text/plain": [
       "<IPython.core.display.Markdown object>"
      ]
     },
     "metadata": {},
     "output_type": "display_data"
    },
    {
     "name": "stdout",
     "output_type": "stream",
     "text": [
      "Pay period of 2019-08-31 00:00:00\n"
     ]
    },
    {
     "data": {
      "text/markdown": [
       "We paid House Payment  **1479.38** $. The new reamining balance is 32738.87999999995 pay left 420.6199999999999"
      ],
      "text/plain": [
       "<IPython.core.display.Markdown object>"
      ]
     },
     "metadata": {},
     "output_type": "display_data"
    },
    {
     "data": {
      "text/markdown": [
       "We paid Self_pay  **10** $. The new reamining balance is 4610 pay left 410.6199999999999"
      ],
      "text/plain": [
       "<IPython.core.display.Markdown object>"
      ]
     },
     "metadata": {},
     "output_type": "display_data"
    },
    {
     "data": {
      "text/markdown": [
       "the amount of remaining pay is 410.6199999999999 "
      ],
      "text/plain": [
       "<IPython.core.display.Markdown object>"
      ]
     },
     "metadata": {},
     "output_type": "display_data"
    },
    {
     "data": {
      "text/markdown": [
       "#### extra payment of 410.6199999999999 was applied to House Payment and the new balance is 32328.25999999995"
      ],
      "text/plain": [
       "<IPython.core.display.Markdown object>"
      ]
     },
     "metadata": {},
     "output_type": "display_data"
    },
    {
     "name": "stdout",
     "output_type": "stream",
     "text": [
      "Pay period of 2019-09-15 00:00:00\n"
     ]
    },
    {
     "data": {
      "text/markdown": [
       "We paid Self_pay  **10** $. The new reamining balance is 4600 pay left 1890.0"
      ],
      "text/plain": [
       "<IPython.core.display.Markdown object>"
      ]
     },
     "metadata": {},
     "output_type": "display_data"
    },
    {
     "data": {
      "text/markdown": [
       "the amount of remaining pay is 1890.0 "
      ],
      "text/plain": [
       "<IPython.core.display.Markdown object>"
      ]
     },
     "metadata": {},
     "output_type": "display_data"
    },
    {
     "data": {
      "text/markdown": [
       "#### extra payment of 1890.0 was applied to House Payment and the new balance is 30438.25999999995"
      ],
      "text/plain": [
       "<IPython.core.display.Markdown object>"
      ]
     },
     "metadata": {},
     "output_type": "display_data"
    },
    {
     "name": "stdout",
     "output_type": "stream",
     "text": [
      "Pay period of 2019-09-30 00:00:00\n"
     ]
    },
    {
     "data": {
      "text/markdown": [
       "We paid House Payment  **1479.38** $. The new reamining balance is 28958.87999999995 pay left 420.6199999999999"
      ],
      "text/plain": [
       "<IPython.core.display.Markdown object>"
      ]
     },
     "metadata": {},
     "output_type": "display_data"
    },
    {
     "data": {
      "text/markdown": [
       "We paid Self_pay  **10** $. The new reamining balance is 4590 pay left 410.6199999999999"
      ],
      "text/plain": [
       "<IPython.core.display.Markdown object>"
      ]
     },
     "metadata": {},
     "output_type": "display_data"
    },
    {
     "data": {
      "text/markdown": [
       "the amount of remaining pay is 410.6199999999999 "
      ],
      "text/plain": [
       "<IPython.core.display.Markdown object>"
      ]
     },
     "metadata": {},
     "output_type": "display_data"
    },
    {
     "data": {
      "text/markdown": [
       "#### extra payment of 410.6199999999999 was applied to House Payment and the new balance is 28548.25999999995"
      ],
      "text/plain": [
       "<IPython.core.display.Markdown object>"
      ]
     },
     "metadata": {},
     "output_type": "display_data"
    },
    {
     "name": "stdout",
     "output_type": "stream",
     "text": [
      "Pay period of 2019-10-15 00:00:00\n"
     ]
    },
    {
     "data": {
      "text/markdown": [
       "We paid Self_pay  **10** $. The new reamining balance is 4580 pay left 1890.0"
      ],
      "text/plain": [
       "<IPython.core.display.Markdown object>"
      ]
     },
     "metadata": {},
     "output_type": "display_data"
    },
    {
     "data": {
      "text/markdown": [
       "the amount of remaining pay is 1890.0 "
      ],
      "text/plain": [
       "<IPython.core.display.Markdown object>"
      ]
     },
     "metadata": {},
     "output_type": "display_data"
    },
    {
     "data": {
      "text/markdown": [
       "#### extra payment of 1890.0 was applied to House Payment and the new balance is 26658.25999999995"
      ],
      "text/plain": [
       "<IPython.core.display.Markdown object>"
      ]
     },
     "metadata": {},
     "output_type": "display_data"
    },
    {
     "name": "stdout",
     "output_type": "stream",
     "text": [
      "Pay period of 2019-10-31 00:00:00\n"
     ]
    },
    {
     "data": {
      "text/markdown": [
       "We paid House Payment  **1479.38** $. The new reamining balance is 25178.87999999995 pay left 420.6199999999999"
      ],
      "text/plain": [
       "<IPython.core.display.Markdown object>"
      ]
     },
     "metadata": {},
     "output_type": "display_data"
    },
    {
     "data": {
      "text/markdown": [
       "We paid Self_pay  **10** $. The new reamining balance is 4570 pay left 410.6199999999999"
      ],
      "text/plain": [
       "<IPython.core.display.Markdown object>"
      ]
     },
     "metadata": {},
     "output_type": "display_data"
    },
    {
     "data": {
      "text/markdown": [
       "the amount of remaining pay is 410.6199999999999 "
      ],
      "text/plain": [
       "<IPython.core.display.Markdown object>"
      ]
     },
     "metadata": {},
     "output_type": "display_data"
    },
    {
     "data": {
      "text/markdown": [
       "#### extra payment of 410.6199999999999 was applied to House Payment and the new balance is 24768.25999999995"
      ],
      "text/plain": [
       "<IPython.core.display.Markdown object>"
      ]
     },
     "metadata": {},
     "output_type": "display_data"
    },
    {
     "name": "stdout",
     "output_type": "stream",
     "text": [
      "Pay period of 2019-11-15 00:00:00\n"
     ]
    },
    {
     "data": {
      "text/markdown": [
       "We paid Self_pay  **10** $. The new reamining balance is 4560 pay left 1890.0"
      ],
      "text/plain": [
       "<IPython.core.display.Markdown object>"
      ]
     },
     "metadata": {},
     "output_type": "display_data"
    },
    {
     "data": {
      "text/markdown": [
       "the amount of remaining pay is 1890.0 "
      ],
      "text/plain": [
       "<IPython.core.display.Markdown object>"
      ]
     },
     "metadata": {},
     "output_type": "display_data"
    },
    {
     "data": {
      "text/markdown": [
       "#### extra payment of 1890.0 was applied to House Payment and the new balance is 22878.25999999995"
      ],
      "text/plain": [
       "<IPython.core.display.Markdown object>"
      ]
     },
     "metadata": {},
     "output_type": "display_data"
    },
    {
     "name": "stdout",
     "output_type": "stream",
     "text": [
      "Pay period of 2019-11-30 00:00:00\n"
     ]
    },
    {
     "data": {
      "text/markdown": [
       "We paid House Payment  **1479.38** $. The new reamining balance is 21398.87999999995 pay left 420.6199999999999"
      ],
      "text/plain": [
       "<IPython.core.display.Markdown object>"
      ]
     },
     "metadata": {},
     "output_type": "display_data"
    },
    {
     "data": {
      "text/markdown": [
       "We paid Self_pay  **10** $. The new reamining balance is 4550 pay left 410.6199999999999"
      ],
      "text/plain": [
       "<IPython.core.display.Markdown object>"
      ]
     },
     "metadata": {},
     "output_type": "display_data"
    },
    {
     "data": {
      "text/markdown": [
       "the amount of remaining pay is 410.6199999999999 "
      ],
      "text/plain": [
       "<IPython.core.display.Markdown object>"
      ]
     },
     "metadata": {},
     "output_type": "display_data"
    },
    {
     "data": {
      "text/markdown": [
       "#### extra payment of 410.6199999999999 was applied to House Payment and the new balance is 20988.25999999995"
      ],
      "text/plain": [
       "<IPython.core.display.Markdown object>"
      ]
     },
     "metadata": {},
     "output_type": "display_data"
    },
    {
     "name": "stdout",
     "output_type": "stream",
     "text": [
      "Pay period of 2019-12-15 00:00:00\n"
     ]
    },
    {
     "data": {
      "text/markdown": [
       "We paid Self_pay  **10** $. The new reamining balance is 4540 pay left 1890.0"
      ],
      "text/plain": [
       "<IPython.core.display.Markdown object>"
      ]
     },
     "metadata": {},
     "output_type": "display_data"
    },
    {
     "data": {
      "text/markdown": [
       "the amount of remaining pay is 1890.0 "
      ],
      "text/plain": [
       "<IPython.core.display.Markdown object>"
      ]
     },
     "metadata": {},
     "output_type": "display_data"
    },
    {
     "data": {
      "text/markdown": [
       "#### extra payment of 1890.0 was applied to House Payment and the new balance is 19098.25999999995"
      ],
      "text/plain": [
       "<IPython.core.display.Markdown object>"
      ]
     },
     "metadata": {},
     "output_type": "display_data"
    },
    {
     "name": "stdout",
     "output_type": "stream",
     "text": [
      "Pay period of 2019-12-31 00:00:00\n"
     ]
    },
    {
     "data": {
      "text/markdown": [
       "We paid House Payment  **1479.38** $. The new reamining balance is 17618.87999999995 pay left 420.6199999999999"
      ],
      "text/plain": [
       "<IPython.core.display.Markdown object>"
      ]
     },
     "metadata": {},
     "output_type": "display_data"
    },
    {
     "data": {
      "text/markdown": [
       "We paid Self_pay  **10** $. The new reamining balance is 4530 pay left 410.6199999999999"
      ],
      "text/plain": [
       "<IPython.core.display.Markdown object>"
      ]
     },
     "metadata": {},
     "output_type": "display_data"
    },
    {
     "data": {
      "text/markdown": [
       "the amount of remaining pay is 410.6199999999999 "
      ],
      "text/plain": [
       "<IPython.core.display.Markdown object>"
      ]
     },
     "metadata": {},
     "output_type": "display_data"
    },
    {
     "data": {
      "text/markdown": [
       "#### extra payment of 410.6199999999999 was applied to House Payment and the new balance is 17208.25999999995"
      ],
      "text/plain": [
       "<IPython.core.display.Markdown object>"
      ]
     },
     "metadata": {},
     "output_type": "display_data"
    },
    {
     "name": "stdout",
     "output_type": "stream",
     "text": [
      "Pay period of 2020-01-15 00:00:00\n"
     ]
    },
    {
     "data": {
      "text/markdown": [
       "We paid Self_pay  **10** $. The new reamining balance is 4520 pay left 1890.0"
      ],
      "text/plain": [
       "<IPython.core.display.Markdown object>"
      ]
     },
     "metadata": {},
     "output_type": "display_data"
    },
    {
     "data": {
      "text/markdown": [
       "the amount of remaining pay is 1890.0 "
      ],
      "text/plain": [
       "<IPython.core.display.Markdown object>"
      ]
     },
     "metadata": {},
     "output_type": "display_data"
    },
    {
     "data": {
      "text/markdown": [
       "#### extra payment of 1890.0 was applied to House Payment and the new balance is 15318.259999999951"
      ],
      "text/plain": [
       "<IPython.core.display.Markdown object>"
      ]
     },
     "metadata": {},
     "output_type": "display_data"
    },
    {
     "name": "stdout",
     "output_type": "stream",
     "text": [
      "Pay period of 2020-01-31 00:00:00\n"
     ]
    },
    {
     "data": {
      "text/markdown": [
       "We paid House Payment  **1479.38** $. The new reamining balance is 13838.87999999995 pay left 420.6199999999999"
      ],
      "text/plain": [
       "<IPython.core.display.Markdown object>"
      ]
     },
     "metadata": {},
     "output_type": "display_data"
    },
    {
     "data": {
      "text/markdown": [
       "We paid Self_pay  **10** $. The new reamining balance is 4510 pay left 410.6199999999999"
      ],
      "text/plain": [
       "<IPython.core.display.Markdown object>"
      ]
     },
     "metadata": {},
     "output_type": "display_data"
    },
    {
     "data": {
      "text/markdown": [
       "the amount of remaining pay is 410.6199999999999 "
      ],
      "text/plain": [
       "<IPython.core.display.Markdown object>"
      ]
     },
     "metadata": {},
     "output_type": "display_data"
    },
    {
     "data": {
      "text/markdown": [
       "#### extra payment of 410.6199999999999 was applied to House Payment and the new balance is 13428.259999999951"
      ],
      "text/plain": [
       "<IPython.core.display.Markdown object>"
      ]
     },
     "metadata": {},
     "output_type": "display_data"
    },
    {
     "name": "stdout",
     "output_type": "stream",
     "text": [
      "Pay period of 2020-02-15 00:00:00\n"
     ]
    },
    {
     "data": {
      "text/markdown": [
       "We paid Self_pay  **10** $. The new reamining balance is 4500 pay left 1890.0"
      ],
      "text/plain": [
       "<IPython.core.display.Markdown object>"
      ]
     },
     "metadata": {},
     "output_type": "display_data"
    },
    {
     "data": {
      "text/markdown": [
       "the amount of remaining pay is 1890.0 "
      ],
      "text/plain": [
       "<IPython.core.display.Markdown object>"
      ]
     },
     "metadata": {},
     "output_type": "display_data"
    },
    {
     "data": {
      "text/markdown": [
       "#### extra payment of 1890.0 was applied to House Payment and the new balance is 11538.259999999951"
      ],
      "text/plain": [
       "<IPython.core.display.Markdown object>"
      ]
     },
     "metadata": {},
     "output_type": "display_data"
    },
    {
     "name": "stdout",
     "output_type": "stream",
     "text": [
      "Pay period of 2020-02-29 00:00:00\n"
     ]
    },
    {
     "data": {
      "text/markdown": [
       "We paid House Payment  **1479.38** $. The new reamining balance is 10058.87999999995 pay left 420.6199999999999"
      ],
      "text/plain": [
       "<IPython.core.display.Markdown object>"
      ]
     },
     "metadata": {},
     "output_type": "display_data"
    },
    {
     "data": {
      "text/markdown": [
       "We paid Self_pay  **10** $. The new reamining balance is 4490 pay left 410.6199999999999"
      ],
      "text/plain": [
       "<IPython.core.display.Markdown object>"
      ]
     },
     "metadata": {},
     "output_type": "display_data"
    },
    {
     "data": {
      "text/markdown": [
       "the amount of remaining pay is 410.6199999999999 "
      ],
      "text/plain": [
       "<IPython.core.display.Markdown object>"
      ]
     },
     "metadata": {},
     "output_type": "display_data"
    },
    {
     "data": {
      "text/markdown": [
       "#### extra payment of 410.6199999999999 was applied to House Payment and the new balance is 9648.259999999951"
      ],
      "text/plain": [
       "<IPython.core.display.Markdown object>"
      ]
     },
     "metadata": {},
     "output_type": "display_data"
    },
    {
     "name": "stdout",
     "output_type": "stream",
     "text": [
      "Pay period of 2020-03-15 00:00:00\n"
     ]
    },
    {
     "data": {
      "text/markdown": [
       "We paid Self_pay  **10** $. The new reamining balance is 4480 pay left 1890.0"
      ],
      "text/plain": [
       "<IPython.core.display.Markdown object>"
      ]
     },
     "metadata": {},
     "output_type": "display_data"
    },
    {
     "data": {
      "text/markdown": [
       "the amount of remaining pay is 1890.0 "
      ],
      "text/plain": [
       "<IPython.core.display.Markdown object>"
      ]
     },
     "metadata": {},
     "output_type": "display_data"
    },
    {
     "data": {
      "text/markdown": [
       "#### extra payment of 1890.0 was applied to House Payment and the new balance is 7758.259999999951"
      ],
      "text/plain": [
       "<IPython.core.display.Markdown object>"
      ]
     },
     "metadata": {},
     "output_type": "display_data"
    },
    {
     "name": "stdout",
     "output_type": "stream",
     "text": [
      "Pay period of 2020-03-31 00:00:00\n"
     ]
    },
    {
     "data": {
      "text/markdown": [
       "We paid House Payment  **1479.38** $. The new reamining balance is 6278.879999999951 pay left 420.6199999999999"
      ],
      "text/plain": [
       "<IPython.core.display.Markdown object>"
      ]
     },
     "metadata": {},
     "output_type": "display_data"
    },
    {
     "data": {
      "text/markdown": [
       "We paid Self_pay  **10** $. The new reamining balance is 4470 pay left 410.6199999999999"
      ],
      "text/plain": [
       "<IPython.core.display.Markdown object>"
      ]
     },
     "metadata": {},
     "output_type": "display_data"
    },
    {
     "data": {
      "text/markdown": [
       "the amount of remaining pay is 410.6199999999999 "
      ],
      "text/plain": [
       "<IPython.core.display.Markdown object>"
      ]
     },
     "metadata": {},
     "output_type": "display_data"
    },
    {
     "data": {
      "text/markdown": [
       "#### extra payment of 410.6199999999999 was applied to House Payment and the new balance is 5868.259999999951"
      ],
      "text/plain": [
       "<IPython.core.display.Markdown object>"
      ]
     },
     "metadata": {},
     "output_type": "display_data"
    },
    {
     "name": "stdout",
     "output_type": "stream",
     "text": [
      "Pay period of 2020-04-15 00:00:00\n"
     ]
    },
    {
     "data": {
      "text/markdown": [
       "We paid Self_pay  **10** $. The new reamining balance is 4460 pay left 1890.0"
      ],
      "text/plain": [
       "<IPython.core.display.Markdown object>"
      ]
     },
     "metadata": {},
     "output_type": "display_data"
    },
    {
     "data": {
      "text/markdown": [
       "the amount of remaining pay is 1890.0 "
      ],
      "text/plain": [
       "<IPython.core.display.Markdown object>"
      ]
     },
     "metadata": {},
     "output_type": "display_data"
    },
    {
     "data": {
      "text/markdown": [
       "#### extra payment of 1890.0 was applied to House Payment and the new balance is 3978.259999999951"
      ],
      "text/plain": [
       "<IPython.core.display.Markdown object>"
      ]
     },
     "metadata": {},
     "output_type": "display_data"
    },
    {
     "name": "stdout",
     "output_type": "stream",
     "text": [
      "Pay period of 2020-04-30 00:00:00\n"
     ]
    },
    {
     "data": {
      "text/markdown": [
       "We paid House Payment  **1479.38** $. The new reamining balance is 2498.879999999951 pay left 420.6199999999999"
      ],
      "text/plain": [
       "<IPython.core.display.Markdown object>"
      ]
     },
     "metadata": {},
     "output_type": "display_data"
    },
    {
     "data": {
      "text/markdown": [
       "We paid Self_pay  **10** $. The new reamining balance is 4450 pay left 410.6199999999999"
      ],
      "text/plain": [
       "<IPython.core.display.Markdown object>"
      ]
     },
     "metadata": {},
     "output_type": "display_data"
    },
    {
     "data": {
      "text/markdown": [
       "the amount of remaining pay is 410.6199999999999 "
      ],
      "text/plain": [
       "<IPython.core.display.Markdown object>"
      ]
     },
     "metadata": {},
     "output_type": "display_data"
    },
    {
     "data": {
      "text/markdown": [
       "#### extra payment of 410.6199999999999 was applied to House Payment and the new balance is 2088.259999999951"
      ],
      "text/plain": [
       "<IPython.core.display.Markdown object>"
      ]
     },
     "metadata": {},
     "output_type": "display_data"
    },
    {
     "name": "stdout",
     "output_type": "stream",
     "text": [
      "Pay period of 2020-05-15 00:00:00\n"
     ]
    },
    {
     "data": {
      "text/markdown": [
       "We paid Self_pay  **10** $. The new reamining balance is 4440 pay left 1890.0"
      ],
      "text/plain": [
       "<IPython.core.display.Markdown object>"
      ]
     },
     "metadata": {},
     "output_type": "display_data"
    },
    {
     "data": {
      "text/markdown": [
       "the amount of remaining pay is 1890.0 "
      ],
      "text/plain": [
       "<IPython.core.display.Markdown object>"
      ]
     },
     "metadata": {},
     "output_type": "display_data"
    },
    {
     "data": {
      "text/markdown": [
       "#### extra payment of 1890.0 was applied to House Payment and the new balance is 198.2599999999511"
      ],
      "text/plain": [
       "<IPython.core.display.Markdown object>"
      ]
     },
     "metadata": {},
     "output_type": "display_data"
    },
    {
     "name": "stdout",
     "output_type": "stream",
     "text": [
      "Pay period of 2020-05-31 00:00:00\n"
     ]
    },
    {
     "data": {
      "text/markdown": [
       "#### We are paying off House Payment has a balance of 198.2599999999511 is paid off and pay left over is 1701.740000000049"
      ],
      "text/plain": [
       "<IPython.core.display.Markdown object>"
      ]
     },
     "metadata": {},
     "output_type": "display_data"
    },
    {
     "data": {
      "text/markdown": [
       "## payoff bill House Payment"
      ],
      "text/plain": [
       "<IPython.core.display.Markdown object>"
      ]
     },
     "metadata": {},
     "output_type": "display_data"
    },
    {
     "data": {
      "text/markdown": [
       "We paid House Payment  **198.2599999999511** $. The new reamining balance is 0 pay left 1701.740000000049"
      ],
      "text/plain": [
       "<IPython.core.display.Markdown object>"
      ]
     },
     "metadata": {},
     "output_type": "display_data"
    },
    {
     "data": {
      "text/markdown": [
       "We paid Self_pay  **10** $. The new reamining balance is 4430 pay left 1691.740000000049"
      ],
      "text/plain": [
       "<IPython.core.display.Markdown object>"
      ]
     },
     "metadata": {},
     "output_type": "display_data"
    },
    {
     "data": {
      "text/markdown": [
       "the amount of remaining pay is 1691.740000000049 "
      ],
      "text/plain": [
       "<IPython.core.display.Markdown object>"
      ]
     },
     "metadata": {},
     "output_type": "display_data"
    },
    {
     "name": "stdout",
     "output_type": "stream",
     "text": [
      "Pay period of 2020-06-15 00:00:00\n"
     ]
    },
    {
     "data": {
      "text/markdown": [
       "We paid Self_pay  **10** $. The new reamining balance is 4420 pay left 1890.0"
      ],
      "text/plain": [
       "<IPython.core.display.Markdown object>"
      ]
     },
     "metadata": {},
     "output_type": "display_data"
    },
    {
     "data": {
      "text/markdown": [
       "the amount of remaining pay is 1890.0 "
      ],
      "text/plain": [
       "<IPython.core.display.Markdown object>"
      ]
     },
     "metadata": {},
     "output_type": "display_data"
    },
    {
     "name": "stdout",
     "output_type": "stream",
     "text": [
      "Pay period of 2020-06-30 00:00:00\n"
     ]
    },
    {
     "data": {
      "text/markdown": [
       "We paid Self_pay  **10** $. The new reamining balance is 4410 pay left 1890.0"
      ],
      "text/plain": [
       "<IPython.core.display.Markdown object>"
      ]
     },
     "metadata": {},
     "output_type": "display_data"
    },
    {
     "data": {
      "text/markdown": [
       "the amount of remaining pay is 1890.0 "
      ],
      "text/plain": [
       "<IPython.core.display.Markdown object>"
      ]
     },
     "metadata": {},
     "output_type": "display_data"
    },
    {
     "name": "stdout",
     "output_type": "stream",
     "text": [
      "Pay period of 2020-07-15 00:00:00\n"
     ]
    },
    {
     "data": {
      "text/markdown": [
       "We paid Self_pay  **10** $. The new reamining balance is 4400 pay left 1890.0"
      ],
      "text/plain": [
       "<IPython.core.display.Markdown object>"
      ]
     },
     "metadata": {},
     "output_type": "display_data"
    },
    {
     "data": {
      "text/markdown": [
       "the amount of remaining pay is 1890.0 "
      ],
      "text/plain": [
       "<IPython.core.display.Markdown object>"
      ]
     },
     "metadata": {},
     "output_type": "display_data"
    }
   ],
   "source": [
    "# loop though pay days \n",
    "for Date in paydays:\n",
    "    # this is our pay    \n",
    "    net_pay = 1900.0\n",
    "    \n",
    "    print(\"Pay period of {}\".format(Date))\n",
    "    \n",
    "    for bill in bills:\n",
    "        # mid month payments\n",
    "        if bills[bill]['due_day'][1] == 15 and Date.day == 15:                      \n",
    "            bill_due = True\n",
    "        # end month payments\n",
    "        elif bills[bill]['due_day'][1] != 15 and Date.day != 15:\n",
    "            bill_due = True\n",
    "        # if it doenst fall in these catagories we dont pay    \n",
    "        else:\n",
    "            bill_due = False\n",
    "        # if we have a tuple here, we assum we need to pay it both pay periods\n",
    "        try:\n",
    "            if len(bills[bill]['due_day'][1]) == 2:\n",
    "                bill_due = True\n",
    "        except:\n",
    "            pass\n",
    "        \n",
    "        last_balance_index = len(bills[bill]['balance']) - 1\n",
    "        \n",
    "        # balance is current balance minus minimum payment\n",
    "        balance = bills[bill]['balance'][last_balance_index] - bills[bill]['minimum_payment']\n",
    "        \n",
    "        if balance < 0:\n",
    "            \n",
    "            remainder = bills[bill]['minimum_payment'] - bills[bill]['balance'][last_balance_index] \n",
    "            \n",
    "        else:\n",
    "            \n",
    "            remainder = 0      \n",
    "            \n",
    "        # bill due on this month and not paid off\n",
    "        \n",
    "        if bill_due and not bills[bill]['paid_off']:\n",
    "            \n",
    "            # if we have money left over\n",
    "            if net_pay > 0:\n",
    "\n",
    "                # balance \n",
    "                if balance >= 0:\n",
    "                    \n",
    "                    if bill == \"House Payment\" and Date == datetime(2018, 1, 31):\n",
    "                    \n",
    "                        amonut_paid = 939.69\n",
    "                        \n",
    "                        balance = bills[bill]['balance'][last_balance_index] - amonut_paid\n",
    "\n",
    "                        net_pay -= amonut_paid\n",
    "                        \n",
    "                    elif bill == \"Home depot Door/Fans\" and Date == datetime(2018, 2, 15):\n",
    "                    \n",
    "                        amonut_paid = 350\n",
    "                        \n",
    "                        balance = bills[bill]['balance'][last_balance_index] - amonut_paid\n",
    "\n",
    "                        net_pay -= amonut_paid\n",
    "                        \n",
    "                    else:\n",
    "                        \n",
    "                        amonut_paid = bills[bill]['minimum_payment']\n",
    "\n",
    "                        net_pay -= amonut_paid\n",
    "                        \n",
    "                        if bill == \"Self_pay\":\n",
    "                            \n",
    "                            savings['balance'] += amonut_paid\n",
    "                        \n",
    "                    bills[bill]['balance'].append(balance)    \n",
    "                    \n",
    "                    if balance == 0:\n",
    "                        \n",
    "                        printmd(\"## payoff bill {}\".format(bill))\n",
    "                    \n",
    "                        bills[bill]['paid_off'] = True\n",
    "                        \n",
    "                else:\n",
    "                    \n",
    "                    amonut_paid = bills[bill]['balance'][last_balance_index]\n",
    "                    \n",
    "                    net_pay -= amonut_paid\n",
    "                    \n",
    "                    printmd(\"#### We are paying off {} has a balance of {} is paid off and pay left over is {}\".format(bill, amonut_paid, net_pay))\n",
    "                    \n",
    "                    balance = 0\n",
    "                    \n",
    "                    bills[bill]['balance'].append(balance)\n",
    "                    \n",
    "                    bills[bill]['paid_off'] = True\n",
    "                    \n",
    "                    printmd(\"## payoff bill {}\".format(bill))\n",
    "                \n",
    "                paid = \"was\"\n",
    "                \n",
    "        # not a pay day\n",
    "        else:\n",
    "            \n",
    "            bills[bill]['balance'].append(bills[bill]['balance'][last_balance_index])\n",
    "            \n",
    "            paid = \"was not\"\n",
    "        \n",
    "        if paid == \"was\":\n",
    "            \n",
    "            printmd(\"We paid {}  **{}** $. The new reamining balance is {} pay left {}\".format(bill, amonut_paid , balance, net_pay))\n",
    "            \n",
    "        \n",
    "       \n",
    "    printmd(\"the amount of remaining pay is {} \".format(net_pay))\n",
    "    \n",
    "    ## need to calculate the balance left to be paid, need to check the idx of last_balance_index\n",
    "    ## cant forget to update the balance after the remaining pay is apliled\n",
    "    \n",
    "    for bill in bills:\n",
    "        \n",
    "        if bills[bill][\"showball\"] == True and bills[bill][\"paid_off\"] == False:\n",
    "\n",
    "            balance_index = len(bills[bill]['balance']) - 1\n",
    "\n",
    "            balance = bills[bill]['balance'][balance_index]\n",
    "\n",
    "            if net_pay > bills[bill]['balance'][balance_index]:\n",
    "                \n",
    "                net_pay_change = True\n",
    "                \n",
    "                net_pay = net_pay - bills[bill]['balance'][balance_index]\n",
    "\n",
    "                extra_payment = bills[bill]['balance'][balance_index] \n",
    "\n",
    "            else:\n",
    "\n",
    "                extra_payment = net_pay\n",
    "                \n",
    "                net_pay_change = False\n",
    "\n",
    "            if balance > 0 and net_pay > 0 and bills[bill][\"showball\"] == True:\n",
    "                \n",
    "                balance =  bills[bill]['balance'][balance_index] - extra_payment\n",
    "\n",
    "                bills[bill]['balance'][balance_index] = balance\n",
    "                \n",
    "                if net_pay_change == False:\n",
    "\n",
    "                    net_pay -= extra_payment\n",
    "\n",
    "                printmd(\"#### extra payment of {} was applied to {} and the new balance is {}\".format(extra_payment, bill, balance))\n",
    "                \n",
    "                if balance == 0:\n",
    "                    \n",
    "                    bills[bill]['paid_off'] = True\n",
    "                    \n",
    "                    printmd(\"## payoff bill {}\".format(bill))\n",
    "\n",
    "                "
   ]
  },
  {
   "cell_type": "code",
   "execution_count": 6,
   "metadata": {
    "scrolled": false
   },
   "outputs": [
    {
     "data": {
      "text/plain": [
       "OrderedDict([('Synchrony Computer',\n",
       "              {'balance': [1275.57,\n",
       "                607.26,\n",
       "                191.90999999999997,\n",
       "                63.29000000000008,\n",
       "                0.0,\n",
       "                0.0,\n",
       "                0.0,\n",
       "                0.0,\n",
       "                0.0,\n",
       "                0.0,\n",
       "                0.0,\n",
       "                0.0,\n",
       "                0.0,\n",
       "                0.0,\n",
       "                0.0,\n",
       "                0.0,\n",
       "                0.0,\n",
       "                0.0,\n",
       "                0.0,\n",
       "                0.0,\n",
       "                0.0,\n",
       "                0.0,\n",
       "                0.0,\n",
       "                0.0,\n",
       "                0.0,\n",
       "                0.0,\n",
       "                0.0,\n",
       "                0.0,\n",
       "                0.0,\n",
       "                0.0,\n",
       "                0.0,\n",
       "                0.0,\n",
       "                0.0,\n",
       "                0.0,\n",
       "                0.0,\n",
       "                0.0,\n",
       "                0.0,\n",
       "                0.0,\n",
       "                0.0,\n",
       "                0.0,\n",
       "                0.0,\n",
       "                0.0,\n",
       "                0.0,\n",
       "                0.0,\n",
       "                0.0,\n",
       "                0.0,\n",
       "                0.0,\n",
       "                0.0,\n",
       "                0.0,\n",
       "                0.0,\n",
       "                0.0,\n",
       "                0.0,\n",
       "                0.0,\n",
       "                0.0,\n",
       "                0.0,\n",
       "                0.0,\n",
       "                0.0,\n",
       "                0.0,\n",
       "                0.0,\n",
       "                0.0,\n",
       "                0.0],\n",
       "               'due_day': (23, 15),\n",
       "               'expire_promo': datetime.datetime(2018, 4, 30, 0, 0),\n",
       "               'minimum_payment': 25,\n",
       "               'paid_off': True,\n",
       "               'showball': True,\n",
       "               'starting_balance': 1275.57}),\n",
       "             ('EF Tours Nina',\n",
       "              {'balance': [2450,\n",
       "                2450,\n",
       "                1960,\n",
       "                1960,\n",
       "                1470,\n",
       "                1470,\n",
       "                980,\n",
       "                980,\n",
       "                490,\n",
       "                490,\n",
       "                0,\n",
       "                0,\n",
       "                0,\n",
       "                0,\n",
       "                0,\n",
       "                0,\n",
       "                0,\n",
       "                0,\n",
       "                0,\n",
       "                0,\n",
       "                0,\n",
       "                0,\n",
       "                0,\n",
       "                0,\n",
       "                0,\n",
       "                0,\n",
       "                0,\n",
       "                0,\n",
       "                0,\n",
       "                0,\n",
       "                0,\n",
       "                0,\n",
       "                0,\n",
       "                0,\n",
       "                0,\n",
       "                0,\n",
       "                0,\n",
       "                0,\n",
       "                0,\n",
       "                0,\n",
       "                0,\n",
       "                0,\n",
       "                0,\n",
       "                0,\n",
       "                0,\n",
       "                0,\n",
       "                0,\n",
       "                0,\n",
       "                0,\n",
       "                0,\n",
       "                0,\n",
       "                0,\n",
       "                0,\n",
       "                0,\n",
       "                0,\n",
       "                0,\n",
       "                0,\n",
       "                0,\n",
       "                0,\n",
       "                0,\n",
       "                0],\n",
       "               'due_day': (15, 15),\n",
       "               'expire_promo': datetime.datetime(2018, 6, 15, 0, 0),\n",
       "               'minimum_payment': 490,\n",
       "               'paid_off': True,\n",
       "               'showball': False,\n",
       "               'starting_balance': 2450}),\n",
       "             ('EF Tours Lena',\n",
       "              {'balance': [2450,\n",
       "                2450,\n",
       "                2014,\n",
       "                2014,\n",
       "                1578,\n",
       "                1578,\n",
       "                1142,\n",
       "                1142,\n",
       "                706,\n",
       "                706,\n",
       "                270,\n",
       "                270,\n",
       "                0,\n",
       "                0,\n",
       "                0,\n",
       "                0,\n",
       "                0,\n",
       "                0,\n",
       "                0,\n",
       "                0,\n",
       "                0,\n",
       "                0,\n",
       "                0,\n",
       "                0,\n",
       "                0,\n",
       "                0,\n",
       "                0,\n",
       "                0,\n",
       "                0,\n",
       "                0,\n",
       "                0,\n",
       "                0,\n",
       "                0,\n",
       "                0,\n",
       "                0,\n",
       "                0,\n",
       "                0,\n",
       "                0,\n",
       "                0,\n",
       "                0,\n",
       "                0,\n",
       "                0,\n",
       "                0,\n",
       "                0,\n",
       "                0,\n",
       "                0,\n",
       "                0,\n",
       "                0,\n",
       "                0,\n",
       "                0,\n",
       "                0,\n",
       "                0,\n",
       "                0,\n",
       "                0,\n",
       "                0,\n",
       "                0,\n",
       "                0,\n",
       "                0,\n",
       "                0,\n",
       "                0,\n",
       "                0],\n",
       "               'due_day': (15, 15),\n",
       "               'expire_promo': datetime.datetime(2018, 6, 15, 0, 0),\n",
       "               'minimum_payment': 436,\n",
       "               'paid_off': True,\n",
       "               'showball': False,\n",
       "               'starting_balance': 2450}),\n",
       "             ('Chase Mary Kay',\n",
       "              {'balance': [1101.97,\n",
       "                1076.97,\n",
       "                1076.97,\n",
       "                1051.97,\n",
       "                374.9100000000001,\n",
       "                221.2900000000002,\n",
       "                0.0,\n",
       "                0.0,\n",
       "                0.0,\n",
       "                0.0,\n",
       "                0.0,\n",
       "                0.0,\n",
       "                0.0,\n",
       "                0.0,\n",
       "                0.0,\n",
       "                0.0,\n",
       "                0.0,\n",
       "                0.0,\n",
       "                0.0,\n",
       "                0.0,\n",
       "                0.0,\n",
       "                0.0,\n",
       "                0.0,\n",
       "                0.0,\n",
       "                0.0,\n",
       "                0.0,\n",
       "                0.0,\n",
       "                0.0,\n",
       "                0.0,\n",
       "                0.0,\n",
       "                0.0,\n",
       "                0.0,\n",
       "                0.0,\n",
       "                0.0,\n",
       "                0.0,\n",
       "                0.0,\n",
       "                0.0,\n",
       "                0.0,\n",
       "                0.0,\n",
       "                0.0,\n",
       "                0.0,\n",
       "                0.0,\n",
       "                0.0,\n",
       "                0.0,\n",
       "                0.0,\n",
       "                0.0,\n",
       "                0.0,\n",
       "                0.0,\n",
       "                0.0,\n",
       "                0.0,\n",
       "                0.0,\n",
       "                0.0,\n",
       "                0.0,\n",
       "                0.0,\n",
       "                0.0,\n",
       "                0.0,\n",
       "                0.0,\n",
       "                0.0,\n",
       "                0.0,\n",
       "                0.0,\n",
       "                0.0],\n",
       "               'due_day': (12, 30),\n",
       "               'expire_promo': datetime.datetime(2018, 7, 15, 0, 0),\n",
       "               'minimum_payment': 25,\n",
       "               'paid_off': True,\n",
       "               'showball': True,\n",
       "               'starting_balance': 1101.97}),\n",
       "             ('Home depot Door/Fans',\n",
       "              {'balance': [1066.67,\n",
       "                1066.67,\n",
       "                716.6700000000001,\n",
       "                716.6700000000001,\n",
       "                691.6700000000001,\n",
       "                691.6700000000001,\n",
       "                147.61000000000024,\n",
       "                0.0,\n",
       "                0.0,\n",
       "                0.0,\n",
       "                0.0,\n",
       "                0.0,\n",
       "                0.0,\n",
       "                0.0,\n",
       "                0.0,\n",
       "                0.0,\n",
       "                0.0,\n",
       "                0.0,\n",
       "                0.0,\n",
       "                0.0,\n",
       "                0.0,\n",
       "                0.0,\n",
       "                0.0,\n",
       "                0.0,\n",
       "                0.0,\n",
       "                0.0,\n",
       "                0.0,\n",
       "                0.0,\n",
       "                0.0,\n",
       "                0.0,\n",
       "                0.0,\n",
       "                0.0,\n",
       "                0.0,\n",
       "                0.0,\n",
       "                0.0,\n",
       "                0.0,\n",
       "                0.0,\n",
       "                0.0,\n",
       "                0.0,\n",
       "                0.0,\n",
       "                0.0,\n",
       "                0.0,\n",
       "                0.0,\n",
       "                0.0,\n",
       "                0.0,\n",
       "                0.0,\n",
       "                0.0,\n",
       "                0.0,\n",
       "                0.0,\n",
       "                0.0,\n",
       "                0.0,\n",
       "                0.0,\n",
       "                0.0,\n",
       "                0.0,\n",
       "                0.0,\n",
       "                0.0,\n",
       "                0.0,\n",
       "                0.0,\n",
       "                0.0,\n",
       "                0.0,\n",
       "                0.0],\n",
       "               'due_day': (18, 15),\n",
       "               'expire_promo': datetime.datetime(2018, 10, 18, 0, 0),\n",
       "               'minimum_payment': 25,\n",
       "               'paid_off': True,\n",
       "               'showball': True,\n",
       "               'starting_balance': 1066.67}),\n",
       "             ('Home depot Door/lights',\n",
       "              {'balance': [1066.67,\n",
       "                1066.67,\n",
       "                1041.67,\n",
       "                1041.67,\n",
       "                1016.6700000000001,\n",
       "                1016.6700000000001,\n",
       "                991.6700000000001,\n",
       "                985.6600000000004,\n",
       "                195.3100000000004,\n",
       "                41.69000000000051,\n",
       "                0.0,\n",
       "                0.0,\n",
       "                0.0,\n",
       "                0.0,\n",
       "                0.0,\n",
       "                0.0,\n",
       "                0.0,\n",
       "                0.0,\n",
       "                0.0,\n",
       "                0.0,\n",
       "                0.0,\n",
       "                0.0,\n",
       "                0.0,\n",
       "                0.0,\n",
       "                0.0,\n",
       "                0.0,\n",
       "                0.0,\n",
       "                0.0,\n",
       "                0.0,\n",
       "                0.0,\n",
       "                0.0,\n",
       "                0.0,\n",
       "                0.0,\n",
       "                0.0,\n",
       "                0.0,\n",
       "                0.0,\n",
       "                0.0,\n",
       "                0.0,\n",
       "                0.0,\n",
       "                0.0,\n",
       "                0.0,\n",
       "                0.0,\n",
       "                0.0,\n",
       "                0.0,\n",
       "                0.0,\n",
       "                0.0,\n",
       "                0.0,\n",
       "                0.0,\n",
       "                0.0,\n",
       "                0.0,\n",
       "                0.0,\n",
       "                0.0,\n",
       "                0.0,\n",
       "                0.0,\n",
       "                0.0,\n",
       "                0.0,\n",
       "                0.0,\n",
       "                0.0,\n",
       "                0.0,\n",
       "                0.0,\n",
       "                0.0],\n",
       "               'due_day': (18, 15),\n",
       "               'expire_promo': datetime.datetime(2018, 10, 18, 0, 0),\n",
       "               'minimum_payment': 25,\n",
       "               'paid_off': True,\n",
       "               'showball': True,\n",
       "               'starting_balance': 1066.67}),\n",
       "             ('Citi Card Hard Drives',\n",
       "              {'balance': [1307.33,\n",
       "                1307.33,\n",
       "                1282.33,\n",
       "                1282.33,\n",
       "                1257.33,\n",
       "                1257.33,\n",
       "                1232.33,\n",
       "                1232.33,\n",
       "                1207.33,\n",
       "                1207.33,\n",
       "                433.6700000000004,\n",
       "                280.0500000000005,\n",
       "                0.0,\n",
       "                0.0,\n",
       "                0.0,\n",
       "                0.0,\n",
       "                0.0,\n",
       "                0.0,\n",
       "                0.0,\n",
       "                0.0,\n",
       "                0.0,\n",
       "                0.0,\n",
       "                0.0,\n",
       "                0.0,\n",
       "                0.0,\n",
       "                0.0,\n",
       "                0.0,\n",
       "                0.0,\n",
       "                0.0,\n",
       "                0.0,\n",
       "                0.0,\n",
       "                0.0,\n",
       "                0.0,\n",
       "                0.0,\n",
       "                0.0,\n",
       "                0.0,\n",
       "                0.0,\n",
       "                0.0,\n",
       "                0.0,\n",
       "                0.0,\n",
       "                0.0,\n",
       "                0.0,\n",
       "                0.0,\n",
       "                0.0,\n",
       "                0.0,\n",
       "                0.0,\n",
       "                0.0,\n",
       "                0.0,\n",
       "                0.0,\n",
       "                0.0,\n",
       "                0.0,\n",
       "                0.0,\n",
       "                0.0,\n",
       "                0.0,\n",
       "                0.0,\n",
       "                0.0,\n",
       "                0.0,\n",
       "                0.0,\n",
       "                0.0,\n",
       "                0.0,\n",
       "                0.0],\n",
       "               'due_day': (17, 15),\n",
       "               'expire_promo': datetime.datetime(2018, 12, 14, 0, 0),\n",
       "               'minimum_payment': 25,\n",
       "               'paid_off': True,\n",
       "               'showball': True,\n",
       "               'starting_balance': 1307.33}),\n",
       "             ('WellsFargo Computer',\n",
       "              {'balance': [1313.31,\n",
       "                1313.31,\n",
       "                1249.6599999999999,\n",
       "                1249.6599999999999,\n",
       "                1186.0099999999998,\n",
       "                1186.0099999999998,\n",
       "                1122.3599999999997,\n",
       "                1122.3599999999997,\n",
       "                1058.7099999999996,\n",
       "                1058.7099999999996,\n",
       "                995.0599999999996,\n",
       "                995.0599999999996,\n",
       "                0.0,\n",
       "                0.0,\n",
       "                0.0,\n",
       "                0.0,\n",
       "                0.0,\n",
       "                0.0,\n",
       "                0.0,\n",
       "                0.0,\n",
       "                0.0,\n",
       "                0.0,\n",
       "                0.0,\n",
       "                0.0,\n",
       "                0.0,\n",
       "                0.0,\n",
       "                0.0,\n",
       "                0.0,\n",
       "                0.0,\n",
       "                0.0,\n",
       "                0.0,\n",
       "                0.0,\n",
       "                0.0,\n",
       "                0.0,\n",
       "                0.0,\n",
       "                0.0,\n",
       "                0.0,\n",
       "                0.0,\n",
       "                0.0,\n",
       "                0.0,\n",
       "                0.0,\n",
       "                0.0,\n",
       "                0.0,\n",
       "                0.0,\n",
       "                0.0,\n",
       "                0.0,\n",
       "                0.0,\n",
       "                0.0,\n",
       "                0.0,\n",
       "                0.0,\n",
       "                0.0,\n",
       "                0.0,\n",
       "                0.0,\n",
       "                0.0,\n",
       "                0.0,\n",
       "                0.0,\n",
       "                0.0,\n",
       "                0.0,\n",
       "                0.0,\n",
       "                0.0,\n",
       "                0.0],\n",
       "               'due_day': (18, 15),\n",
       "               'expire_promo': datetime.datetime(2019, 2, 21, 0, 0),\n",
       "               'minimum_payment': 63.65,\n",
       "               'paid_off': True,\n",
       "               'showball': True,\n",
       "               'starting_balance': 1313.31}),\n",
       "             ('WellsFargo A/C',\n",
       "              {'balance': [5884.56,\n",
       "                5627.56,\n",
       "                5627.56,\n",
       "                5370.56,\n",
       "                5370.56,\n",
       "                5113.56,\n",
       "                5113.56,\n",
       "                4856.56,\n",
       "                4856.56,\n",
       "                4599.56,\n",
       "                4599.56,\n",
       "                4342.56,\n",
       "                4082.670000000001,\n",
       "                3672.050000000001,\n",
       "                1867.050000000001,\n",
       "                1456.4300000000012,\n",
       "                0.0,\n",
       "                0.0,\n",
       "                0.0,\n",
       "                0.0,\n",
       "                0.0,\n",
       "                0.0,\n",
       "                0.0,\n",
       "                0.0,\n",
       "                0.0,\n",
       "                0.0,\n",
       "                0.0,\n",
       "                0.0,\n",
       "                0.0,\n",
       "                0.0,\n",
       "                0.0,\n",
       "                0.0,\n",
       "                0.0,\n",
       "                0.0,\n",
       "                0.0,\n",
       "                0.0,\n",
       "                0.0,\n",
       "                0.0,\n",
       "                0.0,\n",
       "                0.0,\n",
       "                0.0,\n",
       "                0.0,\n",
       "                0.0,\n",
       "                0.0,\n",
       "                0.0,\n",
       "                0.0,\n",
       "                0.0,\n",
       "                0.0,\n",
       "                0.0,\n",
       "                0.0,\n",
       "                0.0,\n",
       "                0.0,\n",
       "                0.0,\n",
       "                0.0,\n",
       "                0.0,\n",
       "                0.0,\n",
       "                0.0,\n",
       "                0.0,\n",
       "                0.0,\n",
       "                0.0,\n",
       "                0.0],\n",
       "               'due_day': (8, 30),\n",
       "               'expire_promo': datetime.datetime(2020, 1, 30, 0, 0),\n",
       "               'minimum_payment': 257,\n",
       "               'paid_off': True,\n",
       "               'showball': True,\n",
       "               'starting_balance': 5884.56}),\n",
       "             ('Synchrony Bank Home Zone',\n",
       "              {'balance': [3612.73,\n",
       "                3612.73,\n",
       "                3527.73,\n",
       "                3527.73,\n",
       "                3442.73,\n",
       "                3442.73,\n",
       "                3357.73,\n",
       "                3357.73,\n",
       "                3272.73,\n",
       "                3272.73,\n",
       "                3187.73,\n",
       "                3187.73,\n",
       "                3102.73,\n",
       "                3102.73,\n",
       "                3017.73,\n",
       "                3017.73,\n",
       "                2584.160000000001,\n",
       "                2173.5400000000013,\n",
       "                283.5400000000013,\n",
       "                0.0,\n",
       "                0.0,\n",
       "                0.0,\n",
       "                0.0,\n",
       "                0.0,\n",
       "                0.0,\n",
       "                0.0,\n",
       "                0.0,\n",
       "                0.0,\n",
       "                0.0,\n",
       "                0.0,\n",
       "                0.0,\n",
       "                0.0,\n",
       "                0.0,\n",
       "                0.0,\n",
       "                0.0,\n",
       "                0.0,\n",
       "                0.0,\n",
       "                0.0,\n",
       "                0.0,\n",
       "                0.0,\n",
       "                0.0,\n",
       "                0.0,\n",
       "                0.0,\n",
       "                0.0,\n",
       "                0.0,\n",
       "                0.0,\n",
       "                0.0,\n",
       "                0.0,\n",
       "                0.0,\n",
       "                0.0,\n",
       "                0.0,\n",
       "                0.0,\n",
       "                0.0,\n",
       "                0.0,\n",
       "                0.0,\n",
       "                0.0,\n",
       "                0.0,\n",
       "                0.0,\n",
       "                0.0,\n",
       "                0.0,\n",
       "                0.0],\n",
       "               'due_day': (15, 15),\n",
       "               'expire_promo': datetime.datetime(2021, 7, 3, 0, 0),\n",
       "               'minimum_payment': 85,\n",
       "               'paid_off': True,\n",
       "               'showball': True,\n",
       "               'starting_balance': 3612.73}),\n",
       "             ('House Payment',\n",
       "              {'balance': [84509.45,\n",
       "                83569.76,\n",
       "                83569.76,\n",
       "                82090.37999999999,\n",
       "                82090.37999999999,\n",
       "                80610.99999999999,\n",
       "                80610.99999999999,\n",
       "                79131.61999999998,\n",
       "                79131.61999999998,\n",
       "                77652.23999999998,\n",
       "                77652.23999999998,\n",
       "                76172.85999999997,\n",
       "                76172.85999999997,\n",
       "                74693.47999999997,\n",
       "                74693.47999999997,\n",
       "                73214.09999999996,\n",
       "                73214.09999999996,\n",
       "                71734.71999999996,\n",
       "                71734.71999999996,\n",
       "                70128.25999999995,\n",
       "                68238.25999999995,\n",
       "                66348.25999999995,\n",
       "                64458.25999999995,\n",
       "                62568.25999999995,\n",
       "                60678.25999999995,\n",
       "                58788.25999999995,\n",
       "                56898.25999999995,\n",
       "                55008.25999999995,\n",
       "                53118.25999999995,\n",
       "                51228.25999999995,\n",
       "                49338.25999999995,\n",
       "                47448.25999999995,\n",
       "                45558.25999999995,\n",
       "                43668.25999999995,\n",
       "                41778.25999999995,\n",
       "                39888.25999999995,\n",
       "                37998.25999999995,\n",
       "                36108.25999999995,\n",
       "                34218.25999999995,\n",
       "                32328.25999999995,\n",
       "                30438.25999999995,\n",
       "                28548.25999999995,\n",
       "                26658.25999999995,\n",
       "                24768.25999999995,\n",
       "                22878.25999999995,\n",
       "                20988.25999999995,\n",
       "                19098.25999999995,\n",
       "                17208.25999999995,\n",
       "                15318.259999999951,\n",
       "                13428.259999999951,\n",
       "                11538.259999999951,\n",
       "                9648.259999999951,\n",
       "                7758.259999999951,\n",
       "                5868.259999999951,\n",
       "                3978.259999999951,\n",
       "                2088.259999999951,\n",
       "                198.2599999999511,\n",
       "                0,\n",
       "                0,\n",
       "                0,\n",
       "                0],\n",
       "               'due_day': (1, 30),\n",
       "               'expire_promo': datetime.datetime(2032, 2, 1, 0, 0),\n",
       "               'minimum_payment': 1479.38,\n",
       "               'paid_off': True,\n",
       "               'showball': True,\n",
       "               'starting_balance': 84509.45}),\n",
       "             ('Self_pay',\n",
       "              {'balance': [5000,\n",
       "                4990,\n",
       "                4980,\n",
       "                4970,\n",
       "                4960,\n",
       "                4950,\n",
       "                4940,\n",
       "                4930,\n",
       "                4920,\n",
       "                4910,\n",
       "                4900,\n",
       "                4890,\n",
       "                4880,\n",
       "                4870,\n",
       "                4860,\n",
       "                4850,\n",
       "                4840,\n",
       "                4830,\n",
       "                4820,\n",
       "                4810,\n",
       "                4800,\n",
       "                4790,\n",
       "                4780,\n",
       "                4770,\n",
       "                4760,\n",
       "                4750,\n",
       "                4740,\n",
       "                4730,\n",
       "                4720,\n",
       "                4710,\n",
       "                4700,\n",
       "                4690,\n",
       "                4680,\n",
       "                4670,\n",
       "                4660,\n",
       "                4650,\n",
       "                4640,\n",
       "                4630,\n",
       "                4620,\n",
       "                4610,\n",
       "                4600,\n",
       "                4590,\n",
       "                4580,\n",
       "                4570,\n",
       "                4560,\n",
       "                4550,\n",
       "                4540,\n",
       "                4530,\n",
       "                4520,\n",
       "                4510,\n",
       "                4500,\n",
       "                4490,\n",
       "                4480,\n",
       "                4470,\n",
       "                4460,\n",
       "                4450,\n",
       "                4440,\n",
       "                4430,\n",
       "                4420,\n",
       "                4410,\n",
       "                4400],\n",
       "               'due_day': (15, (15, 30)),\n",
       "               'expire_promo': datetime.datetime(2099, 1, 15, 0, 0),\n",
       "               'minimum_payment': 10,\n",
       "               'paid_off': False,\n",
       "               'showball': False,\n",
       "               'starting_balance': 5000})])"
      ]
     },
     "execution_count": 6,
     "metadata": {},
     "output_type": "execute_result"
    }
   ],
   "source": [
    "bills"
   ]
  },
  {
   "cell_type": "code",
   "execution_count": 7,
   "metadata": {},
   "outputs": [
    {
     "data": {
      "text/plain": [
       "['Synchrony Computer',\n",
       " 'EF Tours Nina',\n",
       " 'EF Tours Lena',\n",
       " 'Chase Mary Kay',\n",
       " 'Home depot Door/Fans',\n",
       " 'Home depot Door/lights',\n",
       " 'Citi Card Hard Drives',\n",
       " 'WellsFargo Computer',\n",
       " 'WellsFargo A/C',\n",
       " 'Synchrony Bank Home Zone',\n",
       " 'House Payment',\n",
       " 'Self_pay']"
      ]
     },
     "execution_count": 7,
     "metadata": {},
     "output_type": "execute_result"
    }
   ],
   "source": [
    "list_of_dataframes = []\n",
    "list_of_bills = []\n",
    "\n",
    "for bill in bills:\n",
    "    list_of_dataframes.append(pd.DataFrame(bills[bill]['balance']))\n",
    "    list_of_bills.append(bill)\n",
    "    \n",
    "list_of_bills"
   ]
  },
  {
   "cell_type": "code",
   "execution_count": 8,
   "metadata": {},
   "outputs": [],
   "source": [
    "df = pd.concat(list_of_dataframes, axis=1)"
   ]
  },
  {
   "cell_type": "code",
   "execution_count": 9,
   "metadata": {},
   "outputs": [],
   "source": [
    "df.columns = list_of_bills"
   ]
  },
  {
   "cell_type": "code",
   "execution_count": 10,
   "metadata": {},
   "outputs": [
    {
     "data": {
      "text/plain": [
       "61"
      ]
     },
     "execution_count": 10,
     "metadata": {},
     "output_type": "execute_result"
    }
   ],
   "source": [
    "len(df)"
   ]
  },
  {
   "cell_type": "code",
   "execution_count": 11,
   "metadata": {},
   "outputs": [],
   "source": [
    "df['dates'] = dates"
   ]
  },
  {
   "cell_type": "code",
   "execution_count": 12,
   "metadata": {},
   "outputs": [],
   "source": [
    "df.loc[:, \"Self_pay\"] = abs(df.loc[:, \"Self_pay\"] - 5000)"
   ]
  },
  {
   "cell_type": "code",
   "execution_count": 13,
   "metadata": {},
   "outputs": [
    {
     "data": {
      "text/plain": [
       "600"
      ]
     },
     "execution_count": 13,
     "metadata": {},
     "output_type": "execute_result"
    }
   ],
   "source": [
    "savings['balance']"
   ]
  },
  {
   "cell_type": "code",
   "execution_count": 14,
   "metadata": {
    "scrolled": false
   },
   "outputs": [
    {
     "data": {
      "text/html": [
       "<div>\n",
       "<style>\n",
       "    .dataframe thead tr:only-child th {\n",
       "        text-align: right;\n",
       "    }\n",
       "\n",
       "    .dataframe thead th {\n",
       "        text-align: left;\n",
       "    }\n",
       "\n",
       "    .dataframe tbody tr th {\n",
       "        vertical-align: top;\n",
       "    }\n",
       "</style>\n",
       "<table border=\"1\" class=\"dataframe\">\n",
       "  <thead>\n",
       "    <tr style=\"text-align: right;\">\n",
       "      <th></th>\n",
       "      <th>Synchrony Computer</th>\n",
       "      <th>EF Tours Nina</th>\n",
       "      <th>EF Tours Lena</th>\n",
       "      <th>Chase Mary Kay</th>\n",
       "      <th>Home depot Door/Fans</th>\n",
       "      <th>Home depot Door/lights</th>\n",
       "      <th>Citi Card Hard Drives</th>\n",
       "      <th>WellsFargo Computer</th>\n",
       "      <th>WellsFargo A/C</th>\n",
       "      <th>Synchrony Bank Home Zone</th>\n",
       "      <th>House Payment</th>\n",
       "      <th>Self_pay</th>\n",
       "    </tr>\n",
       "    <tr>\n",
       "      <th>dates</th>\n",
       "      <th></th>\n",
       "      <th></th>\n",
       "      <th></th>\n",
       "      <th></th>\n",
       "      <th></th>\n",
       "      <th></th>\n",
       "      <th></th>\n",
       "      <th></th>\n",
       "      <th></th>\n",
       "      <th></th>\n",
       "      <th></th>\n",
       "      <th></th>\n",
       "    </tr>\n",
       "  </thead>\n",
       "  <tbody>\n",
       "    <tr>\n",
       "      <th>2018-01-31</th>\n",
       "      <td>1275.57</td>\n",
       "      <td>2450</td>\n",
       "      <td>2450</td>\n",
       "      <td>1101.97</td>\n",
       "      <td>1066.67</td>\n",
       "      <td>1066.67</td>\n",
       "      <td>1307.33</td>\n",
       "      <td>1313.31</td>\n",
       "      <td>5884.56</td>\n",
       "      <td>3612.73</td>\n",
       "      <td>84509.45</td>\n",
       "      <td>0</td>\n",
       "    </tr>\n",
       "    <tr>\n",
       "      <th>2018-02-15</th>\n",
       "      <td>607.26</td>\n",
       "      <td>2450</td>\n",
       "      <td>2450</td>\n",
       "      <td>1076.97</td>\n",
       "      <td>1066.67</td>\n",
       "      <td>1066.67</td>\n",
       "      <td>1307.33</td>\n",
       "      <td>1313.31</td>\n",
       "      <td>5627.56</td>\n",
       "      <td>3612.73</td>\n",
       "      <td>83569.76</td>\n",
       "      <td>10</td>\n",
       "    </tr>\n",
       "    <tr>\n",
       "      <th>2018-02-28</th>\n",
       "      <td>191.91</td>\n",
       "      <td>1960</td>\n",
       "      <td>2014</td>\n",
       "      <td>1076.97</td>\n",
       "      <td>716.67</td>\n",
       "      <td>1041.67</td>\n",
       "      <td>1282.33</td>\n",
       "      <td>1249.66</td>\n",
       "      <td>5627.56</td>\n",
       "      <td>3527.73</td>\n",
       "      <td>83569.76</td>\n",
       "      <td>20</td>\n",
       "    </tr>\n",
       "    <tr>\n",
       "      <th>2018-03-15</th>\n",
       "      <td>63.29</td>\n",
       "      <td>1960</td>\n",
       "      <td>2014</td>\n",
       "      <td>1051.97</td>\n",
       "      <td>716.67</td>\n",
       "      <td>1041.67</td>\n",
       "      <td>1282.33</td>\n",
       "      <td>1249.66</td>\n",
       "      <td>5370.56</td>\n",
       "      <td>3527.73</td>\n",
       "      <td>82090.38</td>\n",
       "      <td>30</td>\n",
       "    </tr>\n",
       "    <tr>\n",
       "      <th>2018-03-31</th>\n",
       "      <td>0.00</td>\n",
       "      <td>1470</td>\n",
       "      <td>1578</td>\n",
       "      <td>374.91</td>\n",
       "      <td>691.67</td>\n",
       "      <td>1016.67</td>\n",
       "      <td>1257.33</td>\n",
       "      <td>1186.01</td>\n",
       "      <td>5370.56</td>\n",
       "      <td>3442.73</td>\n",
       "      <td>82090.38</td>\n",
       "      <td>40</td>\n",
       "    </tr>\n",
       "    <tr>\n",
       "      <th>2018-04-15</th>\n",
       "      <td>0.00</td>\n",
       "      <td>1470</td>\n",
       "      <td>1578</td>\n",
       "      <td>221.29</td>\n",
       "      <td>691.67</td>\n",
       "      <td>1016.67</td>\n",
       "      <td>1257.33</td>\n",
       "      <td>1186.01</td>\n",
       "      <td>5113.56</td>\n",
       "      <td>3442.73</td>\n",
       "      <td>80611.00</td>\n",
       "      <td>50</td>\n",
       "    </tr>\n",
       "    <tr>\n",
       "      <th>2018-04-30</th>\n",
       "      <td>0.00</td>\n",
       "      <td>980</td>\n",
       "      <td>1142</td>\n",
       "      <td>0.00</td>\n",
       "      <td>147.61</td>\n",
       "      <td>991.67</td>\n",
       "      <td>1232.33</td>\n",
       "      <td>1122.36</td>\n",
       "      <td>5113.56</td>\n",
       "      <td>3357.73</td>\n",
       "      <td>80611.00</td>\n",
       "      <td>60</td>\n",
       "    </tr>\n",
       "    <tr>\n",
       "      <th>2018-05-15</th>\n",
       "      <td>0.00</td>\n",
       "      <td>980</td>\n",
       "      <td>1142</td>\n",
       "      <td>0.00</td>\n",
       "      <td>0.00</td>\n",
       "      <td>985.66</td>\n",
       "      <td>1232.33</td>\n",
       "      <td>1122.36</td>\n",
       "      <td>4856.56</td>\n",
       "      <td>3357.73</td>\n",
       "      <td>79131.62</td>\n",
       "      <td>70</td>\n",
       "    </tr>\n",
       "    <tr>\n",
       "      <th>2018-05-31</th>\n",
       "      <td>0.00</td>\n",
       "      <td>490</td>\n",
       "      <td>706</td>\n",
       "      <td>0.00</td>\n",
       "      <td>0.00</td>\n",
       "      <td>195.31</td>\n",
       "      <td>1207.33</td>\n",
       "      <td>1058.71</td>\n",
       "      <td>4856.56</td>\n",
       "      <td>3272.73</td>\n",
       "      <td>79131.62</td>\n",
       "      <td>80</td>\n",
       "    </tr>\n",
       "    <tr>\n",
       "      <th>2018-06-15</th>\n",
       "      <td>0.00</td>\n",
       "      <td>490</td>\n",
       "      <td>706</td>\n",
       "      <td>0.00</td>\n",
       "      <td>0.00</td>\n",
       "      <td>41.69</td>\n",
       "      <td>1207.33</td>\n",
       "      <td>1058.71</td>\n",
       "      <td>4599.56</td>\n",
       "      <td>3272.73</td>\n",
       "      <td>77652.24</td>\n",
       "      <td>90</td>\n",
       "    </tr>\n",
       "    <tr>\n",
       "      <th>2018-06-30</th>\n",
       "      <td>0.00</td>\n",
       "      <td>0</td>\n",
       "      <td>270</td>\n",
       "      <td>0.00</td>\n",
       "      <td>0.00</td>\n",
       "      <td>0.00</td>\n",
       "      <td>433.67</td>\n",
       "      <td>995.06</td>\n",
       "      <td>4599.56</td>\n",
       "      <td>3187.73</td>\n",
       "      <td>77652.24</td>\n",
       "      <td>100</td>\n",
       "    </tr>\n",
       "    <tr>\n",
       "      <th>2018-07-15</th>\n",
       "      <td>0.00</td>\n",
       "      <td>0</td>\n",
       "      <td>270</td>\n",
       "      <td>0.00</td>\n",
       "      <td>0.00</td>\n",
       "      <td>0.00</td>\n",
       "      <td>280.05</td>\n",
       "      <td>995.06</td>\n",
       "      <td>4342.56</td>\n",
       "      <td>3187.73</td>\n",
       "      <td>76172.86</td>\n",
       "      <td>110</td>\n",
       "    </tr>\n",
       "    <tr>\n",
       "      <th>2018-07-31</th>\n",
       "      <td>0.00</td>\n",
       "      <td>0</td>\n",
       "      <td>0</td>\n",
       "      <td>0.00</td>\n",
       "      <td>0.00</td>\n",
       "      <td>0.00</td>\n",
       "      <td>0.00</td>\n",
       "      <td>0.00</td>\n",
       "      <td>4082.67</td>\n",
       "      <td>3102.73</td>\n",
       "      <td>76172.86</td>\n",
       "      <td>120</td>\n",
       "    </tr>\n",
       "    <tr>\n",
       "      <th>2018-08-15</th>\n",
       "      <td>0.00</td>\n",
       "      <td>0</td>\n",
       "      <td>0</td>\n",
       "      <td>0.00</td>\n",
       "      <td>0.00</td>\n",
       "      <td>0.00</td>\n",
       "      <td>0.00</td>\n",
       "      <td>0.00</td>\n",
       "      <td>3672.05</td>\n",
       "      <td>3102.73</td>\n",
       "      <td>74693.48</td>\n",
       "      <td>130</td>\n",
       "    </tr>\n",
       "    <tr>\n",
       "      <th>2018-08-31</th>\n",
       "      <td>0.00</td>\n",
       "      <td>0</td>\n",
       "      <td>0</td>\n",
       "      <td>0.00</td>\n",
       "      <td>0.00</td>\n",
       "      <td>0.00</td>\n",
       "      <td>0.00</td>\n",
       "      <td>0.00</td>\n",
       "      <td>1867.05</td>\n",
       "      <td>3017.73</td>\n",
       "      <td>74693.48</td>\n",
       "      <td>140</td>\n",
       "    </tr>\n",
       "    <tr>\n",
       "      <th>2018-09-15</th>\n",
       "      <td>0.00</td>\n",
       "      <td>0</td>\n",
       "      <td>0</td>\n",
       "      <td>0.00</td>\n",
       "      <td>0.00</td>\n",
       "      <td>0.00</td>\n",
       "      <td>0.00</td>\n",
       "      <td>0.00</td>\n",
       "      <td>1456.43</td>\n",
       "      <td>3017.73</td>\n",
       "      <td>73214.10</td>\n",
       "      <td>150</td>\n",
       "    </tr>\n",
       "    <tr>\n",
       "      <th>2018-09-30</th>\n",
       "      <td>0.00</td>\n",
       "      <td>0</td>\n",
       "      <td>0</td>\n",
       "      <td>0.00</td>\n",
       "      <td>0.00</td>\n",
       "      <td>0.00</td>\n",
       "      <td>0.00</td>\n",
       "      <td>0.00</td>\n",
       "      <td>0.00</td>\n",
       "      <td>2584.16</td>\n",
       "      <td>73214.10</td>\n",
       "      <td>160</td>\n",
       "    </tr>\n",
       "    <tr>\n",
       "      <th>2018-10-15</th>\n",
       "      <td>0.00</td>\n",
       "      <td>0</td>\n",
       "      <td>0</td>\n",
       "      <td>0.00</td>\n",
       "      <td>0.00</td>\n",
       "      <td>0.00</td>\n",
       "      <td>0.00</td>\n",
       "      <td>0.00</td>\n",
       "      <td>0.00</td>\n",
       "      <td>2173.54</td>\n",
       "      <td>71734.72</td>\n",
       "      <td>170</td>\n",
       "    </tr>\n",
       "    <tr>\n",
       "      <th>2018-10-31</th>\n",
       "      <td>0.00</td>\n",
       "      <td>0</td>\n",
       "      <td>0</td>\n",
       "      <td>0.00</td>\n",
       "      <td>0.00</td>\n",
       "      <td>0.00</td>\n",
       "      <td>0.00</td>\n",
       "      <td>0.00</td>\n",
       "      <td>0.00</td>\n",
       "      <td>283.54</td>\n",
       "      <td>71734.72</td>\n",
       "      <td>180</td>\n",
       "    </tr>\n",
       "    <tr>\n",
       "      <th>2018-11-15</th>\n",
       "      <td>0.00</td>\n",
       "      <td>0</td>\n",
       "      <td>0</td>\n",
       "      <td>0.00</td>\n",
       "      <td>0.00</td>\n",
       "      <td>0.00</td>\n",
       "      <td>0.00</td>\n",
       "      <td>0.00</td>\n",
       "      <td>0.00</td>\n",
       "      <td>0.00</td>\n",
       "      <td>70128.26</td>\n",
       "      <td>190</td>\n",
       "    </tr>\n",
       "    <tr>\n",
       "      <th>2018-11-30</th>\n",
       "      <td>0.00</td>\n",
       "      <td>0</td>\n",
       "      <td>0</td>\n",
       "      <td>0.00</td>\n",
       "      <td>0.00</td>\n",
       "      <td>0.00</td>\n",
       "      <td>0.00</td>\n",
       "      <td>0.00</td>\n",
       "      <td>0.00</td>\n",
       "      <td>0.00</td>\n",
       "      <td>68238.26</td>\n",
       "      <td>200</td>\n",
       "    </tr>\n",
       "    <tr>\n",
       "      <th>2018-12-15</th>\n",
       "      <td>0.00</td>\n",
       "      <td>0</td>\n",
       "      <td>0</td>\n",
       "      <td>0.00</td>\n",
       "      <td>0.00</td>\n",
       "      <td>0.00</td>\n",
       "      <td>0.00</td>\n",
       "      <td>0.00</td>\n",
       "      <td>0.00</td>\n",
       "      <td>0.00</td>\n",
       "      <td>66348.26</td>\n",
       "      <td>210</td>\n",
       "    </tr>\n",
       "    <tr>\n",
       "      <th>2018-12-31</th>\n",
       "      <td>0.00</td>\n",
       "      <td>0</td>\n",
       "      <td>0</td>\n",
       "      <td>0.00</td>\n",
       "      <td>0.00</td>\n",
       "      <td>0.00</td>\n",
       "      <td>0.00</td>\n",
       "      <td>0.00</td>\n",
       "      <td>0.00</td>\n",
       "      <td>0.00</td>\n",
       "      <td>64458.26</td>\n",
       "      <td>220</td>\n",
       "    </tr>\n",
       "    <tr>\n",
       "      <th>2019-01-15</th>\n",
       "      <td>0.00</td>\n",
       "      <td>0</td>\n",
       "      <td>0</td>\n",
       "      <td>0.00</td>\n",
       "      <td>0.00</td>\n",
       "      <td>0.00</td>\n",
       "      <td>0.00</td>\n",
       "      <td>0.00</td>\n",
       "      <td>0.00</td>\n",
       "      <td>0.00</td>\n",
       "      <td>62568.26</td>\n",
       "      <td>230</td>\n",
       "    </tr>\n",
       "    <tr>\n",
       "      <th>2019-01-31</th>\n",
       "      <td>0.00</td>\n",
       "      <td>0</td>\n",
       "      <td>0</td>\n",
       "      <td>0.00</td>\n",
       "      <td>0.00</td>\n",
       "      <td>0.00</td>\n",
       "      <td>0.00</td>\n",
       "      <td>0.00</td>\n",
       "      <td>0.00</td>\n",
       "      <td>0.00</td>\n",
       "      <td>60678.26</td>\n",
       "      <td>240</td>\n",
       "    </tr>\n",
       "    <tr>\n",
       "      <th>2019-02-15</th>\n",
       "      <td>0.00</td>\n",
       "      <td>0</td>\n",
       "      <td>0</td>\n",
       "      <td>0.00</td>\n",
       "      <td>0.00</td>\n",
       "      <td>0.00</td>\n",
       "      <td>0.00</td>\n",
       "      <td>0.00</td>\n",
       "      <td>0.00</td>\n",
       "      <td>0.00</td>\n",
       "      <td>58788.26</td>\n",
       "      <td>250</td>\n",
       "    </tr>\n",
       "    <tr>\n",
       "      <th>2019-02-28</th>\n",
       "      <td>0.00</td>\n",
       "      <td>0</td>\n",
       "      <td>0</td>\n",
       "      <td>0.00</td>\n",
       "      <td>0.00</td>\n",
       "      <td>0.00</td>\n",
       "      <td>0.00</td>\n",
       "      <td>0.00</td>\n",
       "      <td>0.00</td>\n",
       "      <td>0.00</td>\n",
       "      <td>56898.26</td>\n",
       "      <td>260</td>\n",
       "    </tr>\n",
       "    <tr>\n",
       "      <th>2019-03-15</th>\n",
       "      <td>0.00</td>\n",
       "      <td>0</td>\n",
       "      <td>0</td>\n",
       "      <td>0.00</td>\n",
       "      <td>0.00</td>\n",
       "      <td>0.00</td>\n",
       "      <td>0.00</td>\n",
       "      <td>0.00</td>\n",
       "      <td>0.00</td>\n",
       "      <td>0.00</td>\n",
       "      <td>55008.26</td>\n",
       "      <td>270</td>\n",
       "    </tr>\n",
       "    <tr>\n",
       "      <th>2019-03-31</th>\n",
       "      <td>0.00</td>\n",
       "      <td>0</td>\n",
       "      <td>0</td>\n",
       "      <td>0.00</td>\n",
       "      <td>0.00</td>\n",
       "      <td>0.00</td>\n",
       "      <td>0.00</td>\n",
       "      <td>0.00</td>\n",
       "      <td>0.00</td>\n",
       "      <td>0.00</td>\n",
       "      <td>53118.26</td>\n",
       "      <td>280</td>\n",
       "    </tr>\n",
       "    <tr>\n",
       "      <th>2019-04-15</th>\n",
       "      <td>0.00</td>\n",
       "      <td>0</td>\n",
       "      <td>0</td>\n",
       "      <td>0.00</td>\n",
       "      <td>0.00</td>\n",
       "      <td>0.00</td>\n",
       "      <td>0.00</td>\n",
       "      <td>0.00</td>\n",
       "      <td>0.00</td>\n",
       "      <td>0.00</td>\n",
       "      <td>51228.26</td>\n",
       "      <td>290</td>\n",
       "    </tr>\n",
       "    <tr>\n",
       "      <th>...</th>\n",
       "      <td>...</td>\n",
       "      <td>...</td>\n",
       "      <td>...</td>\n",
       "      <td>...</td>\n",
       "      <td>...</td>\n",
       "      <td>...</td>\n",
       "      <td>...</td>\n",
       "      <td>...</td>\n",
       "      <td>...</td>\n",
       "      <td>...</td>\n",
       "      <td>...</td>\n",
       "      <td>...</td>\n",
       "    </tr>\n",
       "    <tr>\n",
       "      <th>2019-05-15</th>\n",
       "      <td>0.00</td>\n",
       "      <td>0</td>\n",
       "      <td>0</td>\n",
       "      <td>0.00</td>\n",
       "      <td>0.00</td>\n",
       "      <td>0.00</td>\n",
       "      <td>0.00</td>\n",
       "      <td>0.00</td>\n",
       "      <td>0.00</td>\n",
       "      <td>0.00</td>\n",
       "      <td>47448.26</td>\n",
       "      <td>310</td>\n",
       "    </tr>\n",
       "    <tr>\n",
       "      <th>2019-05-31</th>\n",
       "      <td>0.00</td>\n",
       "      <td>0</td>\n",
       "      <td>0</td>\n",
       "      <td>0.00</td>\n",
       "      <td>0.00</td>\n",
       "      <td>0.00</td>\n",
       "      <td>0.00</td>\n",
       "      <td>0.00</td>\n",
       "      <td>0.00</td>\n",
       "      <td>0.00</td>\n",
       "      <td>45558.26</td>\n",
       "      <td>320</td>\n",
       "    </tr>\n",
       "    <tr>\n",
       "      <th>2019-06-15</th>\n",
       "      <td>0.00</td>\n",
       "      <td>0</td>\n",
       "      <td>0</td>\n",
       "      <td>0.00</td>\n",
       "      <td>0.00</td>\n",
       "      <td>0.00</td>\n",
       "      <td>0.00</td>\n",
       "      <td>0.00</td>\n",
       "      <td>0.00</td>\n",
       "      <td>0.00</td>\n",
       "      <td>43668.26</td>\n",
       "      <td>330</td>\n",
       "    </tr>\n",
       "    <tr>\n",
       "      <th>2019-06-30</th>\n",
       "      <td>0.00</td>\n",
       "      <td>0</td>\n",
       "      <td>0</td>\n",
       "      <td>0.00</td>\n",
       "      <td>0.00</td>\n",
       "      <td>0.00</td>\n",
       "      <td>0.00</td>\n",
       "      <td>0.00</td>\n",
       "      <td>0.00</td>\n",
       "      <td>0.00</td>\n",
       "      <td>41778.26</td>\n",
       "      <td>340</td>\n",
       "    </tr>\n",
       "    <tr>\n",
       "      <th>2019-07-15</th>\n",
       "      <td>0.00</td>\n",
       "      <td>0</td>\n",
       "      <td>0</td>\n",
       "      <td>0.00</td>\n",
       "      <td>0.00</td>\n",
       "      <td>0.00</td>\n",
       "      <td>0.00</td>\n",
       "      <td>0.00</td>\n",
       "      <td>0.00</td>\n",
       "      <td>0.00</td>\n",
       "      <td>39888.26</td>\n",
       "      <td>350</td>\n",
       "    </tr>\n",
       "    <tr>\n",
       "      <th>2019-07-31</th>\n",
       "      <td>0.00</td>\n",
       "      <td>0</td>\n",
       "      <td>0</td>\n",
       "      <td>0.00</td>\n",
       "      <td>0.00</td>\n",
       "      <td>0.00</td>\n",
       "      <td>0.00</td>\n",
       "      <td>0.00</td>\n",
       "      <td>0.00</td>\n",
       "      <td>0.00</td>\n",
       "      <td>37998.26</td>\n",
       "      <td>360</td>\n",
       "    </tr>\n",
       "    <tr>\n",
       "      <th>2019-08-15</th>\n",
       "      <td>0.00</td>\n",
       "      <td>0</td>\n",
       "      <td>0</td>\n",
       "      <td>0.00</td>\n",
       "      <td>0.00</td>\n",
       "      <td>0.00</td>\n",
       "      <td>0.00</td>\n",
       "      <td>0.00</td>\n",
       "      <td>0.00</td>\n",
       "      <td>0.00</td>\n",
       "      <td>36108.26</td>\n",
       "      <td>370</td>\n",
       "    </tr>\n",
       "    <tr>\n",
       "      <th>2019-08-31</th>\n",
       "      <td>0.00</td>\n",
       "      <td>0</td>\n",
       "      <td>0</td>\n",
       "      <td>0.00</td>\n",
       "      <td>0.00</td>\n",
       "      <td>0.00</td>\n",
       "      <td>0.00</td>\n",
       "      <td>0.00</td>\n",
       "      <td>0.00</td>\n",
       "      <td>0.00</td>\n",
       "      <td>34218.26</td>\n",
       "      <td>380</td>\n",
       "    </tr>\n",
       "    <tr>\n",
       "      <th>2019-09-15</th>\n",
       "      <td>0.00</td>\n",
       "      <td>0</td>\n",
       "      <td>0</td>\n",
       "      <td>0.00</td>\n",
       "      <td>0.00</td>\n",
       "      <td>0.00</td>\n",
       "      <td>0.00</td>\n",
       "      <td>0.00</td>\n",
       "      <td>0.00</td>\n",
       "      <td>0.00</td>\n",
       "      <td>32328.26</td>\n",
       "      <td>390</td>\n",
       "    </tr>\n",
       "    <tr>\n",
       "      <th>2019-09-30</th>\n",
       "      <td>0.00</td>\n",
       "      <td>0</td>\n",
       "      <td>0</td>\n",
       "      <td>0.00</td>\n",
       "      <td>0.00</td>\n",
       "      <td>0.00</td>\n",
       "      <td>0.00</td>\n",
       "      <td>0.00</td>\n",
       "      <td>0.00</td>\n",
       "      <td>0.00</td>\n",
       "      <td>30438.26</td>\n",
       "      <td>400</td>\n",
       "    </tr>\n",
       "    <tr>\n",
       "      <th>2019-10-15</th>\n",
       "      <td>0.00</td>\n",
       "      <td>0</td>\n",
       "      <td>0</td>\n",
       "      <td>0.00</td>\n",
       "      <td>0.00</td>\n",
       "      <td>0.00</td>\n",
       "      <td>0.00</td>\n",
       "      <td>0.00</td>\n",
       "      <td>0.00</td>\n",
       "      <td>0.00</td>\n",
       "      <td>28548.26</td>\n",
       "      <td>410</td>\n",
       "    </tr>\n",
       "    <tr>\n",
       "      <th>2019-10-31</th>\n",
       "      <td>0.00</td>\n",
       "      <td>0</td>\n",
       "      <td>0</td>\n",
       "      <td>0.00</td>\n",
       "      <td>0.00</td>\n",
       "      <td>0.00</td>\n",
       "      <td>0.00</td>\n",
       "      <td>0.00</td>\n",
       "      <td>0.00</td>\n",
       "      <td>0.00</td>\n",
       "      <td>26658.26</td>\n",
       "      <td>420</td>\n",
       "    </tr>\n",
       "    <tr>\n",
       "      <th>2019-11-15</th>\n",
       "      <td>0.00</td>\n",
       "      <td>0</td>\n",
       "      <td>0</td>\n",
       "      <td>0.00</td>\n",
       "      <td>0.00</td>\n",
       "      <td>0.00</td>\n",
       "      <td>0.00</td>\n",
       "      <td>0.00</td>\n",
       "      <td>0.00</td>\n",
       "      <td>0.00</td>\n",
       "      <td>24768.26</td>\n",
       "      <td>430</td>\n",
       "    </tr>\n",
       "    <tr>\n",
       "      <th>2019-11-30</th>\n",
       "      <td>0.00</td>\n",
       "      <td>0</td>\n",
       "      <td>0</td>\n",
       "      <td>0.00</td>\n",
       "      <td>0.00</td>\n",
       "      <td>0.00</td>\n",
       "      <td>0.00</td>\n",
       "      <td>0.00</td>\n",
       "      <td>0.00</td>\n",
       "      <td>0.00</td>\n",
       "      <td>22878.26</td>\n",
       "      <td>440</td>\n",
       "    </tr>\n",
       "    <tr>\n",
       "      <th>2019-12-15</th>\n",
       "      <td>0.00</td>\n",
       "      <td>0</td>\n",
       "      <td>0</td>\n",
       "      <td>0.00</td>\n",
       "      <td>0.00</td>\n",
       "      <td>0.00</td>\n",
       "      <td>0.00</td>\n",
       "      <td>0.00</td>\n",
       "      <td>0.00</td>\n",
       "      <td>0.00</td>\n",
       "      <td>20988.26</td>\n",
       "      <td>450</td>\n",
       "    </tr>\n",
       "    <tr>\n",
       "      <th>2019-12-31</th>\n",
       "      <td>0.00</td>\n",
       "      <td>0</td>\n",
       "      <td>0</td>\n",
       "      <td>0.00</td>\n",
       "      <td>0.00</td>\n",
       "      <td>0.00</td>\n",
       "      <td>0.00</td>\n",
       "      <td>0.00</td>\n",
       "      <td>0.00</td>\n",
       "      <td>0.00</td>\n",
       "      <td>19098.26</td>\n",
       "      <td>460</td>\n",
       "    </tr>\n",
       "    <tr>\n",
       "      <th>2020-01-15</th>\n",
       "      <td>0.00</td>\n",
       "      <td>0</td>\n",
       "      <td>0</td>\n",
       "      <td>0.00</td>\n",
       "      <td>0.00</td>\n",
       "      <td>0.00</td>\n",
       "      <td>0.00</td>\n",
       "      <td>0.00</td>\n",
       "      <td>0.00</td>\n",
       "      <td>0.00</td>\n",
       "      <td>17208.26</td>\n",
       "      <td>470</td>\n",
       "    </tr>\n",
       "    <tr>\n",
       "      <th>2020-01-31</th>\n",
       "      <td>0.00</td>\n",
       "      <td>0</td>\n",
       "      <td>0</td>\n",
       "      <td>0.00</td>\n",
       "      <td>0.00</td>\n",
       "      <td>0.00</td>\n",
       "      <td>0.00</td>\n",
       "      <td>0.00</td>\n",
       "      <td>0.00</td>\n",
       "      <td>0.00</td>\n",
       "      <td>15318.26</td>\n",
       "      <td>480</td>\n",
       "    </tr>\n",
       "    <tr>\n",
       "      <th>2020-02-15</th>\n",
       "      <td>0.00</td>\n",
       "      <td>0</td>\n",
       "      <td>0</td>\n",
       "      <td>0.00</td>\n",
       "      <td>0.00</td>\n",
       "      <td>0.00</td>\n",
       "      <td>0.00</td>\n",
       "      <td>0.00</td>\n",
       "      <td>0.00</td>\n",
       "      <td>0.00</td>\n",
       "      <td>13428.26</td>\n",
       "      <td>490</td>\n",
       "    </tr>\n",
       "    <tr>\n",
       "      <th>2020-02-29</th>\n",
       "      <td>0.00</td>\n",
       "      <td>0</td>\n",
       "      <td>0</td>\n",
       "      <td>0.00</td>\n",
       "      <td>0.00</td>\n",
       "      <td>0.00</td>\n",
       "      <td>0.00</td>\n",
       "      <td>0.00</td>\n",
       "      <td>0.00</td>\n",
       "      <td>0.00</td>\n",
       "      <td>11538.26</td>\n",
       "      <td>500</td>\n",
       "    </tr>\n",
       "    <tr>\n",
       "      <th>2020-03-15</th>\n",
       "      <td>0.00</td>\n",
       "      <td>0</td>\n",
       "      <td>0</td>\n",
       "      <td>0.00</td>\n",
       "      <td>0.00</td>\n",
       "      <td>0.00</td>\n",
       "      <td>0.00</td>\n",
       "      <td>0.00</td>\n",
       "      <td>0.00</td>\n",
       "      <td>0.00</td>\n",
       "      <td>9648.26</td>\n",
       "      <td>510</td>\n",
       "    </tr>\n",
       "    <tr>\n",
       "      <th>2020-03-31</th>\n",
       "      <td>0.00</td>\n",
       "      <td>0</td>\n",
       "      <td>0</td>\n",
       "      <td>0.00</td>\n",
       "      <td>0.00</td>\n",
       "      <td>0.00</td>\n",
       "      <td>0.00</td>\n",
       "      <td>0.00</td>\n",
       "      <td>0.00</td>\n",
       "      <td>0.00</td>\n",
       "      <td>7758.26</td>\n",
       "      <td>520</td>\n",
       "    </tr>\n",
       "    <tr>\n",
       "      <th>2020-04-15</th>\n",
       "      <td>0.00</td>\n",
       "      <td>0</td>\n",
       "      <td>0</td>\n",
       "      <td>0.00</td>\n",
       "      <td>0.00</td>\n",
       "      <td>0.00</td>\n",
       "      <td>0.00</td>\n",
       "      <td>0.00</td>\n",
       "      <td>0.00</td>\n",
       "      <td>0.00</td>\n",
       "      <td>5868.26</td>\n",
       "      <td>530</td>\n",
       "    </tr>\n",
       "    <tr>\n",
       "      <th>2020-04-30</th>\n",
       "      <td>0.00</td>\n",
       "      <td>0</td>\n",
       "      <td>0</td>\n",
       "      <td>0.00</td>\n",
       "      <td>0.00</td>\n",
       "      <td>0.00</td>\n",
       "      <td>0.00</td>\n",
       "      <td>0.00</td>\n",
       "      <td>0.00</td>\n",
       "      <td>0.00</td>\n",
       "      <td>3978.26</td>\n",
       "      <td>540</td>\n",
       "    </tr>\n",
       "    <tr>\n",
       "      <th>2020-05-15</th>\n",
       "      <td>0.00</td>\n",
       "      <td>0</td>\n",
       "      <td>0</td>\n",
       "      <td>0.00</td>\n",
       "      <td>0.00</td>\n",
       "      <td>0.00</td>\n",
       "      <td>0.00</td>\n",
       "      <td>0.00</td>\n",
       "      <td>0.00</td>\n",
       "      <td>0.00</td>\n",
       "      <td>2088.26</td>\n",
       "      <td>550</td>\n",
       "    </tr>\n",
       "    <tr>\n",
       "      <th>2020-05-31</th>\n",
       "      <td>0.00</td>\n",
       "      <td>0</td>\n",
       "      <td>0</td>\n",
       "      <td>0.00</td>\n",
       "      <td>0.00</td>\n",
       "      <td>0.00</td>\n",
       "      <td>0.00</td>\n",
       "      <td>0.00</td>\n",
       "      <td>0.00</td>\n",
       "      <td>0.00</td>\n",
       "      <td>198.26</td>\n",
       "      <td>560</td>\n",
       "    </tr>\n",
       "    <tr>\n",
       "      <th>2020-06-15</th>\n",
       "      <td>0.00</td>\n",
       "      <td>0</td>\n",
       "      <td>0</td>\n",
       "      <td>0.00</td>\n",
       "      <td>0.00</td>\n",
       "      <td>0.00</td>\n",
       "      <td>0.00</td>\n",
       "      <td>0.00</td>\n",
       "      <td>0.00</td>\n",
       "      <td>0.00</td>\n",
       "      <td>0.00</td>\n",
       "      <td>570</td>\n",
       "    </tr>\n",
       "    <tr>\n",
       "      <th>2020-06-30</th>\n",
       "      <td>0.00</td>\n",
       "      <td>0</td>\n",
       "      <td>0</td>\n",
       "      <td>0.00</td>\n",
       "      <td>0.00</td>\n",
       "      <td>0.00</td>\n",
       "      <td>0.00</td>\n",
       "      <td>0.00</td>\n",
       "      <td>0.00</td>\n",
       "      <td>0.00</td>\n",
       "      <td>0.00</td>\n",
       "      <td>580</td>\n",
       "    </tr>\n",
       "    <tr>\n",
       "      <th>2020-07-15</th>\n",
       "      <td>0.00</td>\n",
       "      <td>0</td>\n",
       "      <td>0</td>\n",
       "      <td>0.00</td>\n",
       "      <td>0.00</td>\n",
       "      <td>0.00</td>\n",
       "      <td>0.00</td>\n",
       "      <td>0.00</td>\n",
       "      <td>0.00</td>\n",
       "      <td>0.00</td>\n",
       "      <td>0.00</td>\n",
       "      <td>590</td>\n",
       "    </tr>\n",
       "    <tr>\n",
       "      <th>2020-07-31</th>\n",
       "      <td>0.00</td>\n",
       "      <td>0</td>\n",
       "      <td>0</td>\n",
       "      <td>0.00</td>\n",
       "      <td>0.00</td>\n",
       "      <td>0.00</td>\n",
       "      <td>0.00</td>\n",
       "      <td>0.00</td>\n",
       "      <td>0.00</td>\n",
       "      <td>0.00</td>\n",
       "      <td>0.00</td>\n",
       "      <td>600</td>\n",
       "    </tr>\n",
       "  </tbody>\n",
       "</table>\n",
       "<p>61 rows × 12 columns</p>\n",
       "</div>"
      ],
      "text/plain": [
       "            Synchrony Computer  EF Tours Nina  EF Tours Lena  Chase Mary Kay  \\\n",
       "dates                                                                          \n",
       "2018-01-31             1275.57           2450           2450         1101.97   \n",
       "2018-02-15              607.26           2450           2450         1076.97   \n",
       "2018-02-28              191.91           1960           2014         1076.97   \n",
       "2018-03-15               63.29           1960           2014         1051.97   \n",
       "2018-03-31                0.00           1470           1578          374.91   \n",
       "2018-04-15                0.00           1470           1578          221.29   \n",
       "2018-04-30                0.00            980           1142            0.00   \n",
       "2018-05-15                0.00            980           1142            0.00   \n",
       "2018-05-31                0.00            490            706            0.00   \n",
       "2018-06-15                0.00            490            706            0.00   \n",
       "2018-06-30                0.00              0            270            0.00   \n",
       "2018-07-15                0.00              0            270            0.00   \n",
       "2018-07-31                0.00              0              0            0.00   \n",
       "2018-08-15                0.00              0              0            0.00   \n",
       "2018-08-31                0.00              0              0            0.00   \n",
       "2018-09-15                0.00              0              0            0.00   \n",
       "2018-09-30                0.00              0              0            0.00   \n",
       "2018-10-15                0.00              0              0            0.00   \n",
       "2018-10-31                0.00              0              0            0.00   \n",
       "2018-11-15                0.00              0              0            0.00   \n",
       "2018-11-30                0.00              0              0            0.00   \n",
       "2018-12-15                0.00              0              0            0.00   \n",
       "2018-12-31                0.00              0              0            0.00   \n",
       "2019-01-15                0.00              0              0            0.00   \n",
       "2019-01-31                0.00              0              0            0.00   \n",
       "2019-02-15                0.00              0              0            0.00   \n",
       "2019-02-28                0.00              0              0            0.00   \n",
       "2019-03-15                0.00              0              0            0.00   \n",
       "2019-03-31                0.00              0              0            0.00   \n",
       "2019-04-15                0.00              0              0            0.00   \n",
       "...                        ...            ...            ...             ...   \n",
       "2019-05-15                0.00              0              0            0.00   \n",
       "2019-05-31                0.00              0              0            0.00   \n",
       "2019-06-15                0.00              0              0            0.00   \n",
       "2019-06-30                0.00              0              0            0.00   \n",
       "2019-07-15                0.00              0              0            0.00   \n",
       "2019-07-31                0.00              0              0            0.00   \n",
       "2019-08-15                0.00              0              0            0.00   \n",
       "2019-08-31                0.00              0              0            0.00   \n",
       "2019-09-15                0.00              0              0            0.00   \n",
       "2019-09-30                0.00              0              0            0.00   \n",
       "2019-10-15                0.00              0              0            0.00   \n",
       "2019-10-31                0.00              0              0            0.00   \n",
       "2019-11-15                0.00              0              0            0.00   \n",
       "2019-11-30                0.00              0              0            0.00   \n",
       "2019-12-15                0.00              0              0            0.00   \n",
       "2019-12-31                0.00              0              0            0.00   \n",
       "2020-01-15                0.00              0              0            0.00   \n",
       "2020-01-31                0.00              0              0            0.00   \n",
       "2020-02-15                0.00              0              0            0.00   \n",
       "2020-02-29                0.00              0              0            0.00   \n",
       "2020-03-15                0.00              0              0            0.00   \n",
       "2020-03-31                0.00              0              0            0.00   \n",
       "2020-04-15                0.00              0              0            0.00   \n",
       "2020-04-30                0.00              0              0            0.00   \n",
       "2020-05-15                0.00              0              0            0.00   \n",
       "2020-05-31                0.00              0              0            0.00   \n",
       "2020-06-15                0.00              0              0            0.00   \n",
       "2020-06-30                0.00              0              0            0.00   \n",
       "2020-07-15                0.00              0              0            0.00   \n",
       "2020-07-31                0.00              0              0            0.00   \n",
       "\n",
       "            Home depot Door/Fans  Home depot Door/lights  \\\n",
       "dates                                                      \n",
       "2018-01-31               1066.67                 1066.67   \n",
       "2018-02-15               1066.67                 1066.67   \n",
       "2018-02-28                716.67                 1041.67   \n",
       "2018-03-15                716.67                 1041.67   \n",
       "2018-03-31                691.67                 1016.67   \n",
       "2018-04-15                691.67                 1016.67   \n",
       "2018-04-30                147.61                  991.67   \n",
       "2018-05-15                  0.00                  985.66   \n",
       "2018-05-31                  0.00                  195.31   \n",
       "2018-06-15                  0.00                   41.69   \n",
       "2018-06-30                  0.00                    0.00   \n",
       "2018-07-15                  0.00                    0.00   \n",
       "2018-07-31                  0.00                    0.00   \n",
       "2018-08-15                  0.00                    0.00   \n",
       "2018-08-31                  0.00                    0.00   \n",
       "2018-09-15                  0.00                    0.00   \n",
       "2018-09-30                  0.00                    0.00   \n",
       "2018-10-15                  0.00                    0.00   \n",
       "2018-10-31                  0.00                    0.00   \n",
       "2018-11-15                  0.00                    0.00   \n",
       "2018-11-30                  0.00                    0.00   \n",
       "2018-12-15                  0.00                    0.00   \n",
       "2018-12-31                  0.00                    0.00   \n",
       "2019-01-15                  0.00                    0.00   \n",
       "2019-01-31                  0.00                    0.00   \n",
       "2019-02-15                  0.00                    0.00   \n",
       "2019-02-28                  0.00                    0.00   \n",
       "2019-03-15                  0.00                    0.00   \n",
       "2019-03-31                  0.00                    0.00   \n",
       "2019-04-15                  0.00                    0.00   \n",
       "...                          ...                     ...   \n",
       "2019-05-15                  0.00                    0.00   \n",
       "2019-05-31                  0.00                    0.00   \n",
       "2019-06-15                  0.00                    0.00   \n",
       "2019-06-30                  0.00                    0.00   \n",
       "2019-07-15                  0.00                    0.00   \n",
       "2019-07-31                  0.00                    0.00   \n",
       "2019-08-15                  0.00                    0.00   \n",
       "2019-08-31                  0.00                    0.00   \n",
       "2019-09-15                  0.00                    0.00   \n",
       "2019-09-30                  0.00                    0.00   \n",
       "2019-10-15                  0.00                    0.00   \n",
       "2019-10-31                  0.00                    0.00   \n",
       "2019-11-15                  0.00                    0.00   \n",
       "2019-11-30                  0.00                    0.00   \n",
       "2019-12-15                  0.00                    0.00   \n",
       "2019-12-31                  0.00                    0.00   \n",
       "2020-01-15                  0.00                    0.00   \n",
       "2020-01-31                  0.00                    0.00   \n",
       "2020-02-15                  0.00                    0.00   \n",
       "2020-02-29                  0.00                    0.00   \n",
       "2020-03-15                  0.00                    0.00   \n",
       "2020-03-31                  0.00                    0.00   \n",
       "2020-04-15                  0.00                    0.00   \n",
       "2020-04-30                  0.00                    0.00   \n",
       "2020-05-15                  0.00                    0.00   \n",
       "2020-05-31                  0.00                    0.00   \n",
       "2020-06-15                  0.00                    0.00   \n",
       "2020-06-30                  0.00                    0.00   \n",
       "2020-07-15                  0.00                    0.00   \n",
       "2020-07-31                  0.00                    0.00   \n",
       "\n",
       "            Citi Card Hard Drives  WellsFargo Computer  WellsFargo A/C  \\\n",
       "dates                                                                    \n",
       "2018-01-31                1307.33              1313.31         5884.56   \n",
       "2018-02-15                1307.33              1313.31         5627.56   \n",
       "2018-02-28                1282.33              1249.66         5627.56   \n",
       "2018-03-15                1282.33              1249.66         5370.56   \n",
       "2018-03-31                1257.33              1186.01         5370.56   \n",
       "2018-04-15                1257.33              1186.01         5113.56   \n",
       "2018-04-30                1232.33              1122.36         5113.56   \n",
       "2018-05-15                1232.33              1122.36         4856.56   \n",
       "2018-05-31                1207.33              1058.71         4856.56   \n",
       "2018-06-15                1207.33              1058.71         4599.56   \n",
       "2018-06-30                 433.67               995.06         4599.56   \n",
       "2018-07-15                 280.05               995.06         4342.56   \n",
       "2018-07-31                   0.00                 0.00         4082.67   \n",
       "2018-08-15                   0.00                 0.00         3672.05   \n",
       "2018-08-31                   0.00                 0.00         1867.05   \n",
       "2018-09-15                   0.00                 0.00         1456.43   \n",
       "2018-09-30                   0.00                 0.00            0.00   \n",
       "2018-10-15                   0.00                 0.00            0.00   \n",
       "2018-10-31                   0.00                 0.00            0.00   \n",
       "2018-11-15                   0.00                 0.00            0.00   \n",
       "2018-11-30                   0.00                 0.00            0.00   \n",
       "2018-12-15                   0.00                 0.00            0.00   \n",
       "2018-12-31                   0.00                 0.00            0.00   \n",
       "2019-01-15                   0.00                 0.00            0.00   \n",
       "2019-01-31                   0.00                 0.00            0.00   \n",
       "2019-02-15                   0.00                 0.00            0.00   \n",
       "2019-02-28                   0.00                 0.00            0.00   \n",
       "2019-03-15                   0.00                 0.00            0.00   \n",
       "2019-03-31                   0.00                 0.00            0.00   \n",
       "2019-04-15                   0.00                 0.00            0.00   \n",
       "...                           ...                  ...             ...   \n",
       "2019-05-15                   0.00                 0.00            0.00   \n",
       "2019-05-31                   0.00                 0.00            0.00   \n",
       "2019-06-15                   0.00                 0.00            0.00   \n",
       "2019-06-30                   0.00                 0.00            0.00   \n",
       "2019-07-15                   0.00                 0.00            0.00   \n",
       "2019-07-31                   0.00                 0.00            0.00   \n",
       "2019-08-15                   0.00                 0.00            0.00   \n",
       "2019-08-31                   0.00                 0.00            0.00   \n",
       "2019-09-15                   0.00                 0.00            0.00   \n",
       "2019-09-30                   0.00                 0.00            0.00   \n",
       "2019-10-15                   0.00                 0.00            0.00   \n",
       "2019-10-31                   0.00                 0.00            0.00   \n",
       "2019-11-15                   0.00                 0.00            0.00   \n",
       "2019-11-30                   0.00                 0.00            0.00   \n",
       "2019-12-15                   0.00                 0.00            0.00   \n",
       "2019-12-31                   0.00                 0.00            0.00   \n",
       "2020-01-15                   0.00                 0.00            0.00   \n",
       "2020-01-31                   0.00                 0.00            0.00   \n",
       "2020-02-15                   0.00                 0.00            0.00   \n",
       "2020-02-29                   0.00                 0.00            0.00   \n",
       "2020-03-15                   0.00                 0.00            0.00   \n",
       "2020-03-31                   0.00                 0.00            0.00   \n",
       "2020-04-15                   0.00                 0.00            0.00   \n",
       "2020-04-30                   0.00                 0.00            0.00   \n",
       "2020-05-15                   0.00                 0.00            0.00   \n",
       "2020-05-31                   0.00                 0.00            0.00   \n",
       "2020-06-15                   0.00                 0.00            0.00   \n",
       "2020-06-30                   0.00                 0.00            0.00   \n",
       "2020-07-15                   0.00                 0.00            0.00   \n",
       "2020-07-31                   0.00                 0.00            0.00   \n",
       "\n",
       "            Synchrony Bank Home Zone  House Payment  Self_pay  \n",
       "dates                                                          \n",
       "2018-01-31                   3612.73       84509.45         0  \n",
       "2018-02-15                   3612.73       83569.76        10  \n",
       "2018-02-28                   3527.73       83569.76        20  \n",
       "2018-03-15                   3527.73       82090.38        30  \n",
       "2018-03-31                   3442.73       82090.38        40  \n",
       "2018-04-15                   3442.73       80611.00        50  \n",
       "2018-04-30                   3357.73       80611.00        60  \n",
       "2018-05-15                   3357.73       79131.62        70  \n",
       "2018-05-31                   3272.73       79131.62        80  \n",
       "2018-06-15                   3272.73       77652.24        90  \n",
       "2018-06-30                   3187.73       77652.24       100  \n",
       "2018-07-15                   3187.73       76172.86       110  \n",
       "2018-07-31                   3102.73       76172.86       120  \n",
       "2018-08-15                   3102.73       74693.48       130  \n",
       "2018-08-31                   3017.73       74693.48       140  \n",
       "2018-09-15                   3017.73       73214.10       150  \n",
       "2018-09-30                   2584.16       73214.10       160  \n",
       "2018-10-15                   2173.54       71734.72       170  \n",
       "2018-10-31                    283.54       71734.72       180  \n",
       "2018-11-15                      0.00       70128.26       190  \n",
       "2018-11-30                      0.00       68238.26       200  \n",
       "2018-12-15                      0.00       66348.26       210  \n",
       "2018-12-31                      0.00       64458.26       220  \n",
       "2019-01-15                      0.00       62568.26       230  \n",
       "2019-01-31                      0.00       60678.26       240  \n",
       "2019-02-15                      0.00       58788.26       250  \n",
       "2019-02-28                      0.00       56898.26       260  \n",
       "2019-03-15                      0.00       55008.26       270  \n",
       "2019-03-31                      0.00       53118.26       280  \n",
       "2019-04-15                      0.00       51228.26       290  \n",
       "...                              ...            ...       ...  \n",
       "2019-05-15                      0.00       47448.26       310  \n",
       "2019-05-31                      0.00       45558.26       320  \n",
       "2019-06-15                      0.00       43668.26       330  \n",
       "2019-06-30                      0.00       41778.26       340  \n",
       "2019-07-15                      0.00       39888.26       350  \n",
       "2019-07-31                      0.00       37998.26       360  \n",
       "2019-08-15                      0.00       36108.26       370  \n",
       "2019-08-31                      0.00       34218.26       380  \n",
       "2019-09-15                      0.00       32328.26       390  \n",
       "2019-09-30                      0.00       30438.26       400  \n",
       "2019-10-15                      0.00       28548.26       410  \n",
       "2019-10-31                      0.00       26658.26       420  \n",
       "2019-11-15                      0.00       24768.26       430  \n",
       "2019-11-30                      0.00       22878.26       440  \n",
       "2019-12-15                      0.00       20988.26       450  \n",
       "2019-12-31                      0.00       19098.26       460  \n",
       "2020-01-15                      0.00       17208.26       470  \n",
       "2020-01-31                      0.00       15318.26       480  \n",
       "2020-02-15                      0.00       13428.26       490  \n",
       "2020-02-29                      0.00       11538.26       500  \n",
       "2020-03-15                      0.00        9648.26       510  \n",
       "2020-03-31                      0.00        7758.26       520  \n",
       "2020-04-15                      0.00        5868.26       530  \n",
       "2020-04-30                      0.00        3978.26       540  \n",
       "2020-05-15                      0.00        2088.26       550  \n",
       "2020-05-31                      0.00         198.26       560  \n",
       "2020-06-15                      0.00           0.00       570  \n",
       "2020-06-30                      0.00           0.00       580  \n",
       "2020-07-15                      0.00           0.00       590  \n",
       "2020-07-31                      0.00           0.00       600  \n",
       "\n",
       "[61 rows x 12 columns]"
      ]
     },
     "execution_count": 14,
     "metadata": {},
     "output_type": "execute_result"
    }
   ],
   "source": [
    "df.set_index(\"dates\")"
   ]
  }
 ],
 "metadata": {
  "kernelspec": {
   "display_name": "Python 3",
   "language": "python",
   "name": "python3"
  },
  "language_info": {
   "codemirror_mode": {
    "name": "ipython",
    "version": 3
   },
   "file_extension": ".py",
   "mimetype": "text/x-python",
   "name": "python",
   "nbconvert_exporter": "python",
   "pygments_lexer": "ipython3",
   "version": "3.6.4"
  }
 },
 "nbformat": 4,
 "nbformat_minor": 2
}
