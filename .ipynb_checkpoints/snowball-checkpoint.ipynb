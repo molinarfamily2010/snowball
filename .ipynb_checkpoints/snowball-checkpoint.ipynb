{
 "cells": [
  {
   "cell_type": "code",
   "execution_count": 1,
   "metadata": {},
   "outputs": [],
   "source": [
    "from collections import OrderedDict\n",
    "from datetime import datetime\n",
    "\n",
    "import pandas as pd\n",
    "import numpy as np\n",
    "\n",
    "from IPython.display import Markdown, display\n",
    "\n",
    "def printmd(string):\n",
    "    display(Markdown(string))"
   ]
  },
  {
   "cell_type": "markdown",
   "metadata": {},
   "source": [
    "### Force payments\n",
    "\n",
    "Pay all my bills except the soon expirements."
   ]
  },
  {
   "cell_type": "code",
   "execution_count": 2,
   "metadata": {},
   "outputs": [],
   "source": [
    "bills = {\"Synchrony Computer\": {\"due_day\": (23, 15), \"starting_balance\": 1275.57, \"minimum_payment\": 25, \"expire_promo\": datetime.strptime(\"04/30/2018\", '%m/%d/%Y'), \"showball\": True, \"paid_off\":False},\n",
    "         \"Chase Mary Kay\": {\"due_day\": (12, 30), \"starting_balance\": 1101.97, \"minimum_payment\": 25, \"expire_promo\": datetime.strptime(\"7/15/2018\", '%m/%d/%Y'), \"showball\": True, \"paid_off\":False},\n",
    "         \"Home depot Door/Fans\": {\"due_day\": (18, 15), \"starting_balance\": 1066.67, \"minimum_payment\": 25, \"expire_promo\":datetime.strptime(\"10/18/2018\", '%m/%d/%Y'), \"showball\": True, \"paid_off\":False},\n",
    "         \"Citi Card Hard Drives\": {\"due_day\": (17, 15), \"starting_balance\": 1307.33, \"minimum_payment\": 25, \"expire_promo\":datetime.strptime(\"12/14/2018\", '%m/%d/%Y'), \"showball\": True, \"paid_off\":False},\n",
    "         \"WellsFargo Computer\": {\"due_day\": (18, 15), \"starting_balance\": 1313.31, \"minimum_payment\": 63.65, \"expire_promo\":datetime.strptime(\"2/21/2019\", '%m/%d/%Y'), \"showball\": True, \"paid_off\":False},\n",
    "         \"WellsFargo A/C\": {\"due_day\":(8, 30), \"starting_balance\": 5884.56, \"minimum_payment\": 257, \"expire_promo\":datetime.strptime(\"1/30/2020\", '%m/%d/%Y'), \"showball\": True, \"paid_off\":False},\n",
    "         \"Synchrony Bank Home Zone\": {\"due_day\": (15, 15), \"starting_balance\": 3612.73, \"minimum_payment\": 85, \"expire_promo\":datetime.strptime( \"7/3/2021\", '%m/%d/%Y'), \"showball\": True, \"paid_off\":False},\n",
    "         \"House Payment\": {\"due_day\": (1, 30), \"starting_balance\": 84509.45, \"minimum_payment\": 1479.38, \"expire_promo\":datetime.strptime( \"2/1/2032\", '%m/%d/%Y'), \"showball\": True, \"paid_off\":False},\n",
    "         \"EF Tours Nina\": {\"due_day\": (15, 15), \"starting_balance\": 2450, \"minimum_payment\": 490, \"expire_promo\":datetime.strptime( \"6/15/2018\", '%m/%d/%Y'), \"showball\": False, \"paid_off\":False},\n",
    "         \"EF Tours Lena\": {\"due_day\": (15, 15), \"starting_balance\": 2450, \"minimum_payment\": 436, \"expire_promo\":datetime.strptime( \"6/15/2018\", '%m/%d/%Y'), \"showball\": False, \"paid_off\":False},\n",
    "         \"Self_pay\": {\"due_day\": (15, (15, 30)), \"starting_balance\": 5000, \"minimum_payment\": 10, \"expire_promo\":datetime.strptime( \"1/15/2099\", '%m/%d/%Y'), \"showball\": False, \"paid_off\":False}\n",
    "        }\n",
    "\n",
    "savings = {\"balance\": 0}\n",
    "forced_payment = {}\n",
    "\n",
    "bills = OrderedDict(sorted(bills.items(), key=lambda x: x[1]['expire_promo'], reverse=False))\n",
    "\n",
    "for key in bills:\n",
    "    bills[key][\"balance\"] = [bills[key][\"starting_balance\"]]\n",
    "    \n",
    "\n",
    "start = datetime(2018, 1, 20)\n",
    "periods = 60\n",
    "\n",
    "paydays = pd.date_range(start, periods = periods, freq=\"SM-15\")\n",
    "dates = pd.date_range(start, periods = periods + 1, freq=\"SM-15\")\n"
   ]
  },
  {
   "cell_type": "code",
   "execution_count": 3,
   "metadata": {
    "scrolled": true
   },
   "outputs": [
    {
     "data": {
      "text/plain": [
       "OrderedDict([('Synchrony Computer',\n",
       "              {'balance': [1275.57],\n",
       "               'due_day': (23, 15),\n",
       "               'expire_promo': datetime.datetime(2018, 4, 30, 0, 0),\n",
       "               'minimum_payment': 25,\n",
       "               'paid_off': False,\n",
       "               'showball': True,\n",
       "               'starting_balance': 1275.57}),\n",
       "             ('EF Tours Nina',\n",
       "              {'balance': [2450],\n",
       "               'due_day': (15, 15),\n",
       "               'expire_promo': datetime.datetime(2018, 6, 15, 0, 0),\n",
       "               'minimum_payment': 490,\n",
       "               'paid_off': False,\n",
       "               'showball': False,\n",
       "               'starting_balance': 2450}),\n",
       "             ('EF Tours Lena',\n",
       "              {'balance': [2450],\n",
       "               'due_day': (15, 15),\n",
       "               'expire_promo': datetime.datetime(2018, 6, 15, 0, 0),\n",
       "               'minimum_payment': 436,\n",
       "               'paid_off': False,\n",
       "               'showball': False,\n",
       "               'starting_balance': 2450}),\n",
       "             ('Chase Mary Kay',\n",
       "              {'balance': [1101.97],\n",
       "               'due_day': (12, 30),\n",
       "               'expire_promo': datetime.datetime(2018, 7, 15, 0, 0),\n",
       "               'minimum_payment': 25,\n",
       "               'paid_off': False,\n",
       "               'showball': True,\n",
       "               'starting_balance': 1101.97}),\n",
       "             ('Home depot Door/Fans',\n",
       "              {'balance': [1066.67],\n",
       "               'due_day': (18, 15),\n",
       "               'expire_promo': datetime.datetime(2018, 10, 18, 0, 0),\n",
       "               'minimum_payment': 25,\n",
       "               'paid_off': False,\n",
       "               'showball': True,\n",
       "               'starting_balance': 1066.67}),\n",
       "             ('Citi Card Hard Drives',\n",
       "              {'balance': [1307.33],\n",
       "               'due_day': (17, 15),\n",
       "               'expire_promo': datetime.datetime(2018, 12, 14, 0, 0),\n",
       "               'minimum_payment': 25,\n",
       "               'paid_off': False,\n",
       "               'showball': True,\n",
       "               'starting_balance': 1307.33}),\n",
       "             ('WellsFargo Computer',\n",
       "              {'balance': [1313.31],\n",
       "               'due_day': (18, 15),\n",
       "               'expire_promo': datetime.datetime(2019, 2, 21, 0, 0),\n",
       "               'minimum_payment': 63.65,\n",
       "               'paid_off': False,\n",
       "               'showball': True,\n",
       "               'starting_balance': 1313.31}),\n",
       "             ('WellsFargo A/C',\n",
       "              {'balance': [5884.56],\n",
       "               'due_day': (8, 30),\n",
       "               'expire_promo': datetime.datetime(2020, 1, 30, 0, 0),\n",
       "               'minimum_payment': 257,\n",
       "               'paid_off': False,\n",
       "               'showball': True,\n",
       "               'starting_balance': 5884.56}),\n",
       "             ('Synchrony Bank Home Zone',\n",
       "              {'balance': [3612.73],\n",
       "               'due_day': (15, 15),\n",
       "               'expire_promo': datetime.datetime(2021, 7, 3, 0, 0),\n",
       "               'minimum_payment': 85,\n",
       "               'paid_off': False,\n",
       "               'showball': True,\n",
       "               'starting_balance': 3612.73}),\n",
       "             ('House Payment',\n",
       "              {'balance': [84509.45],\n",
       "               'due_day': (1, 30),\n",
       "               'expire_promo': datetime.datetime(2032, 2, 1, 0, 0),\n",
       "               'minimum_payment': 1479.38,\n",
       "               'paid_off': False,\n",
       "               'showball': True,\n",
       "               'starting_balance': 84509.45}),\n",
       "             ('Self_pay',\n",
       "              {'balance': [5000],\n",
       "               'due_day': (15, (15, 30)),\n",
       "               'expire_promo': datetime.datetime(2099, 1, 15, 0, 0),\n",
       "               'minimum_payment': 10,\n",
       "               'paid_off': False,\n",
       "               'showball': False,\n",
       "               'starting_balance': 5000})])"
      ]
     },
     "execution_count": 3,
     "metadata": {},
     "output_type": "execute_result"
    }
   ],
   "source": [
    "bills"
   ]
  },
  {
   "cell_type": "code",
   "execution_count": 4,
   "metadata": {},
   "outputs": [
    {
     "data": {
      "text/plain": [
       "DatetimeIndex(['2018-01-31', '2018-02-15', '2018-02-28', '2018-03-15',\n",
       "               '2018-03-31', '2018-04-15', '2018-04-30', '2018-05-15',\n",
       "               '2018-05-31', '2018-06-15', '2018-06-30', '2018-07-15',\n",
       "               '2018-07-31', '2018-08-15', '2018-08-31', '2018-09-15',\n",
       "               '2018-09-30', '2018-10-15', '2018-10-31', '2018-11-15',\n",
       "               '2018-11-30', '2018-12-15', '2018-12-31', '2019-01-15',\n",
       "               '2019-01-31', '2019-02-15', '2019-02-28', '2019-03-15',\n",
       "               '2019-03-31', '2019-04-15', '2019-04-30', '2019-05-15',\n",
       "               '2019-05-31', '2019-06-15', '2019-06-30', '2019-07-15',\n",
       "               '2019-07-31', '2019-08-15', '2019-08-31', '2019-09-15',\n",
       "               '2019-09-30', '2019-10-15', '2019-10-31', '2019-11-15',\n",
       "               '2019-11-30', '2019-12-15', '2019-12-31', '2020-01-15',\n",
       "               '2020-01-31', '2020-02-15', '2020-02-29', '2020-03-15',\n",
       "               '2020-03-31', '2020-04-15', '2020-04-30', '2020-05-15',\n",
       "               '2020-05-31', '2020-06-15', '2020-06-30', '2020-07-15'],\n",
       "              dtype='datetime64[ns]', freq='SM-15')"
      ]
     },
     "execution_count": 4,
     "metadata": {},
     "output_type": "execute_result"
    }
   ],
   "source": [
    "paydays"
   ]
  },
  {
   "cell_type": "code",
   "execution_count": 5,
   "metadata": {
    "scrolled": false
   },
   "outputs": [
    {
     "name": "stdout",
     "output_type": "stream",
     "text": [
      "Pay period of 2018-01-31 00:00:00\n"
     ]
    },
    {
     "data": {
      "text/markdown": [
       "We paid Chase Mary Kay  **25** $. The new reamining balance is 1076.97 pay left 1875.0"
      ],
      "text/plain": [
       "<IPython.core.display.Markdown object>"
      ]
     },
     "metadata": {},
     "output_type": "display_data"
    },
    {
     "data": {
      "text/markdown": [
       "We paid WellsFargo A/C  **257** $. The new reamining balance is 5627.56 pay left 1618.0"
      ],
      "text/plain": [
       "<IPython.core.display.Markdown object>"
      ]
     },
     "metadata": {},
     "output_type": "display_data"
    },
    {
     "data": {
      "text/markdown": [
       "We paid House Payment  **939.69** $. The new reamining balance is 83569.76 pay left 678.31"
      ],
      "text/plain": [
       "<IPython.core.display.Markdown object>"
      ]
     },
     "metadata": {},
     "output_type": "display_data"
    },
    {
     "data": {
      "text/markdown": [
       "We paid Self_pay  **10** $. The new reamining balance is 4990 pay left 668.31"
      ],
      "text/plain": [
       "<IPython.core.display.Markdown object>"
      ]
     },
     "metadata": {},
     "output_type": "display_data"
    },
    {
     "data": {
      "text/markdown": [
       "the amount of remaining pay is 668.31 "
      ],
      "text/plain": [
       "<IPython.core.display.Markdown object>"
      ]
     },
     "metadata": {},
     "output_type": "display_data"
    },
    {
     "data": {
      "text/markdown": [
       "#### extra payment of 668.31 was applied to Synchrony Computer and the new balance is 607.26"
      ],
      "text/plain": [
       "<IPython.core.display.Markdown object>"
      ]
     },
     "metadata": {},
     "output_type": "display_data"
    },
    {
     "name": "stdout",
     "output_type": "stream",
     "text": [
      "Pay period of 2018-02-15 00:00:00\n"
     ]
    },
    {
     "data": {
      "text/markdown": [
       "We paid Synchrony Computer  **25** $. The new reamining balance is 582.26 pay left 1875.0"
      ],
      "text/plain": [
       "<IPython.core.display.Markdown object>"
      ]
     },
     "metadata": {},
     "output_type": "display_data"
    },
    {
     "data": {
      "text/markdown": [
       "We paid EF Tours Nina  **490** $. The new reamining balance is 1960 pay left 1385.0"
      ],
      "text/plain": [
       "<IPython.core.display.Markdown object>"
      ]
     },
     "metadata": {},
     "output_type": "display_data"
    },
    {
     "data": {
      "text/markdown": [
       "We paid EF Tours Lena  **436** $. The new reamining balance is 2014 pay left 949.0"
      ],
      "text/plain": [
       "<IPython.core.display.Markdown object>"
      ]
     },
     "metadata": {},
     "output_type": "display_data"
    },
    {
     "data": {
      "text/markdown": [
       "We paid Home depot Door/Fans  **350** $. The new reamining balance is 716.6700000000001 pay left 599.0"
      ],
      "text/plain": [
       "<IPython.core.display.Markdown object>"
      ]
     },
     "metadata": {},
     "output_type": "display_data"
    },
    {
     "data": {
      "text/markdown": [
       "We paid Citi Card Hard Drives  **25** $. The new reamining balance is 1282.33 pay left 574.0"
      ],
      "text/plain": [
       "<IPython.core.display.Markdown object>"
      ]
     },
     "metadata": {},
     "output_type": "display_data"
    },
    {
     "data": {
      "text/markdown": [
       "We paid WellsFargo Computer  **63.65** $. The new reamining balance is 1249.6599999999999 pay left 510.35"
      ],
      "text/plain": [
       "<IPython.core.display.Markdown object>"
      ]
     },
     "metadata": {},
     "output_type": "display_data"
    },
    {
     "data": {
      "text/markdown": [
       "We paid Synchrony Bank Home Zone  **85** $. The new reamining balance is 3527.73 pay left 425.35"
      ],
      "text/plain": [
       "<IPython.core.display.Markdown object>"
      ]
     },
     "metadata": {},
     "output_type": "display_data"
    },
    {
     "data": {
      "text/markdown": [
       "We paid Self_pay  **10** $. The new reamining balance is 4980 pay left 415.35"
      ],
      "text/plain": [
       "<IPython.core.display.Markdown object>"
      ]
     },
     "metadata": {},
     "output_type": "display_data"
    },
    {
     "data": {
      "text/markdown": [
       "the amount of remaining pay is 415.35 "
      ],
      "text/plain": [
       "<IPython.core.display.Markdown object>"
      ]
     },
     "metadata": {},
     "output_type": "display_data"
    },
    {
     "data": {
      "text/markdown": [
       "#### extra payment of 415.35 was applied to Synchrony Computer and the new balance is 166.90999999999997"
      ],
      "text/plain": [
       "<IPython.core.display.Markdown object>"
      ]
     },
     "metadata": {},
     "output_type": "display_data"
    },
    {
     "name": "stdout",
     "output_type": "stream",
     "text": [
      "Pay period of 2018-02-28 00:00:00\n"
     ]
    },
    {
     "data": {
      "text/markdown": [
       "We paid Chase Mary Kay  **25** $. The new reamining balance is 1051.97 pay left 1875.0"
      ],
      "text/plain": [
       "<IPython.core.display.Markdown object>"
      ]
     },
     "metadata": {},
     "output_type": "display_data"
    },
    {
     "data": {
      "text/markdown": [
       "We paid WellsFargo A/C  **257** $. The new reamining balance is 5370.56 pay left 1618.0"
      ],
      "text/plain": [
       "<IPython.core.display.Markdown object>"
      ]
     },
     "metadata": {},
     "output_type": "display_data"
    },
    {
     "data": {
      "text/markdown": [
       "We paid House Payment  **1479.38** $. The new reamining balance is 82090.37999999999 pay left 138.6199999999999"
      ],
      "text/plain": [
       "<IPython.core.display.Markdown object>"
      ]
     },
     "metadata": {},
     "output_type": "display_data"
    },
    {
     "data": {
      "text/markdown": [
       "We paid Self_pay  **10** $. The new reamining balance is 4970 pay left 128.6199999999999"
      ],
      "text/plain": [
       "<IPython.core.display.Markdown object>"
      ]
     },
     "metadata": {},
     "output_type": "display_data"
    },
    {
     "data": {
      "text/markdown": [
       "the amount of remaining pay is 128.6199999999999 "
      ],
      "text/plain": [
       "<IPython.core.display.Markdown object>"
      ]
     },
     "metadata": {},
     "output_type": "display_data"
    },
    {
     "data": {
      "text/markdown": [
       "#### extra payment of 128.6199999999999 was applied to Synchrony Computer and the new balance is 38.29000000000008"
      ],
      "text/plain": [
       "<IPython.core.display.Markdown object>"
      ]
     },
     "metadata": {},
     "output_type": "display_data"
    },
    {
     "name": "stdout",
     "output_type": "stream",
     "text": [
      "Pay period of 2018-03-15 00:00:00\n"
     ]
    },
    {
     "data": {
      "text/markdown": [
       "We paid Synchrony Computer  **25** $. The new reamining balance is 13.290000000000077 pay left 1875.0"
      ],
      "text/plain": [
       "<IPython.core.display.Markdown object>"
      ]
     },
     "metadata": {},
     "output_type": "display_data"
    },
    {
     "data": {
      "text/markdown": [
       "We paid EF Tours Nina  **490** $. The new reamining balance is 1470 pay left 1385.0"
      ],
      "text/plain": [
       "<IPython.core.display.Markdown object>"
      ]
     },
     "metadata": {},
     "output_type": "display_data"
    },
    {
     "data": {
      "text/markdown": [
       "We paid EF Tours Lena  **436** $. The new reamining balance is 1578 pay left 949.0"
      ],
      "text/plain": [
       "<IPython.core.display.Markdown object>"
      ]
     },
     "metadata": {},
     "output_type": "display_data"
    },
    {
     "data": {
      "text/markdown": [
       "We paid Home depot Door/Fans  **25** $. The new reamining balance is 691.6700000000001 pay left 924.0"
      ],
      "text/plain": [
       "<IPython.core.display.Markdown object>"
      ]
     },
     "metadata": {},
     "output_type": "display_data"
    },
    {
     "data": {
      "text/markdown": [
       "We paid Citi Card Hard Drives  **25** $. The new reamining balance is 1257.33 pay left 899.0"
      ],
      "text/plain": [
       "<IPython.core.display.Markdown object>"
      ]
     },
     "metadata": {},
     "output_type": "display_data"
    },
    {
     "data": {
      "text/markdown": [
       "We paid WellsFargo Computer  **63.65** $. The new reamining balance is 1186.0099999999998 pay left 835.35"
      ],
      "text/plain": [
       "<IPython.core.display.Markdown object>"
      ]
     },
     "metadata": {},
     "output_type": "display_data"
    },
    {
     "data": {
      "text/markdown": [
       "We paid Synchrony Bank Home Zone  **85** $. The new reamining balance is 3442.73 pay left 750.35"
      ],
      "text/plain": [
       "<IPython.core.display.Markdown object>"
      ]
     },
     "metadata": {},
     "output_type": "display_data"
    },
    {
     "data": {
      "text/markdown": [
       "We paid Self_pay  **10** $. The new reamining balance is 4960 pay left 740.35"
      ],
      "text/plain": [
       "<IPython.core.display.Markdown object>"
      ]
     },
     "metadata": {},
     "output_type": "display_data"
    },
    {
     "data": {
      "text/markdown": [
       "the amount of remaining pay is 740.35 "
      ],
      "text/plain": [
       "<IPython.core.display.Markdown object>"
      ]
     },
     "metadata": {},
     "output_type": "display_data"
    },
    {
     "data": {
      "text/markdown": [
       "#### extra payment of 13.290000000000077 was applied to Synchrony Computer and the new balance is 0.0"
      ],
      "text/plain": [
       "<IPython.core.display.Markdown object>"
      ]
     },
     "metadata": {},
     "output_type": "display_data"
    },
    {
     "data": {
      "text/markdown": [
       "## payoff bill Synchrony Computer"
      ],
      "text/plain": [
       "<IPython.core.display.Markdown object>"
      ]
     },
     "metadata": {},
     "output_type": "display_data"
    },
    {
     "data": {
      "text/markdown": [
       "#### extra payment of 727.06 was applied to Chase Mary Kay and the new balance is 324.9100000000001"
      ],
      "text/plain": [
       "<IPython.core.display.Markdown object>"
      ]
     },
     "metadata": {},
     "output_type": "display_data"
    },
    {
     "name": "stdout",
     "output_type": "stream",
     "text": [
      "Pay period of 2018-03-31 00:00:00\n"
     ]
    },
    {
     "data": {
      "text/markdown": [
       "We paid Chase Mary Kay  **25** $. The new reamining balance is 299.9100000000001 pay left 1875.0"
      ],
      "text/plain": [
       "<IPython.core.display.Markdown object>"
      ]
     },
     "metadata": {},
     "output_type": "display_data"
    },
    {
     "data": {
      "text/markdown": [
       "We paid WellsFargo A/C  **257** $. The new reamining balance is 5113.56 pay left 1618.0"
      ],
      "text/plain": [
       "<IPython.core.display.Markdown object>"
      ]
     },
     "metadata": {},
     "output_type": "display_data"
    },
    {
     "data": {
      "text/markdown": [
       "We paid House Payment  **1479.38** $. The new reamining balance is 80610.99999999999 pay left 138.6199999999999"
      ],
      "text/plain": [
       "<IPython.core.display.Markdown object>"
      ]
     },
     "metadata": {},
     "output_type": "display_data"
    },
    {
     "data": {
      "text/markdown": [
       "We paid Self_pay  **10** $. The new reamining balance is 4950 pay left 128.6199999999999"
      ],
      "text/plain": [
       "<IPython.core.display.Markdown object>"
      ]
     },
     "metadata": {},
     "output_type": "display_data"
    },
    {
     "data": {
      "text/markdown": [
       "the amount of remaining pay is 128.6199999999999 "
      ],
      "text/plain": [
       "<IPython.core.display.Markdown object>"
      ]
     },
     "metadata": {},
     "output_type": "display_data"
    },
    {
     "data": {
      "text/markdown": [
       "#### extra payment of 128.6199999999999 was applied to Chase Mary Kay and the new balance is 171.2900000000002"
      ],
      "text/plain": [
       "<IPython.core.display.Markdown object>"
      ]
     },
     "metadata": {},
     "output_type": "display_data"
    },
    {
     "name": "stdout",
     "output_type": "stream",
     "text": [
      "Pay period of 2018-04-15 00:00:00\n"
     ]
    },
    {
     "data": {
      "text/markdown": [
       "We paid EF Tours Nina  **490** $. The new reamining balance is 980 pay left 1410.0"
      ],
      "text/plain": [
       "<IPython.core.display.Markdown object>"
      ]
     },
     "metadata": {},
     "output_type": "display_data"
    },
    {
     "data": {
      "text/markdown": [
       "We paid EF Tours Lena  **436** $. The new reamining balance is 1142 pay left 974.0"
      ],
      "text/plain": [
       "<IPython.core.display.Markdown object>"
      ]
     },
     "metadata": {},
     "output_type": "display_data"
    },
    {
     "data": {
      "text/markdown": [
       "We paid Home depot Door/Fans  **25** $. The new reamining balance is 666.6700000000001 pay left 949.0"
      ],
      "text/plain": [
       "<IPython.core.display.Markdown object>"
      ]
     },
     "metadata": {},
     "output_type": "display_data"
    },
    {
     "data": {
      "text/markdown": [
       "We paid Citi Card Hard Drives  **25** $. The new reamining balance is 1232.33 pay left 924.0"
      ],
      "text/plain": [
       "<IPython.core.display.Markdown object>"
      ]
     },
     "metadata": {},
     "output_type": "display_data"
    },
    {
     "data": {
      "text/markdown": [
       "We paid WellsFargo Computer  **63.65** $. The new reamining balance is 1122.3599999999997 pay left 860.35"
      ],
      "text/plain": [
       "<IPython.core.display.Markdown object>"
      ]
     },
     "metadata": {},
     "output_type": "display_data"
    },
    {
     "data": {
      "text/markdown": [
       "We paid Synchrony Bank Home Zone  **85** $. The new reamining balance is 3357.73 pay left 775.35"
      ],
      "text/plain": [
       "<IPython.core.display.Markdown object>"
      ]
     },
     "metadata": {},
     "output_type": "display_data"
    },
    {
     "data": {
      "text/markdown": [
       "We paid Self_pay  **10** $. The new reamining balance is 4940 pay left 765.35"
      ],
      "text/plain": [
       "<IPython.core.display.Markdown object>"
      ]
     },
     "metadata": {},
     "output_type": "display_data"
    },
    {
     "data": {
      "text/markdown": [
       "the amount of remaining pay is 765.35 "
      ],
      "text/plain": [
       "<IPython.core.display.Markdown object>"
      ]
     },
     "metadata": {},
     "output_type": "display_data"
    },
    {
     "data": {
      "text/markdown": [
       "#### extra payment of 171.2900000000002 was applied to Chase Mary Kay and the new balance is 0.0"
      ],
      "text/plain": [
       "<IPython.core.display.Markdown object>"
      ]
     },
     "metadata": {},
     "output_type": "display_data"
    },
    {
     "data": {
      "text/markdown": [
       "## payoff bill Chase Mary Kay"
      ],
      "text/plain": [
       "<IPython.core.display.Markdown object>"
      ]
     },
     "metadata": {},
     "output_type": "display_data"
    },
    {
     "data": {
      "text/markdown": [
       "#### extra payment of 594.0599999999998 was applied to Home depot Door/Fans and the new balance is 72.61000000000024"
      ],
      "text/plain": [
       "<IPython.core.display.Markdown object>"
      ]
     },
     "metadata": {},
     "output_type": "display_data"
    },
    {
     "name": "stdout",
     "output_type": "stream",
     "text": [
      "Pay period of 2018-04-30 00:00:00\n"
     ]
    },
    {
     "data": {
      "text/markdown": [
       "We paid WellsFargo A/C  **257** $. The new reamining balance is 4856.56 pay left 1643.0"
      ],
      "text/plain": [
       "<IPython.core.display.Markdown object>"
      ]
     },
     "metadata": {},
     "output_type": "display_data"
    },
    {
     "data": {
      "text/markdown": [
       "We paid House Payment  **1479.38** $. The new reamining balance is 79131.61999999998 pay left 163.6199999999999"
      ],
      "text/plain": [
       "<IPython.core.display.Markdown object>"
      ]
     },
     "metadata": {},
     "output_type": "display_data"
    },
    {
     "data": {
      "text/markdown": [
       "We paid Self_pay  **10** $. The new reamining balance is 4930 pay left 153.6199999999999"
      ],
      "text/plain": [
       "<IPython.core.display.Markdown object>"
      ]
     },
     "metadata": {},
     "output_type": "display_data"
    },
    {
     "data": {
      "text/markdown": [
       "the amount of remaining pay is 153.6199999999999 "
      ],
      "text/plain": [
       "<IPython.core.display.Markdown object>"
      ]
     },
     "metadata": {},
     "output_type": "display_data"
    },
    {
     "data": {
      "text/markdown": [
       "#### extra payment of 72.61000000000024 was applied to Home depot Door/Fans and the new balance is 0.0"
      ],
      "text/plain": [
       "<IPython.core.display.Markdown object>"
      ]
     },
     "metadata": {},
     "output_type": "display_data"
    },
    {
     "data": {
      "text/markdown": [
       "## payoff bill Home depot Door/Fans"
      ],
      "text/plain": [
       "<IPython.core.display.Markdown object>"
      ]
     },
     "metadata": {},
     "output_type": "display_data"
    },
    {
     "data": {
      "text/markdown": [
       "#### extra payment of 81.00999999999965 was applied to Citi Card Hard Drives and the new balance is 1151.3200000000002"
      ],
      "text/plain": [
       "<IPython.core.display.Markdown object>"
      ]
     },
     "metadata": {},
     "output_type": "display_data"
    },
    {
     "name": "stdout",
     "output_type": "stream",
     "text": [
      "Pay period of 2018-05-15 00:00:00\n"
     ]
    },
    {
     "data": {
      "text/markdown": [
       "We paid EF Tours Nina  **490** $. The new reamining balance is 490 pay left 1410.0"
      ],
      "text/plain": [
       "<IPython.core.display.Markdown object>"
      ]
     },
     "metadata": {},
     "output_type": "display_data"
    },
    {
     "data": {
      "text/markdown": [
       "We paid EF Tours Lena  **436** $. The new reamining balance is 706 pay left 974.0"
      ],
      "text/plain": [
       "<IPython.core.display.Markdown object>"
      ]
     },
     "metadata": {},
     "output_type": "display_data"
    },
    {
     "data": {
      "text/markdown": [
       "We paid Citi Card Hard Drives  **25** $. The new reamining balance is 1126.3200000000002 pay left 949.0"
      ],
      "text/plain": [
       "<IPython.core.display.Markdown object>"
      ]
     },
     "metadata": {},
     "output_type": "display_data"
    },
    {
     "data": {
      "text/markdown": [
       "We paid WellsFargo Computer  **63.65** $. The new reamining balance is 1058.7099999999996 pay left 885.35"
      ],
      "text/plain": [
       "<IPython.core.display.Markdown object>"
      ]
     },
     "metadata": {},
     "output_type": "display_data"
    },
    {
     "data": {
      "text/markdown": [
       "We paid Synchrony Bank Home Zone  **85** $. The new reamining balance is 3272.73 pay left 800.35"
      ],
      "text/plain": [
       "<IPython.core.display.Markdown object>"
      ]
     },
     "metadata": {},
     "output_type": "display_data"
    },
    {
     "data": {
      "text/markdown": [
       "We paid Self_pay  **10** $. The new reamining balance is 4920 pay left 790.35"
      ],
      "text/plain": [
       "<IPython.core.display.Markdown object>"
      ]
     },
     "metadata": {},
     "output_type": "display_data"
    },
    {
     "data": {
      "text/markdown": [
       "the amount of remaining pay is 790.35 "
      ],
      "text/plain": [
       "<IPython.core.display.Markdown object>"
      ]
     },
     "metadata": {},
     "output_type": "display_data"
    },
    {
     "data": {
      "text/markdown": [
       "#### extra payment of 790.35 was applied to Citi Card Hard Drives and the new balance is 335.97000000000014"
      ],
      "text/plain": [
       "<IPython.core.display.Markdown object>"
      ]
     },
     "metadata": {},
     "output_type": "display_data"
    },
    {
     "name": "stdout",
     "output_type": "stream",
     "text": [
      "Pay period of 2018-05-31 00:00:00\n"
     ]
    },
    {
     "data": {
      "text/markdown": [
       "We paid WellsFargo A/C  **257** $. The new reamining balance is 4599.56 pay left 1643.0"
      ],
      "text/plain": [
       "<IPython.core.display.Markdown object>"
      ]
     },
     "metadata": {},
     "output_type": "display_data"
    },
    {
     "data": {
      "text/markdown": [
       "We paid House Payment  **1479.38** $. The new reamining balance is 77652.23999999998 pay left 163.6199999999999"
      ],
      "text/plain": [
       "<IPython.core.display.Markdown object>"
      ]
     },
     "metadata": {},
     "output_type": "display_data"
    },
    {
     "data": {
      "text/markdown": [
       "We paid Self_pay  **10** $. The new reamining balance is 4910 pay left 153.6199999999999"
      ],
      "text/plain": [
       "<IPython.core.display.Markdown object>"
      ]
     },
     "metadata": {},
     "output_type": "display_data"
    },
    {
     "data": {
      "text/markdown": [
       "the amount of remaining pay is 153.6199999999999 "
      ],
      "text/plain": [
       "<IPython.core.display.Markdown object>"
      ]
     },
     "metadata": {},
     "output_type": "display_data"
    },
    {
     "data": {
      "text/markdown": [
       "#### extra payment of 153.6199999999999 was applied to Citi Card Hard Drives and the new balance is 182.35000000000025"
      ],
      "text/plain": [
       "<IPython.core.display.Markdown object>"
      ]
     },
     "metadata": {},
     "output_type": "display_data"
    },
    {
     "name": "stdout",
     "output_type": "stream",
     "text": [
      "Pay period of 2018-06-15 00:00:00\n"
     ]
    },
    {
     "data": {
      "text/markdown": [
       "## payoff bill EF Tours Nina"
      ],
      "text/plain": [
       "<IPython.core.display.Markdown object>"
      ]
     },
     "metadata": {},
     "output_type": "display_data"
    },
    {
     "data": {
      "text/markdown": [
       "We paid EF Tours Nina  **490** $. The new reamining balance is 0 pay left 1410.0"
      ],
      "text/plain": [
       "<IPython.core.display.Markdown object>"
      ]
     },
     "metadata": {},
     "output_type": "display_data"
    },
    {
     "data": {
      "text/markdown": [
       "We paid EF Tours Lena  **436** $. The new reamining balance is 270 pay left 974.0"
      ],
      "text/plain": [
       "<IPython.core.display.Markdown object>"
      ]
     },
     "metadata": {},
     "output_type": "display_data"
    },
    {
     "data": {
      "text/markdown": [
       "We paid Citi Card Hard Drives  **25** $. The new reamining balance is 157.35000000000025 pay left 949.0"
      ],
      "text/plain": [
       "<IPython.core.display.Markdown object>"
      ]
     },
     "metadata": {},
     "output_type": "display_data"
    },
    {
     "data": {
      "text/markdown": [
       "We paid WellsFargo Computer  **63.65** $. The new reamining balance is 995.0599999999996 pay left 885.35"
      ],
      "text/plain": [
       "<IPython.core.display.Markdown object>"
      ]
     },
     "metadata": {},
     "output_type": "display_data"
    },
    {
     "data": {
      "text/markdown": [
       "We paid Synchrony Bank Home Zone  **85** $. The new reamining balance is 3187.73 pay left 800.35"
      ],
      "text/plain": [
       "<IPython.core.display.Markdown object>"
      ]
     },
     "metadata": {},
     "output_type": "display_data"
    },
    {
     "data": {
      "text/markdown": [
       "We paid Self_pay  **10** $. The new reamining balance is 4900 pay left 790.35"
      ],
      "text/plain": [
       "<IPython.core.display.Markdown object>"
      ]
     },
     "metadata": {},
     "output_type": "display_data"
    },
    {
     "data": {
      "text/markdown": [
       "the amount of remaining pay is 790.35 "
      ],
      "text/plain": [
       "<IPython.core.display.Markdown object>"
      ]
     },
     "metadata": {},
     "output_type": "display_data"
    },
    {
     "data": {
      "text/markdown": [
       "#### extra payment of 157.35000000000025 was applied to Citi Card Hard Drives and the new balance is 0.0"
      ],
      "text/plain": [
       "<IPython.core.display.Markdown object>"
      ]
     },
     "metadata": {},
     "output_type": "display_data"
    },
    {
     "data": {
      "text/markdown": [
       "## payoff bill Citi Card Hard Drives"
      ],
      "text/plain": [
       "<IPython.core.display.Markdown object>"
      ]
     },
     "metadata": {},
     "output_type": "display_data"
    },
    {
     "data": {
      "text/markdown": [
       "#### extra payment of 632.9999999999998 was applied to WellsFargo Computer and the new balance is 362.05999999999983"
      ],
      "text/plain": [
       "<IPython.core.display.Markdown object>"
      ]
     },
     "metadata": {},
     "output_type": "display_data"
    },
    {
     "name": "stdout",
     "output_type": "stream",
     "text": [
      "Pay period of 2018-06-30 00:00:00\n"
     ]
    },
    {
     "data": {
      "text/markdown": [
       "We paid WellsFargo A/C  **257** $. The new reamining balance is 4342.56 pay left 1643.0"
      ],
      "text/plain": [
       "<IPython.core.display.Markdown object>"
      ]
     },
     "metadata": {},
     "output_type": "display_data"
    },
    {
     "data": {
      "text/markdown": [
       "We paid House Payment  **1479.38** $. The new reamining balance is 76172.85999999997 pay left 163.6199999999999"
      ],
      "text/plain": [
       "<IPython.core.display.Markdown object>"
      ]
     },
     "metadata": {},
     "output_type": "display_data"
    },
    {
     "data": {
      "text/markdown": [
       "We paid Self_pay  **10** $. The new reamining balance is 4890 pay left 153.6199999999999"
      ],
      "text/plain": [
       "<IPython.core.display.Markdown object>"
      ]
     },
     "metadata": {},
     "output_type": "display_data"
    },
    {
     "data": {
      "text/markdown": [
       "the amount of remaining pay is 153.6199999999999 "
      ],
      "text/plain": [
       "<IPython.core.display.Markdown object>"
      ]
     },
     "metadata": {},
     "output_type": "display_data"
    },
    {
     "data": {
      "text/markdown": [
       "#### extra payment of 153.6199999999999 was applied to WellsFargo Computer and the new balance is 208.43999999999994"
      ],
      "text/plain": [
       "<IPython.core.display.Markdown object>"
      ]
     },
     "metadata": {},
     "output_type": "display_data"
    },
    {
     "name": "stdout",
     "output_type": "stream",
     "text": [
      "Pay period of 2018-07-15 00:00:00\n"
     ]
    },
    {
     "data": {
      "text/markdown": [
       "#### We are paying off EF Tours Lena has a balance of 270 is paid off and pay left over is 1630.0"
      ],
      "text/plain": [
       "<IPython.core.display.Markdown object>"
      ]
     },
     "metadata": {},
     "output_type": "display_data"
    },
    {
     "data": {
      "text/markdown": [
       "## payoff bill EF Tours Lena"
      ],
      "text/plain": [
       "<IPython.core.display.Markdown object>"
      ]
     },
     "metadata": {},
     "output_type": "display_data"
    },
    {
     "data": {
      "text/markdown": [
       "We paid EF Tours Lena  **270** $. The new reamining balance is 0 pay left 1630.0"
      ],
      "text/plain": [
       "<IPython.core.display.Markdown object>"
      ]
     },
     "metadata": {},
     "output_type": "display_data"
    },
    {
     "data": {
      "text/markdown": [
       "We paid WellsFargo Computer  **63.65** $. The new reamining balance is 144.78999999999994 pay left 1566.35"
      ],
      "text/plain": [
       "<IPython.core.display.Markdown object>"
      ]
     },
     "metadata": {},
     "output_type": "display_data"
    },
    {
     "data": {
      "text/markdown": [
       "We paid Synchrony Bank Home Zone  **85** $. The new reamining balance is 3102.73 pay left 1481.35"
      ],
      "text/plain": [
       "<IPython.core.display.Markdown object>"
      ]
     },
     "metadata": {},
     "output_type": "display_data"
    },
    {
     "data": {
      "text/markdown": [
       "We paid Self_pay  **10** $. The new reamining balance is 4880 pay left 1471.35"
      ],
      "text/plain": [
       "<IPython.core.display.Markdown object>"
      ]
     },
     "metadata": {},
     "output_type": "display_data"
    },
    {
     "data": {
      "text/markdown": [
       "the amount of remaining pay is 1471.35 "
      ],
      "text/plain": [
       "<IPython.core.display.Markdown object>"
      ]
     },
     "metadata": {},
     "output_type": "display_data"
    },
    {
     "data": {
      "text/markdown": [
       "#### extra payment of 144.78999999999994 was applied to WellsFargo Computer and the new balance is 0.0"
      ],
      "text/plain": [
       "<IPython.core.display.Markdown object>"
      ]
     },
     "metadata": {},
     "output_type": "display_data"
    },
    {
     "data": {
      "text/markdown": [
       "## payoff bill WellsFargo Computer"
      ],
      "text/plain": [
       "<IPython.core.display.Markdown object>"
      ]
     },
     "metadata": {},
     "output_type": "display_data"
    },
    {
     "data": {
      "text/markdown": [
       "#### extra payment of 1326.56 was applied to WellsFargo A/C and the new balance is 3016.0000000000005"
      ],
      "text/plain": [
       "<IPython.core.display.Markdown object>"
      ]
     },
     "metadata": {},
     "output_type": "display_data"
    },
    {
     "name": "stdout",
     "output_type": "stream",
     "text": [
      "Pay period of 2018-07-31 00:00:00\n"
     ]
    },
    {
     "data": {
      "text/markdown": [
       "We paid WellsFargo A/C  **257** $. The new reamining balance is 2759.0000000000005 pay left 1643.0"
      ],
      "text/plain": [
       "<IPython.core.display.Markdown object>"
      ]
     },
     "metadata": {},
     "output_type": "display_data"
    },
    {
     "data": {
      "text/markdown": [
       "We paid House Payment  **1479.38** $. The new reamining balance is 74693.47999999997 pay left 163.6199999999999"
      ],
      "text/plain": [
       "<IPython.core.display.Markdown object>"
      ]
     },
     "metadata": {},
     "output_type": "display_data"
    },
    {
     "data": {
      "text/markdown": [
       "We paid Self_pay  **10** $. The new reamining balance is 4870 pay left 153.6199999999999"
      ],
      "text/plain": [
       "<IPython.core.display.Markdown object>"
      ]
     },
     "metadata": {},
     "output_type": "display_data"
    },
    {
     "data": {
      "text/markdown": [
       "the amount of remaining pay is 153.6199999999999 "
      ],
      "text/plain": [
       "<IPython.core.display.Markdown object>"
      ]
     },
     "metadata": {},
     "output_type": "display_data"
    },
    {
     "data": {
      "text/markdown": [
       "#### extra payment of 153.6199999999999 was applied to WellsFargo A/C and the new balance is 2605.3800000000006"
      ],
      "text/plain": [
       "<IPython.core.display.Markdown object>"
      ]
     },
     "metadata": {},
     "output_type": "display_data"
    },
    {
     "name": "stdout",
     "output_type": "stream",
     "text": [
      "Pay period of 2018-08-15 00:00:00\n"
     ]
    },
    {
     "data": {
      "text/markdown": [
       "We paid Synchrony Bank Home Zone  **85** $. The new reamining balance is 3017.73 pay left 1815.0"
      ],
      "text/plain": [
       "<IPython.core.display.Markdown object>"
      ]
     },
     "metadata": {},
     "output_type": "display_data"
    },
    {
     "data": {
      "text/markdown": [
       "We paid Self_pay  **10** $. The new reamining balance is 4860 pay left 1805.0"
      ],
      "text/plain": [
       "<IPython.core.display.Markdown object>"
      ]
     },
     "metadata": {},
     "output_type": "display_data"
    },
    {
     "data": {
      "text/markdown": [
       "the amount of remaining pay is 1805.0 "
      ],
      "text/plain": [
       "<IPython.core.display.Markdown object>"
      ]
     },
     "metadata": {},
     "output_type": "display_data"
    },
    {
     "data": {
      "text/markdown": [
       "#### extra payment of 1805.0 was applied to WellsFargo A/C and the new balance is 800.3800000000006"
      ],
      "text/plain": [
       "<IPython.core.display.Markdown object>"
      ]
     },
     "metadata": {},
     "output_type": "display_data"
    },
    {
     "name": "stdout",
     "output_type": "stream",
     "text": [
      "Pay period of 2018-08-31 00:00:00\n"
     ]
    },
    {
     "data": {
      "text/markdown": [
       "We paid WellsFargo A/C  **257** $. The new reamining balance is 543.3800000000006 pay left 1643.0"
      ],
      "text/plain": [
       "<IPython.core.display.Markdown object>"
      ]
     },
     "metadata": {},
     "output_type": "display_data"
    },
    {
     "data": {
      "text/markdown": [
       "We paid House Payment  **1479.38** $. The new reamining balance is 73214.09999999996 pay left 163.6199999999999"
      ],
      "text/plain": [
       "<IPython.core.display.Markdown object>"
      ]
     },
     "metadata": {},
     "output_type": "display_data"
    },
    {
     "data": {
      "text/markdown": [
       "We paid Self_pay  **10** $. The new reamining balance is 4850 pay left 153.6199999999999"
      ],
      "text/plain": [
       "<IPython.core.display.Markdown object>"
      ]
     },
     "metadata": {},
     "output_type": "display_data"
    },
    {
     "data": {
      "text/markdown": [
       "the amount of remaining pay is 153.6199999999999 "
      ],
      "text/plain": [
       "<IPython.core.display.Markdown object>"
      ]
     },
     "metadata": {},
     "output_type": "display_data"
    },
    {
     "data": {
      "text/markdown": [
       "#### extra payment of 153.6199999999999 was applied to WellsFargo A/C and the new balance is 389.7600000000007"
      ],
      "text/plain": [
       "<IPython.core.display.Markdown object>"
      ]
     },
     "metadata": {},
     "output_type": "display_data"
    },
    {
     "name": "stdout",
     "output_type": "stream",
     "text": [
      "Pay period of 2018-09-15 00:00:00\n"
     ]
    },
    {
     "data": {
      "text/markdown": [
       "We paid Synchrony Bank Home Zone  **85** $. The new reamining balance is 2932.73 pay left 1815.0"
      ],
      "text/plain": [
       "<IPython.core.display.Markdown object>"
      ]
     },
     "metadata": {},
     "output_type": "display_data"
    },
    {
     "data": {
      "text/markdown": [
       "We paid Self_pay  **10** $. The new reamining balance is 4840 pay left 1805.0"
      ],
      "text/plain": [
       "<IPython.core.display.Markdown object>"
      ]
     },
     "metadata": {},
     "output_type": "display_data"
    },
    {
     "data": {
      "text/markdown": [
       "the amount of remaining pay is 1805.0 "
      ],
      "text/plain": [
       "<IPython.core.display.Markdown object>"
      ]
     },
     "metadata": {},
     "output_type": "display_data"
    },
    {
     "data": {
      "text/markdown": [
       "#### extra payment of 389.7600000000007 was applied to WellsFargo A/C and the new balance is 0.0"
      ],
      "text/plain": [
       "<IPython.core.display.Markdown object>"
      ]
     },
     "metadata": {},
     "output_type": "display_data"
    },
    {
     "data": {
      "text/markdown": [
       "## payoff bill WellsFargo A/C"
      ],
      "text/plain": [
       "<IPython.core.display.Markdown object>"
      ]
     },
     "metadata": {},
     "output_type": "display_data"
    },
    {
     "data": {
      "text/markdown": [
       "#### extra payment of 1415.2399999999993 was applied to Synchrony Bank Home Zone and the new balance is 1517.4900000000007"
      ],
      "text/plain": [
       "<IPython.core.display.Markdown object>"
      ]
     },
     "metadata": {},
     "output_type": "display_data"
    },
    {
     "name": "stdout",
     "output_type": "stream",
     "text": [
      "Pay period of 2018-09-30 00:00:00\n"
     ]
    },
    {
     "data": {
      "text/markdown": [
       "We paid House Payment  **1479.38** $. The new reamining balance is 71734.71999999996 pay left 420.6199999999999"
      ],
      "text/plain": [
       "<IPython.core.display.Markdown object>"
      ]
     },
     "metadata": {},
     "output_type": "display_data"
    },
    {
     "data": {
      "text/markdown": [
       "We paid Self_pay  **10** $. The new reamining balance is 4830 pay left 410.6199999999999"
      ],
      "text/plain": [
       "<IPython.core.display.Markdown object>"
      ]
     },
     "metadata": {},
     "output_type": "display_data"
    },
    {
     "data": {
      "text/markdown": [
       "the amount of remaining pay is 410.6199999999999 "
      ],
      "text/plain": [
       "<IPython.core.display.Markdown object>"
      ]
     },
     "metadata": {},
     "output_type": "display_data"
    },
    {
     "data": {
      "text/markdown": [
       "#### extra payment of 410.6199999999999 was applied to Synchrony Bank Home Zone and the new balance is 1106.8700000000008"
      ],
      "text/plain": [
       "<IPython.core.display.Markdown object>"
      ]
     },
     "metadata": {},
     "output_type": "display_data"
    },
    {
     "name": "stdout",
     "output_type": "stream",
     "text": [
      "Pay period of 2018-10-15 00:00:00\n"
     ]
    },
    {
     "data": {
      "text/markdown": [
       "We paid Synchrony Bank Home Zone  **85** $. The new reamining balance is 1021.8700000000008 pay left 1815.0"
      ],
      "text/plain": [
       "<IPython.core.display.Markdown object>"
      ]
     },
     "metadata": {},
     "output_type": "display_data"
    },
    {
     "data": {
      "text/markdown": [
       "We paid Self_pay  **10** $. The new reamining balance is 4820 pay left 1805.0"
      ],
      "text/plain": [
       "<IPython.core.display.Markdown object>"
      ]
     },
     "metadata": {},
     "output_type": "display_data"
    },
    {
     "data": {
      "text/markdown": [
       "the amount of remaining pay is 1805.0 "
      ],
      "text/plain": [
       "<IPython.core.display.Markdown object>"
      ]
     },
     "metadata": {},
     "output_type": "display_data"
    },
    {
     "data": {
      "text/markdown": [
       "#### extra payment of 1021.8700000000008 was applied to Synchrony Bank Home Zone and the new balance is 0.0"
      ],
      "text/plain": [
       "<IPython.core.display.Markdown object>"
      ]
     },
     "metadata": {},
     "output_type": "display_data"
    },
    {
     "data": {
      "text/markdown": [
       "## payoff bill Synchrony Bank Home Zone"
      ],
      "text/plain": [
       "<IPython.core.display.Markdown object>"
      ]
     },
     "metadata": {},
     "output_type": "display_data"
    },
    {
     "data": {
      "text/markdown": [
       "#### extra payment of 783.1299999999992 was applied to House Payment and the new balance is 70951.58999999995"
      ],
      "text/plain": [
       "<IPython.core.display.Markdown object>"
      ]
     },
     "metadata": {},
     "output_type": "display_data"
    },
    {
     "name": "stdout",
     "output_type": "stream",
     "text": [
      "Pay period of 2018-10-31 00:00:00\n"
     ]
    },
    {
     "data": {
      "text/markdown": [
       "We paid House Payment  **1479.38** $. The new reamining balance is 69472.20999999995 pay left 420.6199999999999"
      ],
      "text/plain": [
       "<IPython.core.display.Markdown object>"
      ]
     },
     "metadata": {},
     "output_type": "display_data"
    },
    {
     "data": {
      "text/markdown": [
       "We paid Self_pay  **10** $. The new reamining balance is 4810 pay left 410.6199999999999"
      ],
      "text/plain": [
       "<IPython.core.display.Markdown object>"
      ]
     },
     "metadata": {},
     "output_type": "display_data"
    },
    {
     "data": {
      "text/markdown": [
       "the amount of remaining pay is 410.6199999999999 "
      ],
      "text/plain": [
       "<IPython.core.display.Markdown object>"
      ]
     },
     "metadata": {},
     "output_type": "display_data"
    },
    {
     "data": {
      "text/markdown": [
       "#### extra payment of 410.6199999999999 was applied to House Payment and the new balance is 69061.58999999995"
      ],
      "text/plain": [
       "<IPython.core.display.Markdown object>"
      ]
     },
     "metadata": {},
     "output_type": "display_data"
    },
    {
     "name": "stdout",
     "output_type": "stream",
     "text": [
      "Pay period of 2018-11-15 00:00:00\n"
     ]
    },
    {
     "data": {
      "text/markdown": [
       "We paid Self_pay  **10** $. The new reamining balance is 4800 pay left 1890.0"
      ],
      "text/plain": [
       "<IPython.core.display.Markdown object>"
      ]
     },
     "metadata": {},
     "output_type": "display_data"
    },
    {
     "data": {
      "text/markdown": [
       "the amount of remaining pay is 1890.0 "
      ],
      "text/plain": [
       "<IPython.core.display.Markdown object>"
      ]
     },
     "metadata": {},
     "output_type": "display_data"
    },
    {
     "data": {
      "text/markdown": [
       "#### extra payment of 1890.0 was applied to House Payment and the new balance is 67171.58999999995"
      ],
      "text/plain": [
       "<IPython.core.display.Markdown object>"
      ]
     },
     "metadata": {},
     "output_type": "display_data"
    },
    {
     "name": "stdout",
     "output_type": "stream",
     "text": [
      "Pay period of 2018-11-30 00:00:00\n"
     ]
    },
    {
     "data": {
      "text/markdown": [
       "We paid House Payment  **1479.38** $. The new reamining balance is 65692.20999999995 pay left 420.6199999999999"
      ],
      "text/plain": [
       "<IPython.core.display.Markdown object>"
      ]
     },
     "metadata": {},
     "output_type": "display_data"
    },
    {
     "data": {
      "text/markdown": [
       "We paid Self_pay  **10** $. The new reamining balance is 4790 pay left 410.6199999999999"
      ],
      "text/plain": [
       "<IPython.core.display.Markdown object>"
      ]
     },
     "metadata": {},
     "output_type": "display_data"
    },
    {
     "data": {
      "text/markdown": [
       "the amount of remaining pay is 410.6199999999999 "
      ],
      "text/plain": [
       "<IPython.core.display.Markdown object>"
      ]
     },
     "metadata": {},
     "output_type": "display_data"
    },
    {
     "data": {
      "text/markdown": [
       "#### extra payment of 410.6199999999999 was applied to House Payment and the new balance is 65281.589999999946"
      ],
      "text/plain": [
       "<IPython.core.display.Markdown object>"
      ]
     },
     "metadata": {},
     "output_type": "display_data"
    },
    {
     "name": "stdout",
     "output_type": "stream",
     "text": [
      "Pay period of 2018-12-15 00:00:00\n"
     ]
    },
    {
     "data": {
      "text/markdown": [
       "We paid Self_pay  **10** $. The new reamining balance is 4780 pay left 1890.0"
      ],
      "text/plain": [
       "<IPython.core.display.Markdown object>"
      ]
     },
     "metadata": {},
     "output_type": "display_data"
    },
    {
     "data": {
      "text/markdown": [
       "the amount of remaining pay is 1890.0 "
      ],
      "text/plain": [
       "<IPython.core.display.Markdown object>"
      ]
     },
     "metadata": {},
     "output_type": "display_data"
    },
    {
     "data": {
      "text/markdown": [
       "#### extra payment of 1890.0 was applied to House Payment and the new balance is 63391.589999999946"
      ],
      "text/plain": [
       "<IPython.core.display.Markdown object>"
      ]
     },
     "metadata": {},
     "output_type": "display_data"
    },
    {
     "name": "stdout",
     "output_type": "stream",
     "text": [
      "Pay period of 2018-12-31 00:00:00\n"
     ]
    },
    {
     "data": {
      "text/markdown": [
       "We paid House Payment  **1479.38** $. The new reamining balance is 61912.20999999995 pay left 420.6199999999999"
      ],
      "text/plain": [
       "<IPython.core.display.Markdown object>"
      ]
     },
     "metadata": {},
     "output_type": "display_data"
    },
    {
     "data": {
      "text/markdown": [
       "We paid Self_pay  **10** $. The new reamining balance is 4770 pay left 410.6199999999999"
      ],
      "text/plain": [
       "<IPython.core.display.Markdown object>"
      ]
     },
     "metadata": {},
     "output_type": "display_data"
    },
    {
     "data": {
      "text/markdown": [
       "the amount of remaining pay is 410.6199999999999 "
      ],
      "text/plain": [
       "<IPython.core.display.Markdown object>"
      ]
     },
     "metadata": {},
     "output_type": "display_data"
    },
    {
     "data": {
      "text/markdown": [
       "#### extra payment of 410.6199999999999 was applied to House Payment and the new balance is 61501.589999999946"
      ],
      "text/plain": [
       "<IPython.core.display.Markdown object>"
      ]
     },
     "metadata": {},
     "output_type": "display_data"
    },
    {
     "name": "stdout",
     "output_type": "stream",
     "text": [
      "Pay period of 2019-01-15 00:00:00\n"
     ]
    },
    {
     "data": {
      "text/markdown": [
       "We paid Self_pay  **10** $. The new reamining balance is 4760 pay left 1890.0"
      ],
      "text/plain": [
       "<IPython.core.display.Markdown object>"
      ]
     },
     "metadata": {},
     "output_type": "display_data"
    },
    {
     "data": {
      "text/markdown": [
       "the amount of remaining pay is 1890.0 "
      ],
      "text/plain": [
       "<IPython.core.display.Markdown object>"
      ]
     },
     "metadata": {},
     "output_type": "display_data"
    },
    {
     "data": {
      "text/markdown": [
       "#### extra payment of 1890.0 was applied to House Payment and the new balance is 59611.589999999946"
      ],
      "text/plain": [
       "<IPython.core.display.Markdown object>"
      ]
     },
     "metadata": {},
     "output_type": "display_data"
    },
    {
     "name": "stdout",
     "output_type": "stream",
     "text": [
      "Pay period of 2019-01-31 00:00:00\n"
     ]
    },
    {
     "data": {
      "text/markdown": [
       "We paid House Payment  **1479.38** $. The new reamining balance is 58132.20999999995 pay left 420.6199999999999"
      ],
      "text/plain": [
       "<IPython.core.display.Markdown object>"
      ]
     },
     "metadata": {},
     "output_type": "display_data"
    },
    {
     "data": {
      "text/markdown": [
       "We paid Self_pay  **10** $. The new reamining balance is 4750 pay left 410.6199999999999"
      ],
      "text/plain": [
       "<IPython.core.display.Markdown object>"
      ]
     },
     "metadata": {},
     "output_type": "display_data"
    },
    {
     "data": {
      "text/markdown": [
       "the amount of remaining pay is 410.6199999999999 "
      ],
      "text/plain": [
       "<IPython.core.display.Markdown object>"
      ]
     },
     "metadata": {},
     "output_type": "display_data"
    },
    {
     "data": {
      "text/markdown": [
       "#### extra payment of 410.6199999999999 was applied to House Payment and the new balance is 57721.589999999946"
      ],
      "text/plain": [
       "<IPython.core.display.Markdown object>"
      ]
     },
     "metadata": {},
     "output_type": "display_data"
    },
    {
     "name": "stdout",
     "output_type": "stream",
     "text": [
      "Pay period of 2019-02-15 00:00:00\n"
     ]
    },
    {
     "data": {
      "text/markdown": [
       "We paid Self_pay  **10** $. The new reamining balance is 4740 pay left 1890.0"
      ],
      "text/plain": [
       "<IPython.core.display.Markdown object>"
      ]
     },
     "metadata": {},
     "output_type": "display_data"
    },
    {
     "data": {
      "text/markdown": [
       "the amount of remaining pay is 1890.0 "
      ],
      "text/plain": [
       "<IPython.core.display.Markdown object>"
      ]
     },
     "metadata": {},
     "output_type": "display_data"
    },
    {
     "data": {
      "text/markdown": [
       "#### extra payment of 1890.0 was applied to House Payment and the new balance is 55831.589999999946"
      ],
      "text/plain": [
       "<IPython.core.display.Markdown object>"
      ]
     },
     "metadata": {},
     "output_type": "display_data"
    },
    {
     "name": "stdout",
     "output_type": "stream",
     "text": [
      "Pay period of 2019-02-28 00:00:00\n"
     ]
    },
    {
     "data": {
      "text/markdown": [
       "We paid House Payment  **1479.38** $. The new reamining balance is 54352.20999999995 pay left 420.6199999999999"
      ],
      "text/plain": [
       "<IPython.core.display.Markdown object>"
      ]
     },
     "metadata": {},
     "output_type": "display_data"
    },
    {
     "data": {
      "text/markdown": [
       "We paid Self_pay  **10** $. The new reamining balance is 4730 pay left 410.6199999999999"
      ],
      "text/plain": [
       "<IPython.core.display.Markdown object>"
      ]
     },
     "metadata": {},
     "output_type": "display_data"
    },
    {
     "data": {
      "text/markdown": [
       "the amount of remaining pay is 410.6199999999999 "
      ],
      "text/plain": [
       "<IPython.core.display.Markdown object>"
      ]
     },
     "metadata": {},
     "output_type": "display_data"
    },
    {
     "data": {
      "text/markdown": [
       "#### extra payment of 410.6199999999999 was applied to House Payment and the new balance is 53941.589999999946"
      ],
      "text/plain": [
       "<IPython.core.display.Markdown object>"
      ]
     },
     "metadata": {},
     "output_type": "display_data"
    },
    {
     "name": "stdout",
     "output_type": "stream",
     "text": [
      "Pay period of 2019-03-15 00:00:00\n"
     ]
    },
    {
     "data": {
      "text/markdown": [
       "We paid Self_pay  **10** $. The new reamining balance is 4720 pay left 1890.0"
      ],
      "text/plain": [
       "<IPython.core.display.Markdown object>"
      ]
     },
     "metadata": {},
     "output_type": "display_data"
    },
    {
     "data": {
      "text/markdown": [
       "the amount of remaining pay is 1890.0 "
      ],
      "text/plain": [
       "<IPython.core.display.Markdown object>"
      ]
     },
     "metadata": {},
     "output_type": "display_data"
    },
    {
     "data": {
      "text/markdown": [
       "#### extra payment of 1890.0 was applied to House Payment and the new balance is 52051.589999999946"
      ],
      "text/plain": [
       "<IPython.core.display.Markdown object>"
      ]
     },
     "metadata": {},
     "output_type": "display_data"
    },
    {
     "name": "stdout",
     "output_type": "stream",
     "text": [
      "Pay period of 2019-03-31 00:00:00\n"
     ]
    },
    {
     "data": {
      "text/markdown": [
       "We paid House Payment  **1479.38** $. The new reamining balance is 50572.20999999995 pay left 420.6199999999999"
      ],
      "text/plain": [
       "<IPython.core.display.Markdown object>"
      ]
     },
     "metadata": {},
     "output_type": "display_data"
    },
    {
     "data": {
      "text/markdown": [
       "We paid Self_pay  **10** $. The new reamining balance is 4710 pay left 410.6199999999999"
      ],
      "text/plain": [
       "<IPython.core.display.Markdown object>"
      ]
     },
     "metadata": {},
     "output_type": "display_data"
    },
    {
     "data": {
      "text/markdown": [
       "the amount of remaining pay is 410.6199999999999 "
      ],
      "text/plain": [
       "<IPython.core.display.Markdown object>"
      ]
     },
     "metadata": {},
     "output_type": "display_data"
    },
    {
     "data": {
      "text/markdown": [
       "#### extra payment of 410.6199999999999 was applied to House Payment and the new balance is 50161.589999999946"
      ],
      "text/plain": [
       "<IPython.core.display.Markdown object>"
      ]
     },
     "metadata": {},
     "output_type": "display_data"
    },
    {
     "name": "stdout",
     "output_type": "stream",
     "text": [
      "Pay period of 2019-04-15 00:00:00\n"
     ]
    },
    {
     "data": {
      "text/markdown": [
       "We paid Self_pay  **10** $. The new reamining balance is 4700 pay left 1890.0"
      ],
      "text/plain": [
       "<IPython.core.display.Markdown object>"
      ]
     },
     "metadata": {},
     "output_type": "display_data"
    },
    {
     "data": {
      "text/markdown": [
       "the amount of remaining pay is 1890.0 "
      ],
      "text/plain": [
       "<IPython.core.display.Markdown object>"
      ]
     },
     "metadata": {},
     "output_type": "display_data"
    },
    {
     "data": {
      "text/markdown": [
       "#### extra payment of 1890.0 was applied to House Payment and the new balance is 48271.589999999946"
      ],
      "text/plain": [
       "<IPython.core.display.Markdown object>"
      ]
     },
     "metadata": {},
     "output_type": "display_data"
    },
    {
     "name": "stdout",
     "output_type": "stream",
     "text": [
      "Pay period of 2019-04-30 00:00:00\n"
     ]
    },
    {
     "data": {
      "text/markdown": [
       "We paid House Payment  **1479.38** $. The new reamining balance is 46792.20999999995 pay left 420.6199999999999"
      ],
      "text/plain": [
       "<IPython.core.display.Markdown object>"
      ]
     },
     "metadata": {},
     "output_type": "display_data"
    },
    {
     "data": {
      "text/markdown": [
       "We paid Self_pay  **10** $. The new reamining balance is 4690 pay left 410.6199999999999"
      ],
      "text/plain": [
       "<IPython.core.display.Markdown object>"
      ]
     },
     "metadata": {},
     "output_type": "display_data"
    },
    {
     "data": {
      "text/markdown": [
       "the amount of remaining pay is 410.6199999999999 "
      ],
      "text/plain": [
       "<IPython.core.display.Markdown object>"
      ]
     },
     "metadata": {},
     "output_type": "display_data"
    },
    {
     "data": {
      "text/markdown": [
       "#### extra payment of 410.6199999999999 was applied to House Payment and the new balance is 46381.589999999946"
      ],
      "text/plain": [
       "<IPython.core.display.Markdown object>"
      ]
     },
     "metadata": {},
     "output_type": "display_data"
    },
    {
     "name": "stdout",
     "output_type": "stream",
     "text": [
      "Pay period of 2019-05-15 00:00:00\n"
     ]
    },
    {
     "data": {
      "text/markdown": [
       "We paid Self_pay  **10** $. The new reamining balance is 4680 pay left 1890.0"
      ],
      "text/plain": [
       "<IPython.core.display.Markdown object>"
      ]
     },
     "metadata": {},
     "output_type": "display_data"
    },
    {
     "data": {
      "text/markdown": [
       "the amount of remaining pay is 1890.0 "
      ],
      "text/plain": [
       "<IPython.core.display.Markdown object>"
      ]
     },
     "metadata": {},
     "output_type": "display_data"
    },
    {
     "data": {
      "text/markdown": [
       "#### extra payment of 1890.0 was applied to House Payment and the new balance is 44491.589999999946"
      ],
      "text/plain": [
       "<IPython.core.display.Markdown object>"
      ]
     },
     "metadata": {},
     "output_type": "display_data"
    },
    {
     "name": "stdout",
     "output_type": "stream",
     "text": [
      "Pay period of 2019-05-31 00:00:00\n"
     ]
    },
    {
     "data": {
      "text/markdown": [
       "We paid House Payment  **1479.38** $. The new reamining balance is 43012.20999999995 pay left 420.6199999999999"
      ],
      "text/plain": [
       "<IPython.core.display.Markdown object>"
      ]
     },
     "metadata": {},
     "output_type": "display_data"
    },
    {
     "data": {
      "text/markdown": [
       "We paid Self_pay  **10** $. The new reamining balance is 4670 pay left 410.6199999999999"
      ],
      "text/plain": [
       "<IPython.core.display.Markdown object>"
      ]
     },
     "metadata": {},
     "output_type": "display_data"
    },
    {
     "data": {
      "text/markdown": [
       "the amount of remaining pay is 410.6199999999999 "
      ],
      "text/plain": [
       "<IPython.core.display.Markdown object>"
      ]
     },
     "metadata": {},
     "output_type": "display_data"
    },
    {
     "data": {
      "text/markdown": [
       "#### extra payment of 410.6199999999999 was applied to House Payment and the new balance is 42601.589999999946"
      ],
      "text/plain": [
       "<IPython.core.display.Markdown object>"
      ]
     },
     "metadata": {},
     "output_type": "display_data"
    },
    {
     "name": "stdout",
     "output_type": "stream",
     "text": [
      "Pay period of 2019-06-15 00:00:00\n"
     ]
    },
    {
     "data": {
      "text/markdown": [
       "We paid Self_pay  **10** $. The new reamining balance is 4660 pay left 1890.0"
      ],
      "text/plain": [
       "<IPython.core.display.Markdown object>"
      ]
     },
     "metadata": {},
     "output_type": "display_data"
    },
    {
     "data": {
      "text/markdown": [
       "the amount of remaining pay is 1890.0 "
      ],
      "text/plain": [
       "<IPython.core.display.Markdown object>"
      ]
     },
     "metadata": {},
     "output_type": "display_data"
    },
    {
     "data": {
      "text/markdown": [
       "#### extra payment of 1890.0 was applied to House Payment and the new balance is 40711.589999999946"
      ],
      "text/plain": [
       "<IPython.core.display.Markdown object>"
      ]
     },
     "metadata": {},
     "output_type": "display_data"
    },
    {
     "name": "stdout",
     "output_type": "stream",
     "text": [
      "Pay period of 2019-06-30 00:00:00\n"
     ]
    },
    {
     "data": {
      "text/markdown": [
       "We paid House Payment  **1479.38** $. The new reamining balance is 39232.20999999995 pay left 420.6199999999999"
      ],
      "text/plain": [
       "<IPython.core.display.Markdown object>"
      ]
     },
     "metadata": {},
     "output_type": "display_data"
    },
    {
     "data": {
      "text/markdown": [
       "We paid Self_pay  **10** $. The new reamining balance is 4650 pay left 410.6199999999999"
      ],
      "text/plain": [
       "<IPython.core.display.Markdown object>"
      ]
     },
     "metadata": {},
     "output_type": "display_data"
    },
    {
     "data": {
      "text/markdown": [
       "the amount of remaining pay is 410.6199999999999 "
      ],
      "text/plain": [
       "<IPython.core.display.Markdown object>"
      ]
     },
     "metadata": {},
     "output_type": "display_data"
    },
    {
     "data": {
      "text/markdown": [
       "#### extra payment of 410.6199999999999 was applied to House Payment and the new balance is 38821.589999999946"
      ],
      "text/plain": [
       "<IPython.core.display.Markdown object>"
      ]
     },
     "metadata": {},
     "output_type": "display_data"
    },
    {
     "name": "stdout",
     "output_type": "stream",
     "text": [
      "Pay period of 2019-07-15 00:00:00\n"
     ]
    },
    {
     "data": {
      "text/markdown": [
       "We paid Self_pay  **10** $. The new reamining balance is 4640 pay left 1890.0"
      ],
      "text/plain": [
       "<IPython.core.display.Markdown object>"
      ]
     },
     "metadata": {},
     "output_type": "display_data"
    },
    {
     "data": {
      "text/markdown": [
       "the amount of remaining pay is 1890.0 "
      ],
      "text/plain": [
       "<IPython.core.display.Markdown object>"
      ]
     },
     "metadata": {},
     "output_type": "display_data"
    },
    {
     "data": {
      "text/markdown": [
       "#### extra payment of 1890.0 was applied to House Payment and the new balance is 36931.589999999946"
      ],
      "text/plain": [
       "<IPython.core.display.Markdown object>"
      ]
     },
     "metadata": {},
     "output_type": "display_data"
    },
    {
     "name": "stdout",
     "output_type": "stream",
     "text": [
      "Pay period of 2019-07-31 00:00:00\n"
     ]
    },
    {
     "data": {
      "text/markdown": [
       "We paid House Payment  **1479.38** $. The new reamining balance is 35452.20999999995 pay left 420.6199999999999"
      ],
      "text/plain": [
       "<IPython.core.display.Markdown object>"
      ]
     },
     "metadata": {},
     "output_type": "display_data"
    },
    {
     "data": {
      "text/markdown": [
       "We paid Self_pay  **10** $. The new reamining balance is 4630 pay left 410.6199999999999"
      ],
      "text/plain": [
       "<IPython.core.display.Markdown object>"
      ]
     },
     "metadata": {},
     "output_type": "display_data"
    },
    {
     "data": {
      "text/markdown": [
       "the amount of remaining pay is 410.6199999999999 "
      ],
      "text/plain": [
       "<IPython.core.display.Markdown object>"
      ]
     },
     "metadata": {},
     "output_type": "display_data"
    },
    {
     "data": {
      "text/markdown": [
       "#### extra payment of 410.6199999999999 was applied to House Payment and the new balance is 35041.589999999946"
      ],
      "text/plain": [
       "<IPython.core.display.Markdown object>"
      ]
     },
     "metadata": {},
     "output_type": "display_data"
    },
    {
     "name": "stdout",
     "output_type": "stream",
     "text": [
      "Pay period of 2019-08-15 00:00:00\n"
     ]
    },
    {
     "data": {
      "text/markdown": [
       "We paid Self_pay  **10** $. The new reamining balance is 4620 pay left 1890.0"
      ],
      "text/plain": [
       "<IPython.core.display.Markdown object>"
      ]
     },
     "metadata": {},
     "output_type": "display_data"
    },
    {
     "data": {
      "text/markdown": [
       "the amount of remaining pay is 1890.0 "
      ],
      "text/plain": [
       "<IPython.core.display.Markdown object>"
      ]
     },
     "metadata": {},
     "output_type": "display_data"
    },
    {
     "data": {
      "text/markdown": [
       "#### extra payment of 1890.0 was applied to House Payment and the new balance is 33151.589999999946"
      ],
      "text/plain": [
       "<IPython.core.display.Markdown object>"
      ]
     },
     "metadata": {},
     "output_type": "display_data"
    },
    {
     "name": "stdout",
     "output_type": "stream",
     "text": [
      "Pay period of 2019-08-31 00:00:00\n"
     ]
    },
    {
     "data": {
      "text/markdown": [
       "We paid House Payment  **1479.38** $. The new reamining balance is 31672.209999999945 pay left 420.6199999999999"
      ],
      "text/plain": [
       "<IPython.core.display.Markdown object>"
      ]
     },
     "metadata": {},
     "output_type": "display_data"
    },
    {
     "data": {
      "text/markdown": [
       "We paid Self_pay  **10** $. The new reamining balance is 4610 pay left 410.6199999999999"
      ],
      "text/plain": [
       "<IPython.core.display.Markdown object>"
      ]
     },
     "metadata": {},
     "output_type": "display_data"
    },
    {
     "data": {
      "text/markdown": [
       "the amount of remaining pay is 410.6199999999999 "
      ],
      "text/plain": [
       "<IPython.core.display.Markdown object>"
      ]
     },
     "metadata": {},
     "output_type": "display_data"
    },
    {
     "data": {
      "text/markdown": [
       "#### extra payment of 410.6199999999999 was applied to House Payment and the new balance is 31261.589999999946"
      ],
      "text/plain": [
       "<IPython.core.display.Markdown object>"
      ]
     },
     "metadata": {},
     "output_type": "display_data"
    },
    {
     "name": "stdout",
     "output_type": "stream",
     "text": [
      "Pay period of 2019-09-15 00:00:00\n"
     ]
    },
    {
     "data": {
      "text/markdown": [
       "We paid Self_pay  **10** $. The new reamining balance is 4600 pay left 1890.0"
      ],
      "text/plain": [
       "<IPython.core.display.Markdown object>"
      ]
     },
     "metadata": {},
     "output_type": "display_data"
    },
    {
     "data": {
      "text/markdown": [
       "the amount of remaining pay is 1890.0 "
      ],
      "text/plain": [
       "<IPython.core.display.Markdown object>"
      ]
     },
     "metadata": {},
     "output_type": "display_data"
    },
    {
     "data": {
      "text/markdown": [
       "#### extra payment of 1890.0 was applied to House Payment and the new balance is 29371.589999999946"
      ],
      "text/plain": [
       "<IPython.core.display.Markdown object>"
      ]
     },
     "metadata": {},
     "output_type": "display_data"
    },
    {
     "name": "stdout",
     "output_type": "stream",
     "text": [
      "Pay period of 2019-09-30 00:00:00\n"
     ]
    },
    {
     "data": {
      "text/markdown": [
       "We paid House Payment  **1479.38** $. The new reamining balance is 27892.209999999945 pay left 420.6199999999999"
      ],
      "text/plain": [
       "<IPython.core.display.Markdown object>"
      ]
     },
     "metadata": {},
     "output_type": "display_data"
    },
    {
     "data": {
      "text/markdown": [
       "We paid Self_pay  **10** $. The new reamining balance is 4590 pay left 410.6199999999999"
      ],
      "text/plain": [
       "<IPython.core.display.Markdown object>"
      ]
     },
     "metadata": {},
     "output_type": "display_data"
    },
    {
     "data": {
      "text/markdown": [
       "the amount of remaining pay is 410.6199999999999 "
      ],
      "text/plain": [
       "<IPython.core.display.Markdown object>"
      ]
     },
     "metadata": {},
     "output_type": "display_data"
    },
    {
     "data": {
      "text/markdown": [
       "#### extra payment of 410.6199999999999 was applied to House Payment and the new balance is 27481.589999999946"
      ],
      "text/plain": [
       "<IPython.core.display.Markdown object>"
      ]
     },
     "metadata": {},
     "output_type": "display_data"
    },
    {
     "name": "stdout",
     "output_type": "stream",
     "text": [
      "Pay period of 2019-10-15 00:00:00\n"
     ]
    },
    {
     "data": {
      "text/markdown": [
       "We paid Self_pay  **10** $. The new reamining balance is 4580 pay left 1890.0"
      ],
      "text/plain": [
       "<IPython.core.display.Markdown object>"
      ]
     },
     "metadata": {},
     "output_type": "display_data"
    },
    {
     "data": {
      "text/markdown": [
       "the amount of remaining pay is 1890.0 "
      ],
      "text/plain": [
       "<IPython.core.display.Markdown object>"
      ]
     },
     "metadata": {},
     "output_type": "display_data"
    },
    {
     "data": {
      "text/markdown": [
       "#### extra payment of 1890.0 was applied to House Payment and the new balance is 25591.589999999946"
      ],
      "text/plain": [
       "<IPython.core.display.Markdown object>"
      ]
     },
     "metadata": {},
     "output_type": "display_data"
    },
    {
     "name": "stdout",
     "output_type": "stream",
     "text": [
      "Pay period of 2019-10-31 00:00:00\n"
     ]
    },
    {
     "data": {
      "text/markdown": [
       "We paid House Payment  **1479.38** $. The new reamining balance is 24112.209999999945 pay left 420.6199999999999"
      ],
      "text/plain": [
       "<IPython.core.display.Markdown object>"
      ]
     },
     "metadata": {},
     "output_type": "display_data"
    },
    {
     "data": {
      "text/markdown": [
       "We paid Self_pay  **10** $. The new reamining balance is 4570 pay left 410.6199999999999"
      ],
      "text/plain": [
       "<IPython.core.display.Markdown object>"
      ]
     },
     "metadata": {},
     "output_type": "display_data"
    },
    {
     "data": {
      "text/markdown": [
       "the amount of remaining pay is 410.6199999999999 "
      ],
      "text/plain": [
       "<IPython.core.display.Markdown object>"
      ]
     },
     "metadata": {},
     "output_type": "display_data"
    },
    {
     "data": {
      "text/markdown": [
       "#### extra payment of 410.6199999999999 was applied to House Payment and the new balance is 23701.589999999946"
      ],
      "text/plain": [
       "<IPython.core.display.Markdown object>"
      ]
     },
     "metadata": {},
     "output_type": "display_data"
    },
    {
     "name": "stdout",
     "output_type": "stream",
     "text": [
      "Pay period of 2019-11-15 00:00:00\n"
     ]
    },
    {
     "data": {
      "text/markdown": [
       "We paid Self_pay  **10** $. The new reamining balance is 4560 pay left 1890.0"
      ],
      "text/plain": [
       "<IPython.core.display.Markdown object>"
      ]
     },
     "metadata": {},
     "output_type": "display_data"
    },
    {
     "data": {
      "text/markdown": [
       "the amount of remaining pay is 1890.0 "
      ],
      "text/plain": [
       "<IPython.core.display.Markdown object>"
      ]
     },
     "metadata": {},
     "output_type": "display_data"
    },
    {
     "data": {
      "text/markdown": [
       "#### extra payment of 1890.0 was applied to House Payment and the new balance is 21811.589999999946"
      ],
      "text/plain": [
       "<IPython.core.display.Markdown object>"
      ]
     },
     "metadata": {},
     "output_type": "display_data"
    },
    {
     "name": "stdout",
     "output_type": "stream",
     "text": [
      "Pay period of 2019-11-30 00:00:00\n"
     ]
    },
    {
     "data": {
      "text/markdown": [
       "We paid House Payment  **1479.38** $. The new reamining balance is 20332.209999999945 pay left 420.6199999999999"
      ],
      "text/plain": [
       "<IPython.core.display.Markdown object>"
      ]
     },
     "metadata": {},
     "output_type": "display_data"
    },
    {
     "data": {
      "text/markdown": [
       "We paid Self_pay  **10** $. The new reamining balance is 4550 pay left 410.6199999999999"
      ],
      "text/plain": [
       "<IPython.core.display.Markdown object>"
      ]
     },
     "metadata": {},
     "output_type": "display_data"
    },
    {
     "data": {
      "text/markdown": [
       "the amount of remaining pay is 410.6199999999999 "
      ],
      "text/plain": [
       "<IPython.core.display.Markdown object>"
      ]
     },
     "metadata": {},
     "output_type": "display_data"
    },
    {
     "data": {
      "text/markdown": [
       "#### extra payment of 410.6199999999999 was applied to House Payment and the new balance is 19921.589999999946"
      ],
      "text/plain": [
       "<IPython.core.display.Markdown object>"
      ]
     },
     "metadata": {},
     "output_type": "display_data"
    },
    {
     "name": "stdout",
     "output_type": "stream",
     "text": [
      "Pay period of 2019-12-15 00:00:00\n"
     ]
    },
    {
     "data": {
      "text/markdown": [
       "We paid Self_pay  **10** $. The new reamining balance is 4540 pay left 1890.0"
      ],
      "text/plain": [
       "<IPython.core.display.Markdown object>"
      ]
     },
     "metadata": {},
     "output_type": "display_data"
    },
    {
     "data": {
      "text/markdown": [
       "the amount of remaining pay is 1890.0 "
      ],
      "text/plain": [
       "<IPython.core.display.Markdown object>"
      ]
     },
     "metadata": {},
     "output_type": "display_data"
    },
    {
     "data": {
      "text/markdown": [
       "#### extra payment of 1890.0 was applied to House Payment and the new balance is 18031.589999999946"
      ],
      "text/plain": [
       "<IPython.core.display.Markdown object>"
      ]
     },
     "metadata": {},
     "output_type": "display_data"
    },
    {
     "name": "stdout",
     "output_type": "stream",
     "text": [
      "Pay period of 2019-12-31 00:00:00\n"
     ]
    },
    {
     "data": {
      "text/markdown": [
       "We paid House Payment  **1479.38** $. The new reamining balance is 16552.209999999945 pay left 420.6199999999999"
      ],
      "text/plain": [
       "<IPython.core.display.Markdown object>"
      ]
     },
     "metadata": {},
     "output_type": "display_data"
    },
    {
     "data": {
      "text/markdown": [
       "We paid Self_pay  **10** $. The new reamining balance is 4530 pay left 410.6199999999999"
      ],
      "text/plain": [
       "<IPython.core.display.Markdown object>"
      ]
     },
     "metadata": {},
     "output_type": "display_data"
    },
    {
     "data": {
      "text/markdown": [
       "the amount of remaining pay is 410.6199999999999 "
      ],
      "text/plain": [
       "<IPython.core.display.Markdown object>"
      ]
     },
     "metadata": {},
     "output_type": "display_data"
    },
    {
     "data": {
      "text/markdown": [
       "#### extra payment of 410.6199999999999 was applied to House Payment and the new balance is 16141.589999999946"
      ],
      "text/plain": [
       "<IPython.core.display.Markdown object>"
      ]
     },
     "metadata": {},
     "output_type": "display_data"
    },
    {
     "name": "stdout",
     "output_type": "stream",
     "text": [
      "Pay period of 2020-01-15 00:00:00\n"
     ]
    },
    {
     "data": {
      "text/markdown": [
       "We paid Self_pay  **10** $. The new reamining balance is 4520 pay left 1890.0"
      ],
      "text/plain": [
       "<IPython.core.display.Markdown object>"
      ]
     },
     "metadata": {},
     "output_type": "display_data"
    },
    {
     "data": {
      "text/markdown": [
       "the amount of remaining pay is 1890.0 "
      ],
      "text/plain": [
       "<IPython.core.display.Markdown object>"
      ]
     },
     "metadata": {},
     "output_type": "display_data"
    },
    {
     "data": {
      "text/markdown": [
       "#### extra payment of 1890.0 was applied to House Payment and the new balance is 14251.589999999946"
      ],
      "text/plain": [
       "<IPython.core.display.Markdown object>"
      ]
     },
     "metadata": {},
     "output_type": "display_data"
    },
    {
     "name": "stdout",
     "output_type": "stream",
     "text": [
      "Pay period of 2020-01-31 00:00:00\n"
     ]
    },
    {
     "data": {
      "text/markdown": [
       "We paid House Payment  **1479.38** $. The new reamining balance is 12772.209999999945 pay left 420.6199999999999"
      ],
      "text/plain": [
       "<IPython.core.display.Markdown object>"
      ]
     },
     "metadata": {},
     "output_type": "display_data"
    },
    {
     "data": {
      "text/markdown": [
       "We paid Self_pay  **10** $. The new reamining balance is 4510 pay left 410.6199999999999"
      ],
      "text/plain": [
       "<IPython.core.display.Markdown object>"
      ]
     },
     "metadata": {},
     "output_type": "display_data"
    },
    {
     "data": {
      "text/markdown": [
       "the amount of remaining pay is 410.6199999999999 "
      ],
      "text/plain": [
       "<IPython.core.display.Markdown object>"
      ]
     },
     "metadata": {},
     "output_type": "display_data"
    },
    {
     "data": {
      "text/markdown": [
       "#### extra payment of 410.6199999999999 was applied to House Payment and the new balance is 12361.589999999946"
      ],
      "text/plain": [
       "<IPython.core.display.Markdown object>"
      ]
     },
     "metadata": {},
     "output_type": "display_data"
    },
    {
     "name": "stdout",
     "output_type": "stream",
     "text": [
      "Pay period of 2020-02-15 00:00:00\n"
     ]
    },
    {
     "data": {
      "text/markdown": [
       "We paid Self_pay  **10** $. The new reamining balance is 4500 pay left 1890.0"
      ],
      "text/plain": [
       "<IPython.core.display.Markdown object>"
      ]
     },
     "metadata": {},
     "output_type": "display_data"
    },
    {
     "data": {
      "text/markdown": [
       "the amount of remaining pay is 1890.0 "
      ],
      "text/plain": [
       "<IPython.core.display.Markdown object>"
      ]
     },
     "metadata": {},
     "output_type": "display_data"
    },
    {
     "data": {
      "text/markdown": [
       "#### extra payment of 1890.0 was applied to House Payment and the new balance is 10471.589999999946"
      ],
      "text/plain": [
       "<IPython.core.display.Markdown object>"
      ]
     },
     "metadata": {},
     "output_type": "display_data"
    },
    {
     "name": "stdout",
     "output_type": "stream",
     "text": [
      "Pay period of 2020-02-29 00:00:00\n"
     ]
    },
    {
     "data": {
      "text/markdown": [
       "We paid House Payment  **1479.38** $. The new reamining balance is 8992.209999999945 pay left 420.6199999999999"
      ],
      "text/plain": [
       "<IPython.core.display.Markdown object>"
      ]
     },
     "metadata": {},
     "output_type": "display_data"
    },
    {
     "data": {
      "text/markdown": [
       "We paid Self_pay  **10** $. The new reamining balance is 4490 pay left 410.6199999999999"
      ],
      "text/plain": [
       "<IPython.core.display.Markdown object>"
      ]
     },
     "metadata": {},
     "output_type": "display_data"
    },
    {
     "data": {
      "text/markdown": [
       "the amount of remaining pay is 410.6199999999999 "
      ],
      "text/plain": [
       "<IPython.core.display.Markdown object>"
      ]
     },
     "metadata": {},
     "output_type": "display_data"
    },
    {
     "data": {
      "text/markdown": [
       "#### extra payment of 410.6199999999999 was applied to House Payment and the new balance is 8581.589999999946"
      ],
      "text/plain": [
       "<IPython.core.display.Markdown object>"
      ]
     },
     "metadata": {},
     "output_type": "display_data"
    },
    {
     "name": "stdout",
     "output_type": "stream",
     "text": [
      "Pay period of 2020-03-15 00:00:00\n"
     ]
    },
    {
     "data": {
      "text/markdown": [
       "We paid Self_pay  **10** $. The new reamining balance is 4480 pay left 1890.0"
      ],
      "text/plain": [
       "<IPython.core.display.Markdown object>"
      ]
     },
     "metadata": {},
     "output_type": "display_data"
    },
    {
     "data": {
      "text/markdown": [
       "the amount of remaining pay is 1890.0 "
      ],
      "text/plain": [
       "<IPython.core.display.Markdown object>"
      ]
     },
     "metadata": {},
     "output_type": "display_data"
    },
    {
     "data": {
      "text/markdown": [
       "#### extra payment of 1890.0 was applied to House Payment and the new balance is 6691.589999999946"
      ],
      "text/plain": [
       "<IPython.core.display.Markdown object>"
      ]
     },
     "metadata": {},
     "output_type": "display_data"
    },
    {
     "name": "stdout",
     "output_type": "stream",
     "text": [
      "Pay period of 2020-03-31 00:00:00\n"
     ]
    },
    {
     "data": {
      "text/markdown": [
       "We paid House Payment  **1479.38** $. The new reamining balance is 5212.2099999999455 pay left 420.6199999999999"
      ],
      "text/plain": [
       "<IPython.core.display.Markdown object>"
      ]
     },
     "metadata": {},
     "output_type": "display_data"
    },
    {
     "data": {
      "text/markdown": [
       "We paid Self_pay  **10** $. The new reamining balance is 4470 pay left 410.6199999999999"
      ],
      "text/plain": [
       "<IPython.core.display.Markdown object>"
      ]
     },
     "metadata": {},
     "output_type": "display_data"
    },
    {
     "data": {
      "text/markdown": [
       "the amount of remaining pay is 410.6199999999999 "
      ],
      "text/plain": [
       "<IPython.core.display.Markdown object>"
      ]
     },
     "metadata": {},
     "output_type": "display_data"
    },
    {
     "data": {
      "text/markdown": [
       "#### extra payment of 410.6199999999999 was applied to House Payment and the new balance is 4801.589999999946"
      ],
      "text/plain": [
       "<IPython.core.display.Markdown object>"
      ]
     },
     "metadata": {},
     "output_type": "display_data"
    },
    {
     "name": "stdout",
     "output_type": "stream",
     "text": [
      "Pay period of 2020-04-15 00:00:00\n"
     ]
    },
    {
     "data": {
      "text/markdown": [
       "We paid Self_pay  **10** $. The new reamining balance is 4460 pay left 1890.0"
      ],
      "text/plain": [
       "<IPython.core.display.Markdown object>"
      ]
     },
     "metadata": {},
     "output_type": "display_data"
    },
    {
     "data": {
      "text/markdown": [
       "the amount of remaining pay is 1890.0 "
      ],
      "text/plain": [
       "<IPython.core.display.Markdown object>"
      ]
     },
     "metadata": {},
     "output_type": "display_data"
    },
    {
     "data": {
      "text/markdown": [
       "#### extra payment of 1890.0 was applied to House Payment and the new balance is 2911.5899999999456"
      ],
      "text/plain": [
       "<IPython.core.display.Markdown object>"
      ]
     },
     "metadata": {},
     "output_type": "display_data"
    },
    {
     "name": "stdout",
     "output_type": "stream",
     "text": [
      "Pay period of 2020-04-30 00:00:00\n"
     ]
    },
    {
     "data": {
      "text/markdown": [
       "We paid House Payment  **1479.38** $. The new reamining balance is 1432.2099999999455 pay left 420.6199999999999"
      ],
      "text/plain": [
       "<IPython.core.display.Markdown object>"
      ]
     },
     "metadata": {},
     "output_type": "display_data"
    },
    {
     "data": {
      "text/markdown": [
       "We paid Self_pay  **10** $. The new reamining balance is 4450 pay left 410.6199999999999"
      ],
      "text/plain": [
       "<IPython.core.display.Markdown object>"
      ]
     },
     "metadata": {},
     "output_type": "display_data"
    },
    {
     "data": {
      "text/markdown": [
       "the amount of remaining pay is 410.6199999999999 "
      ],
      "text/plain": [
       "<IPython.core.display.Markdown object>"
      ]
     },
     "metadata": {},
     "output_type": "display_data"
    },
    {
     "data": {
      "text/markdown": [
       "#### extra payment of 410.6199999999999 was applied to House Payment and the new balance is 1021.5899999999456"
      ],
      "text/plain": [
       "<IPython.core.display.Markdown object>"
      ]
     },
     "metadata": {},
     "output_type": "display_data"
    },
    {
     "name": "stdout",
     "output_type": "stream",
     "text": [
      "Pay period of 2020-05-15 00:00:00\n"
     ]
    },
    {
     "data": {
      "text/markdown": [
       "We paid Self_pay  **10** $. The new reamining balance is 4440 pay left 1890.0"
      ],
      "text/plain": [
       "<IPython.core.display.Markdown object>"
      ]
     },
     "metadata": {},
     "output_type": "display_data"
    },
    {
     "data": {
      "text/markdown": [
       "the amount of remaining pay is 1890.0 "
      ],
      "text/plain": [
       "<IPython.core.display.Markdown object>"
      ]
     },
     "metadata": {},
     "output_type": "display_data"
    },
    {
     "data": {
      "text/markdown": [
       "#### extra payment of 1021.5899999999456 was applied to House Payment and the new balance is 0.0"
      ],
      "text/plain": [
       "<IPython.core.display.Markdown object>"
      ]
     },
     "metadata": {},
     "output_type": "display_data"
    },
    {
     "data": {
      "text/markdown": [
       "## payoff bill House Payment"
      ],
      "text/plain": [
       "<IPython.core.display.Markdown object>"
      ]
     },
     "metadata": {},
     "output_type": "display_data"
    },
    {
     "name": "stdout",
     "output_type": "stream",
     "text": [
      "Pay period of 2020-05-31 00:00:00\n"
     ]
    },
    {
     "data": {
      "text/markdown": [
       "We paid Self_pay  **10** $. The new reamining balance is 4430 pay left 1890.0"
      ],
      "text/plain": [
       "<IPython.core.display.Markdown object>"
      ]
     },
     "metadata": {},
     "output_type": "display_data"
    },
    {
     "data": {
      "text/markdown": [
       "the amount of remaining pay is 1890.0 "
      ],
      "text/plain": [
       "<IPython.core.display.Markdown object>"
      ]
     },
     "metadata": {},
     "output_type": "display_data"
    },
    {
     "name": "stdout",
     "output_type": "stream",
     "text": [
      "Pay period of 2020-06-15 00:00:00\n"
     ]
    },
    {
     "data": {
      "text/markdown": [
       "We paid Self_pay  **10** $. The new reamining balance is 4420 pay left 1890.0"
      ],
      "text/plain": [
       "<IPython.core.display.Markdown object>"
      ]
     },
     "metadata": {},
     "output_type": "display_data"
    },
    {
     "data": {
      "text/markdown": [
       "the amount of remaining pay is 1890.0 "
      ],
      "text/plain": [
       "<IPython.core.display.Markdown object>"
      ]
     },
     "metadata": {},
     "output_type": "display_data"
    },
    {
     "name": "stdout",
     "output_type": "stream",
     "text": [
      "Pay period of 2020-06-30 00:00:00\n"
     ]
    },
    {
     "data": {
      "text/markdown": [
       "We paid Self_pay  **10** $. The new reamining balance is 4410 pay left 1890.0"
      ],
      "text/plain": [
       "<IPython.core.display.Markdown object>"
      ]
     },
     "metadata": {},
     "output_type": "display_data"
    },
    {
     "data": {
      "text/markdown": [
       "the amount of remaining pay is 1890.0 "
      ],
      "text/plain": [
       "<IPython.core.display.Markdown object>"
      ]
     },
     "metadata": {},
     "output_type": "display_data"
    },
    {
     "name": "stdout",
     "output_type": "stream",
     "text": [
      "Pay period of 2020-07-15 00:00:00\n"
     ]
    },
    {
     "data": {
      "text/markdown": [
       "We paid Self_pay  **10** $. The new reamining balance is 4400 pay left 1890.0"
      ],
      "text/plain": [
       "<IPython.core.display.Markdown object>"
      ]
     },
     "metadata": {},
     "output_type": "display_data"
    },
    {
     "data": {
      "text/markdown": [
       "the amount of remaining pay is 1890.0 "
      ],
      "text/plain": [
       "<IPython.core.display.Markdown object>"
      ]
     },
     "metadata": {},
     "output_type": "display_data"
    }
   ],
   "source": [
    "# loop though pay days \n",
    "for Date in paydays:\n",
    "    # this is our pay    \n",
    "    net_pay = 1900.0\n",
    "    \n",
    "    print(\"Pay period of {}\".format(Date))\n",
    "    \n",
    "    for bill in bills:\n",
    "        # mid month payments\n",
    "        if bills[bill]['due_day'][1] == 15 and Date.day == 15:                      \n",
    "            bill_due = True\n",
    "        # end month payments\n",
    "        elif bills[bill]['due_day'][1] != 15 and Date.day != 15:\n",
    "            bill_due = True\n",
    "        # if it doenst fall in these catagories we dont pay    \n",
    "        else:\n",
    "            bill_due = False\n",
    "        # if we have a tuple here, we assum we need to pay it both pay periods\n",
    "        try:\n",
    "            if len(bills[bill]['due_day'][1]) == 2:\n",
    "                bill_due = True\n",
    "        except:\n",
    "            pass\n",
    "        \n",
    "        last_balance_index = len(bills[bill]['balance']) - 1\n",
    "        \n",
    "        # balance is current balance minus minimum payment\n",
    "        balance = bills[bill]['balance'][last_balance_index] - bills[bill]['minimum_payment']\n",
    "        \n",
    "        if balance < 0:\n",
    "            \n",
    "            remainder = bills[bill]['minimum_payment'] - bills[bill]['balance'][last_balance_index] \n",
    "            \n",
    "        else:\n",
    "            \n",
    "            remainder = 0      \n",
    "            \n",
    "        # bill due on this month and not paid off\n",
    "        \n",
    "        if bill_due and not bills[bill]['paid_off']:\n",
    "            \n",
    "            # if we have money left over\n",
    "            if net_pay > 0:\n",
    "\n",
    "                # balance \n",
    "                if balance >= 0:\n",
    "                    \n",
    "                    if bill == \"House Payment\" and Date == datetime(2018, 1, 31):\n",
    "                    \n",
    "                        amonut_paid = 939.69\n",
    "                        \n",
    "                        balance = bills[bill]['balance'][last_balance_index] - amonut_paid\n",
    "\n",
    "                        net_pay -= amonut_paid\n",
    "                        \n",
    "                    elif bill == \"Home depot Door/Fans\" and Date == datetime(2018, 2, 15):\n",
    "                    \n",
    "                        amonut_paid = 350\n",
    "                        \n",
    "                        balance = bills[bill]['balance'][last_balance_index] - amonut_paid\n",
    "\n",
    "                        net_pay -= amonut_paid\n",
    "                        \n",
    "                    else:\n",
    "                        \n",
    "                        amonut_paid = bills[bill]['minimum_payment']\n",
    "\n",
    "                        net_pay -= amonut_paid\n",
    "                        \n",
    "                        if bill == \"Self_pay\":\n",
    "                            \n",
    "                            savings['balance'] += amonut_paid\n",
    "                        \n",
    "                    bills[bill]['balance'].append(balance)    \n",
    "                    \n",
    "                    if balance == 0:\n",
    "                        \n",
    "                        printmd(\"## payoff bill {}\".format(bill))\n",
    "                    \n",
    "                        bills[bill]['paid_off'] = True\n",
    "                        \n",
    "                else:\n",
    "                    \n",
    "                    amonut_paid = bills[bill]['balance'][last_balance_index]\n",
    "                    \n",
    "                    net_pay -= amonut_paid\n",
    "                    \n",
    "                    printmd(\"#### We are paying off {} has a balance of {} is paid off and pay left over is {}\".format(bill, amonut_paid, net_pay))\n",
    "                    \n",
    "                    balance = 0\n",
    "                    \n",
    "                    bills[bill]['balance'].append(balance)\n",
    "                    \n",
    "                    bills[bill]['paid_off'] = True\n",
    "                    \n",
    "                    printmd(\"## payoff bill {}\".format(bill))\n",
    "                \n",
    "                paid = \"was\"\n",
    "                \n",
    "        # not a pay day\n",
    "        else:\n",
    "            \n",
    "            bills[bill]['balance'].append(bills[bill]['balance'][last_balance_index])\n",
    "            \n",
    "            paid = \"was not\"\n",
    "        \n",
    "        if paid == \"was\":\n",
    "            \n",
    "            printmd(\"We paid {}  **{}** $. The new reamining balance is {} pay left {}\".format(bill, amonut_paid , balance, net_pay))\n",
    "            \n",
    "        \n",
    "       \n",
    "    printmd(\"the amount of remaining pay is {} \".format(net_pay))\n",
    "    \n",
    "    ## need to calculate the balance left to be paid, need to check the idx of last_balance_index\n",
    "    ## cant forget to update the balance after the remaining pay is apliled\n",
    "    \n",
    "    for bill in bills:\n",
    "        \n",
    "        if bills[bill][\"showball\"] == True and bills[bill][\"paid_off\"] == False:\n",
    "\n",
    "            balance_index = len(bills[bill]['balance']) - 1\n",
    "\n",
    "            balance = bills[bill]['balance'][balance_index]\n",
    "\n",
    "            if net_pay > bills[bill]['balance'][balance_index]:\n",
    "                \n",
    "                net_pay_change = True\n",
    "                \n",
    "                net_pay = net_pay - bills[bill]['balance'][balance_index]\n",
    "\n",
    "                extra_payment = bills[bill]['balance'][balance_index] \n",
    "\n",
    "            else:\n",
    "\n",
    "                extra_payment = net_pay\n",
    "                \n",
    "                net_pay_change = False\n",
    "\n",
    "            if balance > 0 and net_pay > 0 and bills[bill][\"showball\"] == True:\n",
    "                \n",
    "                balance =  bills[bill]['balance'][balance_index] - extra_payment\n",
    "\n",
    "                bills[bill]['balance'][balance_index] = balance\n",
    "                \n",
    "                if net_pay_change == False:\n",
    "\n",
    "                    net_pay -= extra_payment\n",
    "\n",
    "                printmd(\"#### extra payment of {} was applied to {} and the new balance is {}\".format(extra_payment, bill, balance))\n",
    "                \n",
    "                if balance == 0:\n",
    "                    \n",
    "                    bills[bill]['paid_off'] = True\n",
    "                    \n",
    "                    printmd(\"## payoff bill {}\".format(bill))\n",
    "\n",
    "                "
   ]
  },
  {
   "cell_type": "code",
   "execution_count": 6,
   "metadata": {
    "scrolled": false
   },
   "outputs": [
    {
     "data": {
      "text/plain": [
       "OrderedDict([('Synchrony Computer',\n",
       "              {'balance': [1275.57,\n",
       "                607.26,\n",
       "                166.90999999999997,\n",
       "                38.29000000000008,\n",
       "                0.0,\n",
       "                0.0,\n",
       "                0.0,\n",
       "                0.0,\n",
       "                0.0,\n",
       "                0.0,\n",
       "                0.0,\n",
       "                0.0,\n",
       "                0.0,\n",
       "                0.0,\n",
       "                0.0,\n",
       "                0.0,\n",
       "                0.0,\n",
       "                0.0,\n",
       "                0.0,\n",
       "                0.0,\n",
       "                0.0,\n",
       "                0.0,\n",
       "                0.0,\n",
       "                0.0,\n",
       "                0.0,\n",
       "                0.0,\n",
       "                0.0,\n",
       "                0.0,\n",
       "                0.0,\n",
       "                0.0,\n",
       "                0.0,\n",
       "                0.0,\n",
       "                0.0,\n",
       "                0.0,\n",
       "                0.0,\n",
       "                0.0,\n",
       "                0.0,\n",
       "                0.0,\n",
       "                0.0,\n",
       "                0.0,\n",
       "                0.0,\n",
       "                0.0,\n",
       "                0.0,\n",
       "                0.0,\n",
       "                0.0,\n",
       "                0.0,\n",
       "                0.0,\n",
       "                0.0,\n",
       "                0.0,\n",
       "                0.0,\n",
       "                0.0,\n",
       "                0.0,\n",
       "                0.0,\n",
       "                0.0,\n",
       "                0.0,\n",
       "                0.0,\n",
       "                0.0,\n",
       "                0.0,\n",
       "                0.0,\n",
       "                0.0,\n",
       "                0.0],\n",
       "               'due_day': (23, 15),\n",
       "               'expire_promo': datetime.datetime(2018, 4, 30, 0, 0),\n",
       "               'minimum_payment': 25,\n",
       "               'paid_off': True,\n",
       "               'showball': True,\n",
       "               'starting_balance': 1275.57}),\n",
       "             ('EF Tours Nina',\n",
       "              {'balance': [2450,\n",
       "                2450,\n",
       "                1960,\n",
       "                1960,\n",
       "                1470,\n",
       "                1470,\n",
       "                980,\n",
       "                980,\n",
       "                490,\n",
       "                490,\n",
       "                0,\n",
       "                0,\n",
       "                0,\n",
       "                0,\n",
       "                0,\n",
       "                0,\n",
       "                0,\n",
       "                0,\n",
       "                0,\n",
       "                0,\n",
       "                0,\n",
       "                0,\n",
       "                0,\n",
       "                0,\n",
       "                0,\n",
       "                0,\n",
       "                0,\n",
       "                0,\n",
       "                0,\n",
       "                0,\n",
       "                0,\n",
       "                0,\n",
       "                0,\n",
       "                0,\n",
       "                0,\n",
       "                0,\n",
       "                0,\n",
       "                0,\n",
       "                0,\n",
       "                0,\n",
       "                0,\n",
       "                0,\n",
       "                0,\n",
       "                0,\n",
       "                0,\n",
       "                0,\n",
       "                0,\n",
       "                0,\n",
       "                0,\n",
       "                0,\n",
       "                0,\n",
       "                0,\n",
       "                0,\n",
       "                0,\n",
       "                0,\n",
       "                0,\n",
       "                0,\n",
       "                0,\n",
       "                0,\n",
       "                0,\n",
       "                0],\n",
       "               'due_day': (15, 15),\n",
       "               'expire_promo': datetime.datetime(2018, 6, 15, 0, 0),\n",
       "               'minimum_payment': 490,\n",
       "               'paid_off': True,\n",
       "               'showball': False,\n",
       "               'starting_balance': 2450}),\n",
       "             ('EF Tours Lena',\n",
       "              {'balance': [2450,\n",
       "                2450,\n",
       "                2014,\n",
       "                2014,\n",
       "                1578,\n",
       "                1578,\n",
       "                1142,\n",
       "                1142,\n",
       "                706,\n",
       "                706,\n",
       "                270,\n",
       "                270,\n",
       "                0,\n",
       "                0,\n",
       "                0,\n",
       "                0,\n",
       "                0,\n",
       "                0,\n",
       "                0,\n",
       "                0,\n",
       "                0,\n",
       "                0,\n",
       "                0,\n",
       "                0,\n",
       "                0,\n",
       "                0,\n",
       "                0,\n",
       "                0,\n",
       "                0,\n",
       "                0,\n",
       "                0,\n",
       "                0,\n",
       "                0,\n",
       "                0,\n",
       "                0,\n",
       "                0,\n",
       "                0,\n",
       "                0,\n",
       "                0,\n",
       "                0,\n",
       "                0,\n",
       "                0,\n",
       "                0,\n",
       "                0,\n",
       "                0,\n",
       "                0,\n",
       "                0,\n",
       "                0,\n",
       "                0,\n",
       "                0,\n",
       "                0,\n",
       "                0,\n",
       "                0,\n",
       "                0,\n",
       "                0,\n",
       "                0,\n",
       "                0,\n",
       "                0,\n",
       "                0,\n",
       "                0,\n",
       "                0],\n",
       "               'due_day': (15, 15),\n",
       "               'expire_promo': datetime.datetime(2018, 6, 15, 0, 0),\n",
       "               'minimum_payment': 436,\n",
       "               'paid_off': True,\n",
       "               'showball': False,\n",
       "               'starting_balance': 2450}),\n",
       "             ('Chase Mary Kay',\n",
       "              {'balance': [1101.97,\n",
       "                1076.97,\n",
       "                1076.97,\n",
       "                1051.97,\n",
       "                324.9100000000001,\n",
       "                171.2900000000002,\n",
       "                0.0,\n",
       "                0.0,\n",
       "                0.0,\n",
       "                0.0,\n",
       "                0.0,\n",
       "                0.0,\n",
       "                0.0,\n",
       "                0.0,\n",
       "                0.0,\n",
       "                0.0,\n",
       "                0.0,\n",
       "                0.0,\n",
       "                0.0,\n",
       "                0.0,\n",
       "                0.0,\n",
       "                0.0,\n",
       "                0.0,\n",
       "                0.0,\n",
       "                0.0,\n",
       "                0.0,\n",
       "                0.0,\n",
       "                0.0,\n",
       "                0.0,\n",
       "                0.0,\n",
       "                0.0,\n",
       "                0.0,\n",
       "                0.0,\n",
       "                0.0,\n",
       "                0.0,\n",
       "                0.0,\n",
       "                0.0,\n",
       "                0.0,\n",
       "                0.0,\n",
       "                0.0,\n",
       "                0.0,\n",
       "                0.0,\n",
       "                0.0,\n",
       "                0.0,\n",
       "                0.0,\n",
       "                0.0,\n",
       "                0.0,\n",
       "                0.0,\n",
       "                0.0,\n",
       "                0.0,\n",
       "                0.0,\n",
       "                0.0,\n",
       "                0.0,\n",
       "                0.0,\n",
       "                0.0,\n",
       "                0.0,\n",
       "                0.0,\n",
       "                0.0,\n",
       "                0.0,\n",
       "                0.0,\n",
       "                0.0],\n",
       "               'due_day': (12, 30),\n",
       "               'expire_promo': datetime.datetime(2018, 7, 15, 0, 0),\n",
       "               'minimum_payment': 25,\n",
       "               'paid_off': True,\n",
       "               'showball': True,\n",
       "               'starting_balance': 1101.97}),\n",
       "             ('Home depot Door/Fans',\n",
       "              {'balance': [1066.67,\n",
       "                1066.67,\n",
       "                716.6700000000001,\n",
       "                716.6700000000001,\n",
       "                691.6700000000001,\n",
       "                691.6700000000001,\n",
       "                72.61000000000024,\n",
       "                0.0,\n",
       "                0.0,\n",
       "                0.0,\n",
       "                0.0,\n",
       "                0.0,\n",
       "                0.0,\n",
       "                0.0,\n",
       "                0.0,\n",
       "                0.0,\n",
       "                0.0,\n",
       "                0.0,\n",
       "                0.0,\n",
       "                0.0,\n",
       "                0.0,\n",
       "                0.0,\n",
       "                0.0,\n",
       "                0.0,\n",
       "                0.0,\n",
       "                0.0,\n",
       "                0.0,\n",
       "                0.0,\n",
       "                0.0,\n",
       "                0.0,\n",
       "                0.0,\n",
       "                0.0,\n",
       "                0.0,\n",
       "                0.0,\n",
       "                0.0,\n",
       "                0.0,\n",
       "                0.0,\n",
       "                0.0,\n",
       "                0.0,\n",
       "                0.0,\n",
       "                0.0,\n",
       "                0.0,\n",
       "                0.0,\n",
       "                0.0,\n",
       "                0.0,\n",
       "                0.0,\n",
       "                0.0,\n",
       "                0.0,\n",
       "                0.0,\n",
       "                0.0,\n",
       "                0.0,\n",
       "                0.0,\n",
       "                0.0,\n",
       "                0.0,\n",
       "                0.0,\n",
       "                0.0,\n",
       "                0.0,\n",
       "                0.0,\n",
       "                0.0,\n",
       "                0.0,\n",
       "                0.0],\n",
       "               'due_day': (18, 15),\n",
       "               'expire_promo': datetime.datetime(2018, 10, 18, 0, 0),\n",
       "               'minimum_payment': 25,\n",
       "               'paid_off': True,\n",
       "               'showball': True,\n",
       "               'starting_balance': 1066.67}),\n",
       "             ('Citi Card Hard Drives',\n",
       "              {'balance': [1307.33,\n",
       "                1307.33,\n",
       "                1282.33,\n",
       "                1282.33,\n",
       "                1257.33,\n",
       "                1257.33,\n",
       "                1232.33,\n",
       "                1151.3200000000002,\n",
       "                335.97000000000014,\n",
       "                182.35000000000025,\n",
       "                0.0,\n",
       "                0.0,\n",
       "                0.0,\n",
       "                0.0,\n",
       "                0.0,\n",
       "                0.0,\n",
       "                0.0,\n",
       "                0.0,\n",
       "                0.0,\n",
       "                0.0,\n",
       "                0.0,\n",
       "                0.0,\n",
       "                0.0,\n",
       "                0.0,\n",
       "                0.0,\n",
       "                0.0,\n",
       "                0.0,\n",
       "                0.0,\n",
       "                0.0,\n",
       "                0.0,\n",
       "                0.0,\n",
       "                0.0,\n",
       "                0.0,\n",
       "                0.0,\n",
       "                0.0,\n",
       "                0.0,\n",
       "                0.0,\n",
       "                0.0,\n",
       "                0.0,\n",
       "                0.0,\n",
       "                0.0,\n",
       "                0.0,\n",
       "                0.0,\n",
       "                0.0,\n",
       "                0.0,\n",
       "                0.0,\n",
       "                0.0,\n",
       "                0.0,\n",
       "                0.0,\n",
       "                0.0,\n",
       "                0.0,\n",
       "                0.0,\n",
       "                0.0,\n",
       "                0.0,\n",
       "                0.0,\n",
       "                0.0,\n",
       "                0.0,\n",
       "                0.0,\n",
       "                0.0,\n",
       "                0.0,\n",
       "                0.0],\n",
       "               'due_day': (17, 15),\n",
       "               'expire_promo': datetime.datetime(2018, 12, 14, 0, 0),\n",
       "               'minimum_payment': 25,\n",
       "               'paid_off': True,\n",
       "               'showball': True,\n",
       "               'starting_balance': 1307.33}),\n",
       "             ('WellsFargo Computer',\n",
       "              {'balance': [1313.31,\n",
       "                1313.31,\n",
       "                1249.6599999999999,\n",
       "                1249.6599999999999,\n",
       "                1186.0099999999998,\n",
       "                1186.0099999999998,\n",
       "                1122.3599999999997,\n",
       "                1122.3599999999997,\n",
       "                1058.7099999999996,\n",
       "                1058.7099999999996,\n",
       "                362.05999999999983,\n",
       "                208.43999999999994,\n",
       "                0.0,\n",
       "                0.0,\n",
       "                0.0,\n",
       "                0.0,\n",
       "                0.0,\n",
       "                0.0,\n",
       "                0.0,\n",
       "                0.0,\n",
       "                0.0,\n",
       "                0.0,\n",
       "                0.0,\n",
       "                0.0,\n",
       "                0.0,\n",
       "                0.0,\n",
       "                0.0,\n",
       "                0.0,\n",
       "                0.0,\n",
       "                0.0,\n",
       "                0.0,\n",
       "                0.0,\n",
       "                0.0,\n",
       "                0.0,\n",
       "                0.0,\n",
       "                0.0,\n",
       "                0.0,\n",
       "                0.0,\n",
       "                0.0,\n",
       "                0.0,\n",
       "                0.0,\n",
       "                0.0,\n",
       "                0.0,\n",
       "                0.0,\n",
       "                0.0,\n",
       "                0.0,\n",
       "                0.0,\n",
       "                0.0,\n",
       "                0.0,\n",
       "                0.0,\n",
       "                0.0,\n",
       "                0.0,\n",
       "                0.0,\n",
       "                0.0,\n",
       "                0.0,\n",
       "                0.0,\n",
       "                0.0,\n",
       "                0.0,\n",
       "                0.0,\n",
       "                0.0,\n",
       "                0.0],\n",
       "               'due_day': (18, 15),\n",
       "               'expire_promo': datetime.datetime(2019, 2, 21, 0, 0),\n",
       "               'minimum_payment': 63.65,\n",
       "               'paid_off': True,\n",
       "               'showball': True,\n",
       "               'starting_balance': 1313.31}),\n",
       "             ('WellsFargo A/C',\n",
       "              {'balance': [5884.56,\n",
       "                5627.56,\n",
       "                5627.56,\n",
       "                5370.56,\n",
       "                5370.56,\n",
       "                5113.56,\n",
       "                5113.56,\n",
       "                4856.56,\n",
       "                4856.56,\n",
       "                4599.56,\n",
       "                4599.56,\n",
       "                4342.56,\n",
       "                3016.0000000000005,\n",
       "                2605.3800000000006,\n",
       "                800.3800000000006,\n",
       "                389.7600000000007,\n",
       "                0.0,\n",
       "                0.0,\n",
       "                0.0,\n",
       "                0.0,\n",
       "                0.0,\n",
       "                0.0,\n",
       "                0.0,\n",
       "                0.0,\n",
       "                0.0,\n",
       "                0.0,\n",
       "                0.0,\n",
       "                0.0,\n",
       "                0.0,\n",
       "                0.0,\n",
       "                0.0,\n",
       "                0.0,\n",
       "                0.0,\n",
       "                0.0,\n",
       "                0.0,\n",
       "                0.0,\n",
       "                0.0,\n",
       "                0.0,\n",
       "                0.0,\n",
       "                0.0,\n",
       "                0.0,\n",
       "                0.0,\n",
       "                0.0,\n",
       "                0.0,\n",
       "                0.0,\n",
       "                0.0,\n",
       "                0.0,\n",
       "                0.0,\n",
       "                0.0,\n",
       "                0.0,\n",
       "                0.0,\n",
       "                0.0,\n",
       "                0.0,\n",
       "                0.0,\n",
       "                0.0,\n",
       "                0.0,\n",
       "                0.0,\n",
       "                0.0,\n",
       "                0.0,\n",
       "                0.0,\n",
       "                0.0],\n",
       "               'due_day': (8, 30),\n",
       "               'expire_promo': datetime.datetime(2020, 1, 30, 0, 0),\n",
       "               'minimum_payment': 257,\n",
       "               'paid_off': True,\n",
       "               'showball': True,\n",
       "               'starting_balance': 5884.56}),\n",
       "             ('Synchrony Bank Home Zone',\n",
       "              {'balance': [3612.73,\n",
       "                3612.73,\n",
       "                3527.73,\n",
       "                3527.73,\n",
       "                3442.73,\n",
       "                3442.73,\n",
       "                3357.73,\n",
       "                3357.73,\n",
       "                3272.73,\n",
       "                3272.73,\n",
       "                3187.73,\n",
       "                3187.73,\n",
       "                3102.73,\n",
       "                3102.73,\n",
       "                3017.73,\n",
       "                3017.73,\n",
       "                1517.4900000000007,\n",
       "                1106.8700000000008,\n",
       "                0.0,\n",
       "                0.0,\n",
       "                0.0,\n",
       "                0.0,\n",
       "                0.0,\n",
       "                0.0,\n",
       "                0.0,\n",
       "                0.0,\n",
       "                0.0,\n",
       "                0.0,\n",
       "                0.0,\n",
       "                0.0,\n",
       "                0.0,\n",
       "                0.0,\n",
       "                0.0,\n",
       "                0.0,\n",
       "                0.0,\n",
       "                0.0,\n",
       "                0.0,\n",
       "                0.0,\n",
       "                0.0,\n",
       "                0.0,\n",
       "                0.0,\n",
       "                0.0,\n",
       "                0.0,\n",
       "                0.0,\n",
       "                0.0,\n",
       "                0.0,\n",
       "                0.0,\n",
       "                0.0,\n",
       "                0.0,\n",
       "                0.0,\n",
       "                0.0,\n",
       "                0.0,\n",
       "                0.0,\n",
       "                0.0,\n",
       "                0.0,\n",
       "                0.0,\n",
       "                0.0,\n",
       "                0.0,\n",
       "                0.0,\n",
       "                0.0,\n",
       "                0.0],\n",
       "               'due_day': (15, 15),\n",
       "               'expire_promo': datetime.datetime(2021, 7, 3, 0, 0),\n",
       "               'minimum_payment': 85,\n",
       "               'paid_off': True,\n",
       "               'showball': True,\n",
       "               'starting_balance': 3612.73}),\n",
       "             ('House Payment',\n",
       "              {'balance': [84509.45,\n",
       "                83569.76,\n",
       "                83569.76,\n",
       "                82090.37999999999,\n",
       "                82090.37999999999,\n",
       "                80610.99999999999,\n",
       "                80610.99999999999,\n",
       "                79131.61999999998,\n",
       "                79131.61999999998,\n",
       "                77652.23999999998,\n",
       "                77652.23999999998,\n",
       "                76172.85999999997,\n",
       "                76172.85999999997,\n",
       "                74693.47999999997,\n",
       "                74693.47999999997,\n",
       "                73214.09999999996,\n",
       "                73214.09999999996,\n",
       "                71734.71999999996,\n",
       "                70951.58999999995,\n",
       "                69061.58999999995,\n",
       "                67171.58999999995,\n",
       "                65281.589999999946,\n",
       "                63391.589999999946,\n",
       "                61501.589999999946,\n",
       "                59611.589999999946,\n",
       "                57721.589999999946,\n",
       "                55831.589999999946,\n",
       "                53941.589999999946,\n",
       "                52051.589999999946,\n",
       "                50161.589999999946,\n",
       "                48271.589999999946,\n",
       "                46381.589999999946,\n",
       "                44491.589999999946,\n",
       "                42601.589999999946,\n",
       "                40711.589999999946,\n",
       "                38821.589999999946,\n",
       "                36931.589999999946,\n",
       "                35041.589999999946,\n",
       "                33151.589999999946,\n",
       "                31261.589999999946,\n",
       "                29371.589999999946,\n",
       "                27481.589999999946,\n",
       "                25591.589999999946,\n",
       "                23701.589999999946,\n",
       "                21811.589999999946,\n",
       "                19921.589999999946,\n",
       "                18031.589999999946,\n",
       "                16141.589999999946,\n",
       "                14251.589999999946,\n",
       "                12361.589999999946,\n",
       "                10471.589999999946,\n",
       "                8581.589999999946,\n",
       "                6691.589999999946,\n",
       "                4801.589999999946,\n",
       "                2911.5899999999456,\n",
       "                1021.5899999999456,\n",
       "                0.0,\n",
       "                0.0,\n",
       "                0.0,\n",
       "                0.0,\n",
       "                0.0],\n",
       "               'due_day': (1, 30),\n",
       "               'expire_promo': datetime.datetime(2032, 2, 1, 0, 0),\n",
       "               'minimum_payment': 1479.38,\n",
       "               'paid_off': True,\n",
       "               'showball': True,\n",
       "               'starting_balance': 84509.45}),\n",
       "             ('Self_pay',\n",
       "              {'balance': [5000,\n",
       "                4990,\n",
       "                4980,\n",
       "                4970,\n",
       "                4960,\n",
       "                4950,\n",
       "                4940,\n",
       "                4930,\n",
       "                4920,\n",
       "                4910,\n",
       "                4900,\n",
       "                4890,\n",
       "                4880,\n",
       "                4870,\n",
       "                4860,\n",
       "                4850,\n",
       "                4840,\n",
       "                4830,\n",
       "                4820,\n",
       "                4810,\n",
       "                4800,\n",
       "                4790,\n",
       "                4780,\n",
       "                4770,\n",
       "                4760,\n",
       "                4750,\n",
       "                4740,\n",
       "                4730,\n",
       "                4720,\n",
       "                4710,\n",
       "                4700,\n",
       "                4690,\n",
       "                4680,\n",
       "                4670,\n",
       "                4660,\n",
       "                4650,\n",
       "                4640,\n",
       "                4630,\n",
       "                4620,\n",
       "                4610,\n",
       "                4600,\n",
       "                4590,\n",
       "                4580,\n",
       "                4570,\n",
       "                4560,\n",
       "                4550,\n",
       "                4540,\n",
       "                4530,\n",
       "                4520,\n",
       "                4510,\n",
       "                4500,\n",
       "                4490,\n",
       "                4480,\n",
       "                4470,\n",
       "                4460,\n",
       "                4450,\n",
       "                4440,\n",
       "                4430,\n",
       "                4420,\n",
       "                4410,\n",
       "                4400],\n",
       "               'due_day': (15, (15, 30)),\n",
       "               'expire_promo': datetime.datetime(2099, 1, 15, 0, 0),\n",
       "               'minimum_payment': 10,\n",
       "               'paid_off': False,\n",
       "               'showball': False,\n",
       "               'starting_balance': 5000})])"
      ]
     },
     "execution_count": 6,
     "metadata": {},
     "output_type": "execute_result"
    }
   ],
   "source": [
    "bills"
   ]
  },
  {
   "cell_type": "code",
   "execution_count": 7,
   "metadata": {},
   "outputs": [
    {
     "data": {
      "text/plain": [
       "['Synchrony Computer',\n",
       " 'EF Tours Nina',\n",
       " 'EF Tours Lena',\n",
       " 'Chase Mary Kay',\n",
       " 'Home depot Door/Fans',\n",
       " 'Citi Card Hard Drives',\n",
       " 'WellsFargo Computer',\n",
       " 'WellsFargo A/C',\n",
       " 'Synchrony Bank Home Zone',\n",
       " 'House Payment',\n",
       " 'Self_pay']"
      ]
     },
     "execution_count": 7,
     "metadata": {},
     "output_type": "execute_result"
    }
   ],
   "source": [
    "list_of_dataframes = []\n",
    "list_of_bills = []\n",
    "\n",
    "for bill in bills:\n",
    "    list_of_dataframes.append(pd.DataFrame(bills[bill]['balance']))\n",
    "    list_of_bills.append(bill)\n",
    "    \n",
    "list_of_bills"
   ]
  },
  {
   "cell_type": "code",
   "execution_count": 8,
   "metadata": {},
   "outputs": [],
   "source": [
    "df = pd.concat(list_of_dataframes, axis=1)"
   ]
  },
  {
   "cell_type": "code",
   "execution_count": 9,
   "metadata": {},
   "outputs": [],
   "source": [
    "df.columns = list_of_bills"
   ]
  },
  {
   "cell_type": "code",
   "execution_count": 10,
   "metadata": {},
   "outputs": [
    {
     "data": {
      "text/plain": [
       "61"
      ]
     },
     "execution_count": 10,
     "metadata": {},
     "output_type": "execute_result"
    }
   ],
   "source": [
    "len(df)"
   ]
  },
  {
   "cell_type": "code",
   "execution_count": 11,
   "metadata": {},
   "outputs": [],
   "source": [
    "df['dates'] = dates"
   ]
  },
  {
   "cell_type": "code",
   "execution_count": 12,
   "metadata": {},
   "outputs": [],
   "source": [
    "df.loc[:, \"Self_pay\"] = abs(df.loc[:, \"Self_pay\"] - 5000)"
   ]
  },
  {
   "cell_type": "code",
   "execution_count": 13,
   "metadata": {},
   "outputs": [
    {
     "data": {
      "text/plain": [
       "600"
      ]
     },
     "execution_count": 13,
     "metadata": {},
     "output_type": "execute_result"
    }
   ],
   "source": [
    "savings['balance']"
   ]
  },
  {
   "cell_type": "code",
   "execution_count": 14,
   "metadata": {
    "scrolled": false
   },
   "outputs": [
    {
     "data": {
      "text/html": [
       "<div>\n",
       "<style>\n",
       "    .dataframe thead tr:only-child th {\n",
       "        text-align: right;\n",
       "    }\n",
       "\n",
       "    .dataframe thead th {\n",
       "        text-align: left;\n",
       "    }\n",
       "\n",
       "    .dataframe tbody tr th {\n",
       "        vertical-align: top;\n",
       "    }\n",
       "</style>\n",
       "<table border=\"1\" class=\"dataframe\">\n",
       "  <thead>\n",
       "    <tr style=\"text-align: right;\">\n",
       "      <th></th>\n",
       "      <th>Synchrony Computer</th>\n",
       "      <th>EF Tours Nina</th>\n",
       "      <th>EF Tours Lena</th>\n",
       "      <th>Chase Mary Kay</th>\n",
       "      <th>Home depot Door/Fans</th>\n",
       "      <th>Citi Card Hard Drives</th>\n",
       "      <th>WellsFargo Computer</th>\n",
       "      <th>WellsFargo A/C</th>\n",
       "      <th>Synchrony Bank Home Zone</th>\n",
       "      <th>House Payment</th>\n",
       "      <th>Self_pay</th>\n",
       "    </tr>\n",
       "    <tr>\n",
       "      <th>dates</th>\n",
       "      <th></th>\n",
       "      <th></th>\n",
       "      <th></th>\n",
       "      <th></th>\n",
       "      <th></th>\n",
       "      <th></th>\n",
       "      <th></th>\n",
       "      <th></th>\n",
       "      <th></th>\n",
       "      <th></th>\n",
       "      <th></th>\n",
       "    </tr>\n",
       "  </thead>\n",
       "  <tbody>\n",
       "    <tr>\n",
       "      <th>2018-01-31</th>\n",
       "      <td>1275.57</td>\n",
       "      <td>2450</td>\n",
       "      <td>2450</td>\n",
       "      <td>1101.97</td>\n",
       "      <td>1066.67</td>\n",
       "      <td>1307.33</td>\n",
       "      <td>1313.31</td>\n",
       "      <td>5884.56</td>\n",
       "      <td>3612.73</td>\n",
       "      <td>84509.45</td>\n",
       "      <td>0</td>\n",
       "    </tr>\n",
       "    <tr>\n",
       "      <th>2018-02-15</th>\n",
       "      <td>607.26</td>\n",
       "      <td>2450</td>\n",
       "      <td>2450</td>\n",
       "      <td>1076.97</td>\n",
       "      <td>1066.67</td>\n",
       "      <td>1307.33</td>\n",
       "      <td>1313.31</td>\n",
       "      <td>5627.56</td>\n",
       "      <td>3612.73</td>\n",
       "      <td>83569.76</td>\n",
       "      <td>10</td>\n",
       "    </tr>\n",
       "    <tr>\n",
       "      <th>2018-02-28</th>\n",
       "      <td>166.91</td>\n",
       "      <td>1960</td>\n",
       "      <td>2014</td>\n",
       "      <td>1076.97</td>\n",
       "      <td>716.67</td>\n",
       "      <td>1282.33</td>\n",
       "      <td>1249.66</td>\n",
       "      <td>5627.56</td>\n",
       "      <td>3527.73</td>\n",
       "      <td>83569.76</td>\n",
       "      <td>20</td>\n",
       "    </tr>\n",
       "    <tr>\n",
       "      <th>2018-03-15</th>\n",
       "      <td>38.29</td>\n",
       "      <td>1960</td>\n",
       "      <td>2014</td>\n",
       "      <td>1051.97</td>\n",
       "      <td>716.67</td>\n",
       "      <td>1282.33</td>\n",
       "      <td>1249.66</td>\n",
       "      <td>5370.56</td>\n",
       "      <td>3527.73</td>\n",
       "      <td>82090.38</td>\n",
       "      <td>30</td>\n",
       "    </tr>\n",
       "    <tr>\n",
       "      <th>2018-03-31</th>\n",
       "      <td>0.00</td>\n",
       "      <td>1470</td>\n",
       "      <td>1578</td>\n",
       "      <td>324.91</td>\n",
       "      <td>691.67</td>\n",
       "      <td>1257.33</td>\n",
       "      <td>1186.01</td>\n",
       "      <td>5370.56</td>\n",
       "      <td>3442.73</td>\n",
       "      <td>82090.38</td>\n",
       "      <td>40</td>\n",
       "    </tr>\n",
       "    <tr>\n",
       "      <th>2018-04-15</th>\n",
       "      <td>0.00</td>\n",
       "      <td>1470</td>\n",
       "      <td>1578</td>\n",
       "      <td>171.29</td>\n",
       "      <td>691.67</td>\n",
       "      <td>1257.33</td>\n",
       "      <td>1186.01</td>\n",
       "      <td>5113.56</td>\n",
       "      <td>3442.73</td>\n",
       "      <td>80611.00</td>\n",
       "      <td>50</td>\n",
       "    </tr>\n",
       "    <tr>\n",
       "      <th>2018-04-30</th>\n",
       "      <td>0.00</td>\n",
       "      <td>980</td>\n",
       "      <td>1142</td>\n",
       "      <td>0.00</td>\n",
       "      <td>72.61</td>\n",
       "      <td>1232.33</td>\n",
       "      <td>1122.36</td>\n",
       "      <td>5113.56</td>\n",
       "      <td>3357.73</td>\n",
       "      <td>80611.00</td>\n",
       "      <td>60</td>\n",
       "    </tr>\n",
       "    <tr>\n",
       "      <th>2018-05-15</th>\n",
       "      <td>0.00</td>\n",
       "      <td>980</td>\n",
       "      <td>1142</td>\n",
       "      <td>0.00</td>\n",
       "      <td>0.00</td>\n",
       "      <td>1151.32</td>\n",
       "      <td>1122.36</td>\n",
       "      <td>4856.56</td>\n",
       "      <td>3357.73</td>\n",
       "      <td>79131.62</td>\n",
       "      <td>70</td>\n",
       "    </tr>\n",
       "    <tr>\n",
       "      <th>2018-05-31</th>\n",
       "      <td>0.00</td>\n",
       "      <td>490</td>\n",
       "      <td>706</td>\n",
       "      <td>0.00</td>\n",
       "      <td>0.00</td>\n",
       "      <td>335.97</td>\n",
       "      <td>1058.71</td>\n",
       "      <td>4856.56</td>\n",
       "      <td>3272.73</td>\n",
       "      <td>79131.62</td>\n",
       "      <td>80</td>\n",
       "    </tr>\n",
       "    <tr>\n",
       "      <th>2018-06-15</th>\n",
       "      <td>0.00</td>\n",
       "      <td>490</td>\n",
       "      <td>706</td>\n",
       "      <td>0.00</td>\n",
       "      <td>0.00</td>\n",
       "      <td>182.35</td>\n",
       "      <td>1058.71</td>\n",
       "      <td>4599.56</td>\n",
       "      <td>3272.73</td>\n",
       "      <td>77652.24</td>\n",
       "      <td>90</td>\n",
       "    </tr>\n",
       "    <tr>\n",
       "      <th>2018-06-30</th>\n",
       "      <td>0.00</td>\n",
       "      <td>0</td>\n",
       "      <td>270</td>\n",
       "      <td>0.00</td>\n",
       "      <td>0.00</td>\n",
       "      <td>0.00</td>\n",
       "      <td>362.06</td>\n",
       "      <td>4599.56</td>\n",
       "      <td>3187.73</td>\n",
       "      <td>77652.24</td>\n",
       "      <td>100</td>\n",
       "    </tr>\n",
       "    <tr>\n",
       "      <th>2018-07-15</th>\n",
       "      <td>0.00</td>\n",
       "      <td>0</td>\n",
       "      <td>270</td>\n",
       "      <td>0.00</td>\n",
       "      <td>0.00</td>\n",
       "      <td>0.00</td>\n",
       "      <td>208.44</td>\n",
       "      <td>4342.56</td>\n",
       "      <td>3187.73</td>\n",
       "      <td>76172.86</td>\n",
       "      <td>110</td>\n",
       "    </tr>\n",
       "    <tr>\n",
       "      <th>2018-07-31</th>\n",
       "      <td>0.00</td>\n",
       "      <td>0</td>\n",
       "      <td>0</td>\n",
       "      <td>0.00</td>\n",
       "      <td>0.00</td>\n",
       "      <td>0.00</td>\n",
       "      <td>0.00</td>\n",
       "      <td>3016.00</td>\n",
       "      <td>3102.73</td>\n",
       "      <td>76172.86</td>\n",
       "      <td>120</td>\n",
       "    </tr>\n",
       "    <tr>\n",
       "      <th>2018-08-15</th>\n",
       "      <td>0.00</td>\n",
       "      <td>0</td>\n",
       "      <td>0</td>\n",
       "      <td>0.00</td>\n",
       "      <td>0.00</td>\n",
       "      <td>0.00</td>\n",
       "      <td>0.00</td>\n",
       "      <td>2605.38</td>\n",
       "      <td>3102.73</td>\n",
       "      <td>74693.48</td>\n",
       "      <td>130</td>\n",
       "    </tr>\n",
       "    <tr>\n",
       "      <th>2018-08-31</th>\n",
       "      <td>0.00</td>\n",
       "      <td>0</td>\n",
       "      <td>0</td>\n",
       "      <td>0.00</td>\n",
       "      <td>0.00</td>\n",
       "      <td>0.00</td>\n",
       "      <td>0.00</td>\n",
       "      <td>800.38</td>\n",
       "      <td>3017.73</td>\n",
       "      <td>74693.48</td>\n",
       "      <td>140</td>\n",
       "    </tr>\n",
       "    <tr>\n",
       "      <th>2018-09-15</th>\n",
       "      <td>0.00</td>\n",
       "      <td>0</td>\n",
       "      <td>0</td>\n",
       "      <td>0.00</td>\n",
       "      <td>0.00</td>\n",
       "      <td>0.00</td>\n",
       "      <td>0.00</td>\n",
       "      <td>389.76</td>\n",
       "      <td>3017.73</td>\n",
       "      <td>73214.10</td>\n",
       "      <td>150</td>\n",
       "    </tr>\n",
       "    <tr>\n",
       "      <th>2018-09-30</th>\n",
       "      <td>0.00</td>\n",
       "      <td>0</td>\n",
       "      <td>0</td>\n",
       "      <td>0.00</td>\n",
       "      <td>0.00</td>\n",
       "      <td>0.00</td>\n",
       "      <td>0.00</td>\n",
       "      <td>0.00</td>\n",
       "      <td>1517.49</td>\n",
       "      <td>73214.10</td>\n",
       "      <td>160</td>\n",
       "    </tr>\n",
       "    <tr>\n",
       "      <th>2018-10-15</th>\n",
       "      <td>0.00</td>\n",
       "      <td>0</td>\n",
       "      <td>0</td>\n",
       "      <td>0.00</td>\n",
       "      <td>0.00</td>\n",
       "      <td>0.00</td>\n",
       "      <td>0.00</td>\n",
       "      <td>0.00</td>\n",
       "      <td>1106.87</td>\n",
       "      <td>71734.72</td>\n",
       "      <td>170</td>\n",
       "    </tr>\n",
       "    <tr>\n",
       "      <th>2018-10-31</th>\n",
       "      <td>0.00</td>\n",
       "      <td>0</td>\n",
       "      <td>0</td>\n",
       "      <td>0.00</td>\n",
       "      <td>0.00</td>\n",
       "      <td>0.00</td>\n",
       "      <td>0.00</td>\n",
       "      <td>0.00</td>\n",
       "      <td>0.00</td>\n",
       "      <td>70951.59</td>\n",
       "      <td>180</td>\n",
       "    </tr>\n",
       "    <tr>\n",
       "      <th>2018-11-15</th>\n",
       "      <td>0.00</td>\n",
       "      <td>0</td>\n",
       "      <td>0</td>\n",
       "      <td>0.00</td>\n",
       "      <td>0.00</td>\n",
       "      <td>0.00</td>\n",
       "      <td>0.00</td>\n",
       "      <td>0.00</td>\n",
       "      <td>0.00</td>\n",
       "      <td>69061.59</td>\n",
       "      <td>190</td>\n",
       "    </tr>\n",
       "    <tr>\n",
       "      <th>2018-11-30</th>\n",
       "      <td>0.00</td>\n",
       "      <td>0</td>\n",
       "      <td>0</td>\n",
       "      <td>0.00</td>\n",
       "      <td>0.00</td>\n",
       "      <td>0.00</td>\n",
       "      <td>0.00</td>\n",
       "      <td>0.00</td>\n",
       "      <td>0.00</td>\n",
       "      <td>67171.59</td>\n",
       "      <td>200</td>\n",
       "    </tr>\n",
       "    <tr>\n",
       "      <th>2018-12-15</th>\n",
       "      <td>0.00</td>\n",
       "      <td>0</td>\n",
       "      <td>0</td>\n",
       "      <td>0.00</td>\n",
       "      <td>0.00</td>\n",
       "      <td>0.00</td>\n",
       "      <td>0.00</td>\n",
       "      <td>0.00</td>\n",
       "      <td>0.00</td>\n",
       "      <td>65281.59</td>\n",
       "      <td>210</td>\n",
       "    </tr>\n",
       "    <tr>\n",
       "      <th>2018-12-31</th>\n",
       "      <td>0.00</td>\n",
       "      <td>0</td>\n",
       "      <td>0</td>\n",
       "      <td>0.00</td>\n",
       "      <td>0.00</td>\n",
       "      <td>0.00</td>\n",
       "      <td>0.00</td>\n",
       "      <td>0.00</td>\n",
       "      <td>0.00</td>\n",
       "      <td>63391.59</td>\n",
       "      <td>220</td>\n",
       "    </tr>\n",
       "    <tr>\n",
       "      <th>2019-01-15</th>\n",
       "      <td>0.00</td>\n",
       "      <td>0</td>\n",
       "      <td>0</td>\n",
       "      <td>0.00</td>\n",
       "      <td>0.00</td>\n",
       "      <td>0.00</td>\n",
       "      <td>0.00</td>\n",
       "      <td>0.00</td>\n",
       "      <td>0.00</td>\n",
       "      <td>61501.59</td>\n",
       "      <td>230</td>\n",
       "    </tr>\n",
       "    <tr>\n",
       "      <th>2019-01-31</th>\n",
       "      <td>0.00</td>\n",
       "      <td>0</td>\n",
       "      <td>0</td>\n",
       "      <td>0.00</td>\n",
       "      <td>0.00</td>\n",
       "      <td>0.00</td>\n",
       "      <td>0.00</td>\n",
       "      <td>0.00</td>\n",
       "      <td>0.00</td>\n",
       "      <td>59611.59</td>\n",
       "      <td>240</td>\n",
       "    </tr>\n",
       "    <tr>\n",
       "      <th>2019-02-15</th>\n",
       "      <td>0.00</td>\n",
       "      <td>0</td>\n",
       "      <td>0</td>\n",
       "      <td>0.00</td>\n",
       "      <td>0.00</td>\n",
       "      <td>0.00</td>\n",
       "      <td>0.00</td>\n",
       "      <td>0.00</td>\n",
       "      <td>0.00</td>\n",
       "      <td>57721.59</td>\n",
       "      <td>250</td>\n",
       "    </tr>\n",
       "    <tr>\n",
       "      <th>2019-02-28</th>\n",
       "      <td>0.00</td>\n",
       "      <td>0</td>\n",
       "      <td>0</td>\n",
       "      <td>0.00</td>\n",
       "      <td>0.00</td>\n",
       "      <td>0.00</td>\n",
       "      <td>0.00</td>\n",
       "      <td>0.00</td>\n",
       "      <td>0.00</td>\n",
       "      <td>55831.59</td>\n",
       "      <td>260</td>\n",
       "    </tr>\n",
       "    <tr>\n",
       "      <th>2019-03-15</th>\n",
       "      <td>0.00</td>\n",
       "      <td>0</td>\n",
       "      <td>0</td>\n",
       "      <td>0.00</td>\n",
       "      <td>0.00</td>\n",
       "      <td>0.00</td>\n",
       "      <td>0.00</td>\n",
       "      <td>0.00</td>\n",
       "      <td>0.00</td>\n",
       "      <td>53941.59</td>\n",
       "      <td>270</td>\n",
       "    </tr>\n",
       "    <tr>\n",
       "      <th>2019-03-31</th>\n",
       "      <td>0.00</td>\n",
       "      <td>0</td>\n",
       "      <td>0</td>\n",
       "      <td>0.00</td>\n",
       "      <td>0.00</td>\n",
       "      <td>0.00</td>\n",
       "      <td>0.00</td>\n",
       "      <td>0.00</td>\n",
       "      <td>0.00</td>\n",
       "      <td>52051.59</td>\n",
       "      <td>280</td>\n",
       "    </tr>\n",
       "    <tr>\n",
       "      <th>2019-04-15</th>\n",
       "      <td>0.00</td>\n",
       "      <td>0</td>\n",
       "      <td>0</td>\n",
       "      <td>0.00</td>\n",
       "      <td>0.00</td>\n",
       "      <td>0.00</td>\n",
       "      <td>0.00</td>\n",
       "      <td>0.00</td>\n",
       "      <td>0.00</td>\n",
       "      <td>50161.59</td>\n",
       "      <td>290</td>\n",
       "    </tr>\n",
       "    <tr>\n",
       "      <th>...</th>\n",
       "      <td>...</td>\n",
       "      <td>...</td>\n",
       "      <td>...</td>\n",
       "      <td>...</td>\n",
       "      <td>...</td>\n",
       "      <td>...</td>\n",
       "      <td>...</td>\n",
       "      <td>...</td>\n",
       "      <td>...</td>\n",
       "      <td>...</td>\n",
       "      <td>...</td>\n",
       "    </tr>\n",
       "    <tr>\n",
       "      <th>2019-05-15</th>\n",
       "      <td>0.00</td>\n",
       "      <td>0</td>\n",
       "      <td>0</td>\n",
       "      <td>0.00</td>\n",
       "      <td>0.00</td>\n",
       "      <td>0.00</td>\n",
       "      <td>0.00</td>\n",
       "      <td>0.00</td>\n",
       "      <td>0.00</td>\n",
       "      <td>46381.59</td>\n",
       "      <td>310</td>\n",
       "    </tr>\n",
       "    <tr>\n",
       "      <th>2019-05-31</th>\n",
       "      <td>0.00</td>\n",
       "      <td>0</td>\n",
       "      <td>0</td>\n",
       "      <td>0.00</td>\n",
       "      <td>0.00</td>\n",
       "      <td>0.00</td>\n",
       "      <td>0.00</td>\n",
       "      <td>0.00</td>\n",
       "      <td>0.00</td>\n",
       "      <td>44491.59</td>\n",
       "      <td>320</td>\n",
       "    </tr>\n",
       "    <tr>\n",
       "      <th>2019-06-15</th>\n",
       "      <td>0.00</td>\n",
       "      <td>0</td>\n",
       "      <td>0</td>\n",
       "      <td>0.00</td>\n",
       "      <td>0.00</td>\n",
       "      <td>0.00</td>\n",
       "      <td>0.00</td>\n",
       "      <td>0.00</td>\n",
       "      <td>0.00</td>\n",
       "      <td>42601.59</td>\n",
       "      <td>330</td>\n",
       "    </tr>\n",
       "    <tr>\n",
       "      <th>2019-06-30</th>\n",
       "      <td>0.00</td>\n",
       "      <td>0</td>\n",
       "      <td>0</td>\n",
       "      <td>0.00</td>\n",
       "      <td>0.00</td>\n",
       "      <td>0.00</td>\n",
       "      <td>0.00</td>\n",
       "      <td>0.00</td>\n",
       "      <td>0.00</td>\n",
       "      <td>40711.59</td>\n",
       "      <td>340</td>\n",
       "    </tr>\n",
       "    <tr>\n",
       "      <th>2019-07-15</th>\n",
       "      <td>0.00</td>\n",
       "      <td>0</td>\n",
       "      <td>0</td>\n",
       "      <td>0.00</td>\n",
       "      <td>0.00</td>\n",
       "      <td>0.00</td>\n",
       "      <td>0.00</td>\n",
       "      <td>0.00</td>\n",
       "      <td>0.00</td>\n",
       "      <td>38821.59</td>\n",
       "      <td>350</td>\n",
       "    </tr>\n",
       "    <tr>\n",
       "      <th>2019-07-31</th>\n",
       "      <td>0.00</td>\n",
       "      <td>0</td>\n",
       "      <td>0</td>\n",
       "      <td>0.00</td>\n",
       "      <td>0.00</td>\n",
       "      <td>0.00</td>\n",
       "      <td>0.00</td>\n",
       "      <td>0.00</td>\n",
       "      <td>0.00</td>\n",
       "      <td>36931.59</td>\n",
       "      <td>360</td>\n",
       "    </tr>\n",
       "    <tr>\n",
       "      <th>2019-08-15</th>\n",
       "      <td>0.00</td>\n",
       "      <td>0</td>\n",
       "      <td>0</td>\n",
       "      <td>0.00</td>\n",
       "      <td>0.00</td>\n",
       "      <td>0.00</td>\n",
       "      <td>0.00</td>\n",
       "      <td>0.00</td>\n",
       "      <td>0.00</td>\n",
       "      <td>35041.59</td>\n",
       "      <td>370</td>\n",
       "    </tr>\n",
       "    <tr>\n",
       "      <th>2019-08-31</th>\n",
       "      <td>0.00</td>\n",
       "      <td>0</td>\n",
       "      <td>0</td>\n",
       "      <td>0.00</td>\n",
       "      <td>0.00</td>\n",
       "      <td>0.00</td>\n",
       "      <td>0.00</td>\n",
       "      <td>0.00</td>\n",
       "      <td>0.00</td>\n",
       "      <td>33151.59</td>\n",
       "      <td>380</td>\n",
       "    </tr>\n",
       "    <tr>\n",
       "      <th>2019-09-15</th>\n",
       "      <td>0.00</td>\n",
       "      <td>0</td>\n",
       "      <td>0</td>\n",
       "      <td>0.00</td>\n",
       "      <td>0.00</td>\n",
       "      <td>0.00</td>\n",
       "      <td>0.00</td>\n",
       "      <td>0.00</td>\n",
       "      <td>0.00</td>\n",
       "      <td>31261.59</td>\n",
       "      <td>390</td>\n",
       "    </tr>\n",
       "    <tr>\n",
       "      <th>2019-09-30</th>\n",
       "      <td>0.00</td>\n",
       "      <td>0</td>\n",
       "      <td>0</td>\n",
       "      <td>0.00</td>\n",
       "      <td>0.00</td>\n",
       "      <td>0.00</td>\n",
       "      <td>0.00</td>\n",
       "      <td>0.00</td>\n",
       "      <td>0.00</td>\n",
       "      <td>29371.59</td>\n",
       "      <td>400</td>\n",
       "    </tr>\n",
       "    <tr>\n",
       "      <th>2019-10-15</th>\n",
       "      <td>0.00</td>\n",
       "      <td>0</td>\n",
       "      <td>0</td>\n",
       "      <td>0.00</td>\n",
       "      <td>0.00</td>\n",
       "      <td>0.00</td>\n",
       "      <td>0.00</td>\n",
       "      <td>0.00</td>\n",
       "      <td>0.00</td>\n",
       "      <td>27481.59</td>\n",
       "      <td>410</td>\n",
       "    </tr>\n",
       "    <tr>\n",
       "      <th>2019-10-31</th>\n",
       "      <td>0.00</td>\n",
       "      <td>0</td>\n",
       "      <td>0</td>\n",
       "      <td>0.00</td>\n",
       "      <td>0.00</td>\n",
       "      <td>0.00</td>\n",
       "      <td>0.00</td>\n",
       "      <td>0.00</td>\n",
       "      <td>0.00</td>\n",
       "      <td>25591.59</td>\n",
       "      <td>420</td>\n",
       "    </tr>\n",
       "    <tr>\n",
       "      <th>2019-11-15</th>\n",
       "      <td>0.00</td>\n",
       "      <td>0</td>\n",
       "      <td>0</td>\n",
       "      <td>0.00</td>\n",
       "      <td>0.00</td>\n",
       "      <td>0.00</td>\n",
       "      <td>0.00</td>\n",
       "      <td>0.00</td>\n",
       "      <td>0.00</td>\n",
       "      <td>23701.59</td>\n",
       "      <td>430</td>\n",
       "    </tr>\n",
       "    <tr>\n",
       "      <th>2019-11-30</th>\n",
       "      <td>0.00</td>\n",
       "      <td>0</td>\n",
       "      <td>0</td>\n",
       "      <td>0.00</td>\n",
       "      <td>0.00</td>\n",
       "      <td>0.00</td>\n",
       "      <td>0.00</td>\n",
       "      <td>0.00</td>\n",
       "      <td>0.00</td>\n",
       "      <td>21811.59</td>\n",
       "      <td>440</td>\n",
       "    </tr>\n",
       "    <tr>\n",
       "      <th>2019-12-15</th>\n",
       "      <td>0.00</td>\n",
       "      <td>0</td>\n",
       "      <td>0</td>\n",
       "      <td>0.00</td>\n",
       "      <td>0.00</td>\n",
       "      <td>0.00</td>\n",
       "      <td>0.00</td>\n",
       "      <td>0.00</td>\n",
       "      <td>0.00</td>\n",
       "      <td>19921.59</td>\n",
       "      <td>450</td>\n",
       "    </tr>\n",
       "    <tr>\n",
       "      <th>2019-12-31</th>\n",
       "      <td>0.00</td>\n",
       "      <td>0</td>\n",
       "      <td>0</td>\n",
       "      <td>0.00</td>\n",
       "      <td>0.00</td>\n",
       "      <td>0.00</td>\n",
       "      <td>0.00</td>\n",
       "      <td>0.00</td>\n",
       "      <td>0.00</td>\n",
       "      <td>18031.59</td>\n",
       "      <td>460</td>\n",
       "    </tr>\n",
       "    <tr>\n",
       "      <th>2020-01-15</th>\n",
       "      <td>0.00</td>\n",
       "      <td>0</td>\n",
       "      <td>0</td>\n",
       "      <td>0.00</td>\n",
       "      <td>0.00</td>\n",
       "      <td>0.00</td>\n",
       "      <td>0.00</td>\n",
       "      <td>0.00</td>\n",
       "      <td>0.00</td>\n",
       "      <td>16141.59</td>\n",
       "      <td>470</td>\n",
       "    </tr>\n",
       "    <tr>\n",
       "      <th>2020-01-31</th>\n",
       "      <td>0.00</td>\n",
       "      <td>0</td>\n",
       "      <td>0</td>\n",
       "      <td>0.00</td>\n",
       "      <td>0.00</td>\n",
       "      <td>0.00</td>\n",
       "      <td>0.00</td>\n",
       "      <td>0.00</td>\n",
       "      <td>0.00</td>\n",
       "      <td>14251.59</td>\n",
       "      <td>480</td>\n",
       "    </tr>\n",
       "    <tr>\n",
       "      <th>2020-02-15</th>\n",
       "      <td>0.00</td>\n",
       "      <td>0</td>\n",
       "      <td>0</td>\n",
       "      <td>0.00</td>\n",
       "      <td>0.00</td>\n",
       "      <td>0.00</td>\n",
       "      <td>0.00</td>\n",
       "      <td>0.00</td>\n",
       "      <td>0.00</td>\n",
       "      <td>12361.59</td>\n",
       "      <td>490</td>\n",
       "    </tr>\n",
       "    <tr>\n",
       "      <th>2020-02-29</th>\n",
       "      <td>0.00</td>\n",
       "      <td>0</td>\n",
       "      <td>0</td>\n",
       "      <td>0.00</td>\n",
       "      <td>0.00</td>\n",
       "      <td>0.00</td>\n",
       "      <td>0.00</td>\n",
       "      <td>0.00</td>\n",
       "      <td>0.00</td>\n",
       "      <td>10471.59</td>\n",
       "      <td>500</td>\n",
       "    </tr>\n",
       "    <tr>\n",
       "      <th>2020-03-15</th>\n",
       "      <td>0.00</td>\n",
       "      <td>0</td>\n",
       "      <td>0</td>\n",
       "      <td>0.00</td>\n",
       "      <td>0.00</td>\n",
       "      <td>0.00</td>\n",
       "      <td>0.00</td>\n",
       "      <td>0.00</td>\n",
       "      <td>0.00</td>\n",
       "      <td>8581.59</td>\n",
       "      <td>510</td>\n",
       "    </tr>\n",
       "    <tr>\n",
       "      <th>2020-03-31</th>\n",
       "      <td>0.00</td>\n",
       "      <td>0</td>\n",
       "      <td>0</td>\n",
       "      <td>0.00</td>\n",
       "      <td>0.00</td>\n",
       "      <td>0.00</td>\n",
       "      <td>0.00</td>\n",
       "      <td>0.00</td>\n",
       "      <td>0.00</td>\n",
       "      <td>6691.59</td>\n",
       "      <td>520</td>\n",
       "    </tr>\n",
       "    <tr>\n",
       "      <th>2020-04-15</th>\n",
       "      <td>0.00</td>\n",
       "      <td>0</td>\n",
       "      <td>0</td>\n",
       "      <td>0.00</td>\n",
       "      <td>0.00</td>\n",
       "      <td>0.00</td>\n",
       "      <td>0.00</td>\n",
       "      <td>0.00</td>\n",
       "      <td>0.00</td>\n",
       "      <td>4801.59</td>\n",
       "      <td>530</td>\n",
       "    </tr>\n",
       "    <tr>\n",
       "      <th>2020-04-30</th>\n",
       "      <td>0.00</td>\n",
       "      <td>0</td>\n",
       "      <td>0</td>\n",
       "      <td>0.00</td>\n",
       "      <td>0.00</td>\n",
       "      <td>0.00</td>\n",
       "      <td>0.00</td>\n",
       "      <td>0.00</td>\n",
       "      <td>0.00</td>\n",
       "      <td>2911.59</td>\n",
       "      <td>540</td>\n",
       "    </tr>\n",
       "    <tr>\n",
       "      <th>2020-05-15</th>\n",
       "      <td>0.00</td>\n",
       "      <td>0</td>\n",
       "      <td>0</td>\n",
       "      <td>0.00</td>\n",
       "      <td>0.00</td>\n",
       "      <td>0.00</td>\n",
       "      <td>0.00</td>\n",
       "      <td>0.00</td>\n",
       "      <td>0.00</td>\n",
       "      <td>1021.59</td>\n",
       "      <td>550</td>\n",
       "    </tr>\n",
       "    <tr>\n",
       "      <th>2020-05-31</th>\n",
       "      <td>0.00</td>\n",
       "      <td>0</td>\n",
       "      <td>0</td>\n",
       "      <td>0.00</td>\n",
       "      <td>0.00</td>\n",
       "      <td>0.00</td>\n",
       "      <td>0.00</td>\n",
       "      <td>0.00</td>\n",
       "      <td>0.00</td>\n",
       "      <td>0.00</td>\n",
       "      <td>560</td>\n",
       "    </tr>\n",
       "    <tr>\n",
       "      <th>2020-06-15</th>\n",
       "      <td>0.00</td>\n",
       "      <td>0</td>\n",
       "      <td>0</td>\n",
       "      <td>0.00</td>\n",
       "      <td>0.00</td>\n",
       "      <td>0.00</td>\n",
       "      <td>0.00</td>\n",
       "      <td>0.00</td>\n",
       "      <td>0.00</td>\n",
       "      <td>0.00</td>\n",
       "      <td>570</td>\n",
       "    </tr>\n",
       "    <tr>\n",
       "      <th>2020-06-30</th>\n",
       "      <td>0.00</td>\n",
       "      <td>0</td>\n",
       "      <td>0</td>\n",
       "      <td>0.00</td>\n",
       "      <td>0.00</td>\n",
       "      <td>0.00</td>\n",
       "      <td>0.00</td>\n",
       "      <td>0.00</td>\n",
       "      <td>0.00</td>\n",
       "      <td>0.00</td>\n",
       "      <td>580</td>\n",
       "    </tr>\n",
       "    <tr>\n",
       "      <th>2020-07-15</th>\n",
       "      <td>0.00</td>\n",
       "      <td>0</td>\n",
       "      <td>0</td>\n",
       "      <td>0.00</td>\n",
       "      <td>0.00</td>\n",
       "      <td>0.00</td>\n",
       "      <td>0.00</td>\n",
       "      <td>0.00</td>\n",
       "      <td>0.00</td>\n",
       "      <td>0.00</td>\n",
       "      <td>590</td>\n",
       "    </tr>\n",
       "    <tr>\n",
       "      <th>2020-07-31</th>\n",
       "      <td>0.00</td>\n",
       "      <td>0</td>\n",
       "      <td>0</td>\n",
       "      <td>0.00</td>\n",
       "      <td>0.00</td>\n",
       "      <td>0.00</td>\n",
       "      <td>0.00</td>\n",
       "      <td>0.00</td>\n",
       "      <td>0.00</td>\n",
       "      <td>0.00</td>\n",
       "      <td>600</td>\n",
       "    </tr>\n",
       "  </tbody>\n",
       "</table>\n",
       "<p>61 rows × 11 columns</p>\n",
       "</div>"
      ],
      "text/plain": [
       "            Synchrony Computer  EF Tours Nina  EF Tours Lena  Chase Mary Kay  \\\n",
       "dates                                                                          \n",
       "2018-01-31             1275.57           2450           2450         1101.97   \n",
       "2018-02-15              607.26           2450           2450         1076.97   \n",
       "2018-02-28              166.91           1960           2014         1076.97   \n",
       "2018-03-15               38.29           1960           2014         1051.97   \n",
       "2018-03-31                0.00           1470           1578          324.91   \n",
       "2018-04-15                0.00           1470           1578          171.29   \n",
       "2018-04-30                0.00            980           1142            0.00   \n",
       "2018-05-15                0.00            980           1142            0.00   \n",
       "2018-05-31                0.00            490            706            0.00   \n",
       "2018-06-15                0.00            490            706            0.00   \n",
       "2018-06-30                0.00              0            270            0.00   \n",
       "2018-07-15                0.00              0            270            0.00   \n",
       "2018-07-31                0.00              0              0            0.00   \n",
       "2018-08-15                0.00              0              0            0.00   \n",
       "2018-08-31                0.00              0              0            0.00   \n",
       "2018-09-15                0.00              0              0            0.00   \n",
       "2018-09-30                0.00              0              0            0.00   \n",
       "2018-10-15                0.00              0              0            0.00   \n",
       "2018-10-31                0.00              0              0            0.00   \n",
       "2018-11-15                0.00              0              0            0.00   \n",
       "2018-11-30                0.00              0              0            0.00   \n",
       "2018-12-15                0.00              0              0            0.00   \n",
       "2018-12-31                0.00              0              0            0.00   \n",
       "2019-01-15                0.00              0              0            0.00   \n",
       "2019-01-31                0.00              0              0            0.00   \n",
       "2019-02-15                0.00              0              0            0.00   \n",
       "2019-02-28                0.00              0              0            0.00   \n",
       "2019-03-15                0.00              0              0            0.00   \n",
       "2019-03-31                0.00              0              0            0.00   \n",
       "2019-04-15                0.00              0              0            0.00   \n",
       "...                        ...            ...            ...             ...   \n",
       "2019-05-15                0.00              0              0            0.00   \n",
       "2019-05-31                0.00              0              0            0.00   \n",
       "2019-06-15                0.00              0              0            0.00   \n",
       "2019-06-30                0.00              0              0            0.00   \n",
       "2019-07-15                0.00              0              0            0.00   \n",
       "2019-07-31                0.00              0              0            0.00   \n",
       "2019-08-15                0.00              0              0            0.00   \n",
       "2019-08-31                0.00              0              0            0.00   \n",
       "2019-09-15                0.00              0              0            0.00   \n",
       "2019-09-30                0.00              0              0            0.00   \n",
       "2019-10-15                0.00              0              0            0.00   \n",
       "2019-10-31                0.00              0              0            0.00   \n",
       "2019-11-15                0.00              0              0            0.00   \n",
       "2019-11-30                0.00              0              0            0.00   \n",
       "2019-12-15                0.00              0              0            0.00   \n",
       "2019-12-31                0.00              0              0            0.00   \n",
       "2020-01-15                0.00              0              0            0.00   \n",
       "2020-01-31                0.00              0              0            0.00   \n",
       "2020-02-15                0.00              0              0            0.00   \n",
       "2020-02-29                0.00              0              0            0.00   \n",
       "2020-03-15                0.00              0              0            0.00   \n",
       "2020-03-31                0.00              0              0            0.00   \n",
       "2020-04-15                0.00              0              0            0.00   \n",
       "2020-04-30                0.00              0              0            0.00   \n",
       "2020-05-15                0.00              0              0            0.00   \n",
       "2020-05-31                0.00              0              0            0.00   \n",
       "2020-06-15                0.00              0              0            0.00   \n",
       "2020-06-30                0.00              0              0            0.00   \n",
       "2020-07-15                0.00              0              0            0.00   \n",
       "2020-07-31                0.00              0              0            0.00   \n",
       "\n",
       "            Home depot Door/Fans  Citi Card Hard Drives  WellsFargo Computer  \\\n",
       "dates                                                                          \n",
       "2018-01-31               1066.67                1307.33              1313.31   \n",
       "2018-02-15               1066.67                1307.33              1313.31   \n",
       "2018-02-28                716.67                1282.33              1249.66   \n",
       "2018-03-15                716.67                1282.33              1249.66   \n",
       "2018-03-31                691.67                1257.33              1186.01   \n",
       "2018-04-15                691.67                1257.33              1186.01   \n",
       "2018-04-30                 72.61                1232.33              1122.36   \n",
       "2018-05-15                  0.00                1151.32              1122.36   \n",
       "2018-05-31                  0.00                 335.97              1058.71   \n",
       "2018-06-15                  0.00                 182.35              1058.71   \n",
       "2018-06-30                  0.00                   0.00               362.06   \n",
       "2018-07-15                  0.00                   0.00               208.44   \n",
       "2018-07-31                  0.00                   0.00                 0.00   \n",
       "2018-08-15                  0.00                   0.00                 0.00   \n",
       "2018-08-31                  0.00                   0.00                 0.00   \n",
       "2018-09-15                  0.00                   0.00                 0.00   \n",
       "2018-09-30                  0.00                   0.00                 0.00   \n",
       "2018-10-15                  0.00                   0.00                 0.00   \n",
       "2018-10-31                  0.00                   0.00                 0.00   \n",
       "2018-11-15                  0.00                   0.00                 0.00   \n",
       "2018-11-30                  0.00                   0.00                 0.00   \n",
       "2018-12-15                  0.00                   0.00                 0.00   \n",
       "2018-12-31                  0.00                   0.00                 0.00   \n",
       "2019-01-15                  0.00                   0.00                 0.00   \n",
       "2019-01-31                  0.00                   0.00                 0.00   \n",
       "2019-02-15                  0.00                   0.00                 0.00   \n",
       "2019-02-28                  0.00                   0.00                 0.00   \n",
       "2019-03-15                  0.00                   0.00                 0.00   \n",
       "2019-03-31                  0.00                   0.00                 0.00   \n",
       "2019-04-15                  0.00                   0.00                 0.00   \n",
       "...                          ...                    ...                  ...   \n",
       "2019-05-15                  0.00                   0.00                 0.00   \n",
       "2019-05-31                  0.00                   0.00                 0.00   \n",
       "2019-06-15                  0.00                   0.00                 0.00   \n",
       "2019-06-30                  0.00                   0.00                 0.00   \n",
       "2019-07-15                  0.00                   0.00                 0.00   \n",
       "2019-07-31                  0.00                   0.00                 0.00   \n",
       "2019-08-15                  0.00                   0.00                 0.00   \n",
       "2019-08-31                  0.00                   0.00                 0.00   \n",
       "2019-09-15                  0.00                   0.00                 0.00   \n",
       "2019-09-30                  0.00                   0.00                 0.00   \n",
       "2019-10-15                  0.00                   0.00                 0.00   \n",
       "2019-10-31                  0.00                   0.00                 0.00   \n",
       "2019-11-15                  0.00                   0.00                 0.00   \n",
       "2019-11-30                  0.00                   0.00                 0.00   \n",
       "2019-12-15                  0.00                   0.00                 0.00   \n",
       "2019-12-31                  0.00                   0.00                 0.00   \n",
       "2020-01-15                  0.00                   0.00                 0.00   \n",
       "2020-01-31                  0.00                   0.00                 0.00   \n",
       "2020-02-15                  0.00                   0.00                 0.00   \n",
       "2020-02-29                  0.00                   0.00                 0.00   \n",
       "2020-03-15                  0.00                   0.00                 0.00   \n",
       "2020-03-31                  0.00                   0.00                 0.00   \n",
       "2020-04-15                  0.00                   0.00                 0.00   \n",
       "2020-04-30                  0.00                   0.00                 0.00   \n",
       "2020-05-15                  0.00                   0.00                 0.00   \n",
       "2020-05-31                  0.00                   0.00                 0.00   \n",
       "2020-06-15                  0.00                   0.00                 0.00   \n",
       "2020-06-30                  0.00                   0.00                 0.00   \n",
       "2020-07-15                  0.00                   0.00                 0.00   \n",
       "2020-07-31                  0.00                   0.00                 0.00   \n",
       "\n",
       "            WellsFargo A/C  Synchrony Bank Home Zone  House Payment  Self_pay  \n",
       "dates                                                                          \n",
       "2018-01-31         5884.56                   3612.73       84509.45         0  \n",
       "2018-02-15         5627.56                   3612.73       83569.76        10  \n",
       "2018-02-28         5627.56                   3527.73       83569.76        20  \n",
       "2018-03-15         5370.56                   3527.73       82090.38        30  \n",
       "2018-03-31         5370.56                   3442.73       82090.38        40  \n",
       "2018-04-15         5113.56                   3442.73       80611.00        50  \n",
       "2018-04-30         5113.56                   3357.73       80611.00        60  \n",
       "2018-05-15         4856.56                   3357.73       79131.62        70  \n",
       "2018-05-31         4856.56                   3272.73       79131.62        80  \n",
       "2018-06-15         4599.56                   3272.73       77652.24        90  \n",
       "2018-06-30         4599.56                   3187.73       77652.24       100  \n",
       "2018-07-15         4342.56                   3187.73       76172.86       110  \n",
       "2018-07-31         3016.00                   3102.73       76172.86       120  \n",
       "2018-08-15         2605.38                   3102.73       74693.48       130  \n",
       "2018-08-31          800.38                   3017.73       74693.48       140  \n",
       "2018-09-15          389.76                   3017.73       73214.10       150  \n",
       "2018-09-30            0.00                   1517.49       73214.10       160  \n",
       "2018-10-15            0.00                   1106.87       71734.72       170  \n",
       "2018-10-31            0.00                      0.00       70951.59       180  \n",
       "2018-11-15            0.00                      0.00       69061.59       190  \n",
       "2018-11-30            0.00                      0.00       67171.59       200  \n",
       "2018-12-15            0.00                      0.00       65281.59       210  \n",
       "2018-12-31            0.00                      0.00       63391.59       220  \n",
       "2019-01-15            0.00                      0.00       61501.59       230  \n",
       "2019-01-31            0.00                      0.00       59611.59       240  \n",
       "2019-02-15            0.00                      0.00       57721.59       250  \n",
       "2019-02-28            0.00                      0.00       55831.59       260  \n",
       "2019-03-15            0.00                      0.00       53941.59       270  \n",
       "2019-03-31            0.00                      0.00       52051.59       280  \n",
       "2019-04-15            0.00                      0.00       50161.59       290  \n",
       "...                    ...                       ...            ...       ...  \n",
       "2019-05-15            0.00                      0.00       46381.59       310  \n",
       "2019-05-31            0.00                      0.00       44491.59       320  \n",
       "2019-06-15            0.00                      0.00       42601.59       330  \n",
       "2019-06-30            0.00                      0.00       40711.59       340  \n",
       "2019-07-15            0.00                      0.00       38821.59       350  \n",
       "2019-07-31            0.00                      0.00       36931.59       360  \n",
       "2019-08-15            0.00                      0.00       35041.59       370  \n",
       "2019-08-31            0.00                      0.00       33151.59       380  \n",
       "2019-09-15            0.00                      0.00       31261.59       390  \n",
       "2019-09-30            0.00                      0.00       29371.59       400  \n",
       "2019-10-15            0.00                      0.00       27481.59       410  \n",
       "2019-10-31            0.00                      0.00       25591.59       420  \n",
       "2019-11-15            0.00                      0.00       23701.59       430  \n",
       "2019-11-30            0.00                      0.00       21811.59       440  \n",
       "2019-12-15            0.00                      0.00       19921.59       450  \n",
       "2019-12-31            0.00                      0.00       18031.59       460  \n",
       "2020-01-15            0.00                      0.00       16141.59       470  \n",
       "2020-01-31            0.00                      0.00       14251.59       480  \n",
       "2020-02-15            0.00                      0.00       12361.59       490  \n",
       "2020-02-29            0.00                      0.00       10471.59       500  \n",
       "2020-03-15            0.00                      0.00        8581.59       510  \n",
       "2020-03-31            0.00                      0.00        6691.59       520  \n",
       "2020-04-15            0.00                      0.00        4801.59       530  \n",
       "2020-04-30            0.00                      0.00        2911.59       540  \n",
       "2020-05-15            0.00                      0.00        1021.59       550  \n",
       "2020-05-31            0.00                      0.00           0.00       560  \n",
       "2020-06-15            0.00                      0.00           0.00       570  \n",
       "2020-06-30            0.00                      0.00           0.00       580  \n",
       "2020-07-15            0.00                      0.00           0.00       590  \n",
       "2020-07-31            0.00                      0.00           0.00       600  \n",
       "\n",
       "[61 rows x 11 columns]"
      ]
     },
     "execution_count": 14,
     "metadata": {},
     "output_type": "execute_result"
    }
   ],
   "source": [
    "df.set_index(\"dates\")"
   ]
  }
 ],
 "metadata": {
  "kernelspec": {
   "display_name": "Python 3",
   "language": "python",
   "name": "python3"
  },
  "language_info": {
   "codemirror_mode": {
    "name": "ipython",
    "version": 3
   },
   "file_extension": ".py",
   "mimetype": "text/x-python",
   "name": "python",
   "nbconvert_exporter": "python",
   "pygments_lexer": "ipython3",
   "version": "3.6.3"
  }
 },
 "nbformat": 4,
 "nbformat_minor": 2
}
